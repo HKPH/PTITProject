{
 "cells": [
  {
   "cell_type": "code",
   "execution_count": 87,
   "metadata": {},
   "outputs": [
    {
     "name": "stdout",
     "output_type": "stream",
     "text": [
      "                 User_id  book_id  review/score\n",
      "0  A00109803PZJ91RLT7DPN   134046           5.0\n",
      "1  A00117421L76WVWG4UX95    84912           5.0\n",
      "2   A0015610VMNR0JC9XVL1    51730           5.0\n",
      "3   A0015610VMNR0JC9XVL1    65628           5.0\n",
      "4   A0015610VMNR0JC9XVL1   105456           5.0\n"
     ]
    }
   ],
   "source": [
    "import pandas as pd\n",
    "import re\n",
    "from langdetect import detect\n",
    "\n",
    "# Đọc file dữ liệu\n",
    "books = pd.read_csv('dataset/books.csv')\n",
    "ratings = pd.read_csv('dataset/ratings.csv')\n",
    "\n",
    "print(ratings.head())"
   ]
  },
  {
   "cell_type": "code",
   "execution_count": 88,
   "metadata": {},
   "outputs": [
    {
     "name": "stdout",
     "output_type": "stream",
     "text": [
      "               User_id  book_id  review/score\n",
      "2811     A106016KSI0YQ      528           5.0\n",
      "2812     A106016KSI0YQ     2457           4.0\n",
      "2813     A106016KSI0YQ     3407           2.0\n",
      "2814     A106016KSI0YQ     4191           3.0\n",
      "2815     A106016KSI0YQ     6609           4.0\n",
      "...                ...      ...           ...\n",
      "2113015  AZSV99SDJC242   201547           4.0\n",
      "2113016  AZSV99SDJC242   201753           5.0\n",
      "2113017  AZSV99SDJC242   205200           4.0\n",
      "2113018  AZSV99SDJC242   205262           4.0\n",
      "2113019  AZSV99SDJC242   207728           4.0\n",
      "\n",
      "[253226 rows x 3 columns]\n"
     ]
    }
   ],
   "source": [
    "# Tính số lượng của mỗi User_id\n",
    "user_rating_counts = ratings['User_id'].value_counts()\n",
    "\n",
    "# Lọc ra những User_id có số đánh giá > 20\n",
    "users_with_more_than_20_ratings = user_rating_counts[user_rating_counts > 50].index\n",
    "\n",
    "# Lọc ratings chỉ giữ lại những hàng có User_id nằm trong danh sách trên\n",
    "filtered_ratings = ratings[ratings['User_id'].isin(users_with_more_than_20_ratings)]\n",
    "ratings = filtered_ratings\n",
    "print(ratings)"
   ]
  },
  {
   "cell_type": "code",
   "execution_count": 89,
   "metadata": {},
   "outputs": [
    {
     "name": "stdout",
     "output_type": "stream",
     "text": [
      "        book_id                                              Title  \\\n",
      "78458    117174  The two thousand isles;: A short account of th...   \n",
      "41039     56697                        Noise control for engineers   \n",
      "117463   171425  The Godless and the Infidels: Memoirs of a Ras...   \n",
      "79366    118463  Fetish: Masterpieces of Erotic Fantasy Photogr...   \n",
      "5006       7061     Raw Faith: Nurturing the Believer in All of Us   \n",
      "...         ...                                                ...   \n",
      "24708     33949  Lincoln and the Bluegrass: Slavery and Civil W...   \n",
      "122861   181825  Musical Qigong: Ancient Chinese Healing Art fr...   \n",
      "60028     90097                                   The Perfect Ride   \n",
      "58215     86321                The Infamous Rake (Regency Romance)   \n",
      "18269     25314                              Breakfasts & Brunches   \n",
      "\n",
      "                                              description  \\\n",
      "78458   a short and classic account of the authors tra...   \n",
      "41039   this classic and authoritative student textboo...   \n",
      "117463  in 1918 a caravan of seventyfive thousand help...   \n",
      "79366   fetish collects together for the first time in...   \n",
      "5006    this companion to god hunger explores the fait...   \n",
      "...                                                   ...   \n",
      "24708   the bluegrass region of kentucky was the only ...   \n",
      "122861  musical qigong is a special healing energy the...   \n",
      "60028   more than a racetrack reminiscence this is the...   \n",
      "58215   just a young girl when she fell in love with t...   \n",
      "18269                   lose up to 16 lbs in 14 dayscover   \n",
      "\n",
      "                                                 authors  \\\n",
      "78458                          ['Thomas William Hockly']   \n",
      "41039   ['David A. Bies', 'Colin Hansen', 'Carl Howard']   \n",
      "117463                                ['Harry Artinian']   \n",
      "79366                                  ['Tony Mitchell']   \n",
      "5006                                     ['John Kirvan']   \n",
      "...                                                  ...   \n",
      "24708                            ['William H. Townsend']   \n",
      "122861                                       ['Shen Wu']   \n",
      "60028                 ['Gary Stevens', 'Mervyn Kaufman']   \n",
      "58215                                ['Norma Lee Clark']   \n",
      "18269            ['David Zinczenko', 'Michael Freidson']   \n",
      "\n",
      "                                                    image  \\\n",
      "78458   http://books.google.com/books/content?id=VnNYk...   \n",
      "41039   http://books.google.com/books/content?id=0CBBD...   \n",
      "117463  http://books.google.com/books/content?id=1d_s5...   \n",
      "79366   http://books.google.com/books/content?id=aNemP...   \n",
      "5006    http://books.google.com/books/content?id=JDgCA...   \n",
      "...                                                   ...   \n",
      "24708   http://books.google.com/books/content?id=jeMzE...   \n",
      "122861  http://books.google.com/books/content?id=IauEP...   \n",
      "60028   http://books.google.com/books/content?id=dZA2S...   \n",
      "58215                                                 NaN   \n",
      "18269   http://books.google.com/books/content?id=Oo_bD...   \n",
      "\n",
      "                           publisher publishedDate  \\\n",
      "78458     Asian Educational Services    2003-01-01   \n",
      "41039                      CRC Press           NaN   \n",
      "117463                     iUniverse           NaN   \n",
      "79366          Carlton Books Limited           NaN   \n",
      "5006                             NaN    2000-01-01   \n",
      "...                              ...           ...   \n",
      "24708   University Press of Kentucky           NaN   \n",
      "122861                           NaN    2001-01-01   \n",
      "60028                  Citadel Press           NaN   \n",
      "58215               New Amer Library           NaN   \n",
      "18269                            NaN           NaN   \n",
      "\n",
      "                           categories  \n",
      "78458                     ['History']  \n",
      "41039   ['Technology', 'Engineering']  \n",
      "117463                    ['Fiction']  \n",
      "79366                 ['Photography']  \n",
      "5006                     ['Religion']  \n",
      "...                               ...  \n",
      "24708                     ['History']  \n",
      "122861          ['Health', 'Fitness']  \n",
      "60028        ['Sports', 'Recreation']  \n",
      "58215                     ['Fiction']  \n",
      "18269                     ['Cooking']  \n",
      "\n",
      "[5000 rows x 8 columns]\n",
      "             User_id  book_id  review/score\n",
      "0      A106016KSI0YQ   133113           4.0\n",
      "1     A120MT4EOEP9N1   133113           5.0\n",
      "2     A1BGE3EXIJ42XA   133113           4.0\n",
      "3     A1RAUVCWYHTQI4   133113           4.0\n",
      "4     A1S1O3YT8NS68A   133113           5.0\n",
      "...              ...      ...           ...\n",
      "7023   AYPCUQS6ARWFH   111798           5.0\n",
      "7024   AYPCUQS6ARWFH   114571           4.0\n",
      "7025   AYPTO9U0ZFROE    81582           5.0\n",
      "7026   AZJHIRNFI04WK    86321           5.0\n",
      "7027   AZSV99SDJC242    59942           1.0\n",
      "\n",
      "[7028 rows x 3 columns]\n"
     ]
    }
   ],
   "source": [
    "import pandas as pd\n",
    "import re\n",
    "\n",
    "books = books.sample(n=5000, random_state=2)\n",
    "\n",
    "ratings = ratings.merge(books[['book_id']], on='book_id', how='inner')\n",
    "\n",
    "print(books)\n",
    "print(ratings)"
   ]
  },
  {
   "cell_type": "code",
   "execution_count": 90,
   "metadata": {},
   "outputs": [
    {
     "name": "stdout",
     "output_type": "stream",
     "text": [
      "Kích thước tập train: (5622, 3)\n",
      "Kích thước tập test: (1406, 3)\n"
     ]
    }
   ],
   "source": [
    "from sklearn.model_selection import train_test_split\n",
    "\n",
    "# Chia dữ liệu ratings thành hai tập train và test\n",
    "train, test = train_test_split(ratings, test_size=0.2, random_state=42)\n",
    "\n",
    "# Kiểm tra kích thước của mỗi tập\n",
    "print(\"Kích thước tập train:\", train.shape)\n",
    "print(\"Kích thước tập test:\", test.shape)\n"
   ]
  },
  {
   "cell_type": "code",
   "execution_count": 91,
   "metadata": {},
   "outputs": [],
   "source": [
    "ratings = train"
   ]
  },
  {
   "cell_type": "code",
   "execution_count": 92,
   "metadata": {},
   "outputs": [
    {
     "name": "stdout",
     "output_type": "stream",
     "text": [
      "1676\n"
     ]
    }
   ],
   "source": [
    "all_book_ids = ratings['book_id'].unique().tolist()\n",
    "\n",
    "print(len(all_book_ids))"
   ]
  },
  {
   "cell_type": "code",
   "execution_count": 93,
   "metadata": {},
   "outputs": [],
   "source": [
    "ratings['review/score'] = pd.to_numeric(ratings['review/score'], errors='coerce')\n",
    "ratings = ratings[ratings['User_id'].astype(str).str.strip() != '']\n",
    "ratings = ratings[ratings['User_id'].astype(str).str.strip() != '']\n",
    "\n",
    "ratings = ratings.groupby(['User_id', 'book_id'], as_index=False)['review/score'].mean()\n"
   ]
  },
  {
   "cell_type": "code",
   "execution_count": 94,
   "metadata": {},
   "outputs": [
    {
     "name": "stdout",
     "output_type": "stream",
     "text": [
      "Ma trận đánh giá ban đầu:\n",
      "User_id  A106016KSI0YQ  A106E1N0ZQ4D9W  A107C4RVRF0OP  A10EH95EUDO9W3  \\\n",
      "book_id                                                                 \n",
      "68                 NaN             NaN            NaN             NaN   \n",
      "99                 NaN             NaN            NaN             NaN   \n",
      "275                NaN             NaN            NaN             NaN   \n",
      "293                NaN             NaN            NaN             NaN   \n",
      "428                NaN             NaN            NaN             NaN   \n",
      "...                ...             ...            ...             ...   \n",
      "211031             NaN             NaN            NaN             NaN   \n",
      "211126             NaN             NaN            NaN             NaN   \n",
      "211876             NaN             NaN            NaN             NaN   \n",
      "212042             NaN             NaN            NaN             NaN   \n",
      "212049             NaN             NaN            NaN             NaN   \n",
      "\n",
      "User_id  A10HWJXUG67E7I  A10K3DLOEVMKW3  A10LWBOIZCF2QT  A10VOEBL5S337W  \\\n",
      "book_id                                                                   \n",
      "68                  NaN             NaN             NaN             NaN   \n",
      "99                  NaN             NaN             NaN             NaN   \n",
      "275                 NaN             NaN             NaN             NaN   \n",
      "293                 NaN             NaN             NaN             NaN   \n",
      "428                 NaN             NaN             NaN             NaN   \n",
      "...                 ...             ...             ...             ...   \n",
      "211031              NaN             NaN             NaN             NaN   \n",
      "211126              NaN             NaN             NaN             NaN   \n",
      "211876              NaN             NaN             NaN             NaN   \n",
      "212042              NaN             NaN             NaN             NaN   \n",
      "212049              NaN             NaN             NaN             NaN   \n",
      "\n",
      "User_id  A10Y3OZWENAQ6W  A1129LM24YWSZV  ...  AZ216MK9KO1S0  AZ7QNRPFJ2IW1  \\\n",
      "book_id                                  ...                                 \n",
      "68                  NaN             NaN  ...            NaN            NaN   \n",
      "99                  NaN             NaN  ...            NaN            NaN   \n",
      "275                 NaN             NaN  ...            NaN            NaN   \n",
      "293                 NaN             NaN  ...            NaN            NaN   \n",
      "428                 NaN             NaN  ...            NaN            NaN   \n",
      "...                 ...             ...  ...            ...            ...   \n",
      "211031              NaN             NaN  ...            NaN            NaN   \n",
      "211126              NaN             NaN  ...            NaN            NaN   \n",
      "211876              NaN             NaN  ...            NaN            NaN   \n",
      "212042              NaN             NaN  ...            NaN            NaN   \n",
      "212049              NaN             NaN  ...            NaN            NaN   \n",
      "\n",
      "User_id  AZ85B5Q1UEH5U  AZ8N5BS6476S8  AZF69UA25SAWH  AZFX7FLEHCWXM  \\\n",
      "book_id                                                               \n",
      "68                 NaN            NaN            NaN            NaN   \n",
      "99                 NaN            NaN            NaN            NaN   \n",
      "275                NaN            NaN            NaN            NaN   \n",
      "293                NaN            NaN            NaN            NaN   \n",
      "428                NaN            NaN            NaN            NaN   \n",
      "...                ...            ...            ...            ...   \n",
      "211031             NaN            NaN            NaN            NaN   \n",
      "211126             NaN            NaN            NaN            NaN   \n",
      "211876             NaN            NaN            NaN            NaN   \n",
      "212042             NaN            NaN            NaN            NaN   \n",
      "212049             NaN            NaN            NaN            NaN   \n",
      "\n",
      "User_id  AZI0O32W4ZYGH  AZJHIRNFI04WK  AZSNQ9FYC5SQO  AZSV99SDJC242  \n",
      "book_id                                                              \n",
      "68                 NaN            NaN            NaN            NaN  \n",
      "99                 NaN            NaN            NaN            NaN  \n",
      "275                NaN            NaN            NaN            NaN  \n",
      "293                NaN            NaN            NaN            NaN  \n",
      "428                NaN            NaN            NaN            NaN  \n",
      "...                ...            ...            ...            ...  \n",
      "211031             NaN            NaN            NaN            NaN  \n",
      "211126             NaN            NaN            NaN            NaN  \n",
      "211876             NaN            NaN            NaN            NaN  \n",
      "212042             NaN            NaN            NaN            NaN  \n",
      "212049             NaN            NaN            NaN            NaN  \n",
      "\n",
      "[1676 rows x 1773 columns]\n"
     ]
    }
   ],
   "source": [
    "import pandas as pd\n",
    "\n",
    "def create_user_item_matrix(books_rating_df):\n",
    "    user_item_matrix = books_rating_df.pivot(index='book_id', columns='User_id', values='review/score')\n",
    "\n",
    "    return user_item_matrix\n",
    "\n",
    "user_item_matrix = create_user_item_matrix(ratings)\n",
    "\n",
    "print(\"Ma trận đánh giá ban đầu:\")\n",
    "print(user_item_matrix)\n"
   ]
  },
  {
   "cell_type": "code",
   "execution_count": 95,
   "metadata": {},
   "outputs": [
    {
     "name": "stdout",
     "output_type": "stream",
     "text": [
      "Index([    68,     99,    275,    293,    428,    440,    598,    825,   1121,\n",
      "         1200,\n",
      "       ...\n",
      "       210027, 210451, 210516, 210659, 210677, 211031, 211126, 211876, 212042,\n",
      "       212049],\n",
      "      dtype='int64', name='book_id', length=1676)\n"
     ]
    }
   ],
   "source": [
    "print(user_item_matrix.index)"
   ]
  },
  {
   "cell_type": "code",
   "execution_count": 96,
   "metadata": {},
   "outputs": [
    {
     "name": "stdout",
     "output_type": "stream",
     "text": [
      "\n",
      "Ma trận đánh giá đã chuẩn hóa theo item mean:\n",
      "User_id  A106016KSI0YQ  A106E1N0ZQ4D9W  A107C4RVRF0OP  A10EH95EUDO9W3  \\\n",
      "book_id                                                                 \n",
      "68                 NaN             NaN            NaN             NaN   \n",
      "99                 NaN             NaN            NaN             NaN   \n",
      "275                NaN             NaN            NaN             NaN   \n",
      "293                NaN             NaN            NaN             NaN   \n",
      "428                NaN             NaN            NaN             NaN   \n",
      "...                ...             ...            ...             ...   \n",
      "211031             NaN             NaN            NaN             NaN   \n",
      "211126             NaN             NaN            NaN             NaN   \n",
      "211876             NaN             NaN            NaN             NaN   \n",
      "212042             NaN             NaN            NaN             NaN   \n",
      "212049             NaN             NaN            NaN             NaN   \n",
      "\n",
      "User_id  A10HWJXUG67E7I  A10K3DLOEVMKW3  A10LWBOIZCF2QT  A10VOEBL5S337W  \\\n",
      "book_id                                                                   \n",
      "68                  NaN             NaN             NaN             NaN   \n",
      "99                  NaN             NaN             NaN             NaN   \n",
      "275                 NaN             NaN             NaN             NaN   \n",
      "293                 NaN             NaN             NaN             NaN   \n",
      "428                 NaN             NaN             NaN             NaN   \n",
      "...                 ...             ...             ...             ...   \n",
      "211031              NaN             NaN             NaN             NaN   \n",
      "211126              NaN             NaN             NaN             NaN   \n",
      "211876              NaN             NaN             NaN             NaN   \n",
      "212042              NaN             NaN             NaN             NaN   \n",
      "212049              NaN             NaN             NaN             NaN   \n",
      "\n",
      "User_id  A10Y3OZWENAQ6W  A1129LM24YWSZV  ...  AZ216MK9KO1S0  AZ7QNRPFJ2IW1  \\\n",
      "book_id                                  ...                                 \n",
      "68                  NaN             NaN  ...            NaN            NaN   \n",
      "99                  NaN             NaN  ...            NaN            NaN   \n",
      "275                 NaN             NaN  ...            NaN            NaN   \n",
      "293                 NaN             NaN  ...            NaN            NaN   \n",
      "428                 NaN             NaN  ...            NaN            NaN   \n",
      "...                 ...             ...  ...            ...            ...   \n",
      "211031              NaN             NaN  ...            NaN            NaN   \n",
      "211126              NaN             NaN  ...            NaN            NaN   \n",
      "211876              NaN             NaN  ...            NaN            NaN   \n",
      "212042              NaN             NaN  ...            NaN            NaN   \n",
      "212049              NaN             NaN  ...            NaN            NaN   \n",
      "\n",
      "User_id  AZ85B5Q1UEH5U  AZ8N5BS6476S8  AZF69UA25SAWH  AZFX7FLEHCWXM  \\\n",
      "book_id                                                               \n",
      "68                 NaN            NaN            NaN            NaN   \n",
      "99                 NaN            NaN            NaN            NaN   \n",
      "275                NaN            NaN            NaN            NaN   \n",
      "293                NaN            NaN            NaN            NaN   \n",
      "428                NaN            NaN            NaN            NaN   \n",
      "...                ...            ...            ...            ...   \n",
      "211031             NaN            NaN            NaN            NaN   \n",
      "211126             NaN            NaN            NaN            NaN   \n",
      "211876             NaN            NaN            NaN            NaN   \n",
      "212042             NaN            NaN            NaN            NaN   \n",
      "212049             NaN            NaN            NaN            NaN   \n",
      "\n",
      "User_id  AZI0O32W4ZYGH  AZJHIRNFI04WK  AZSNQ9FYC5SQO  AZSV99SDJC242  \n",
      "book_id                                                              \n",
      "68                 NaN            NaN            NaN            NaN  \n",
      "99                 NaN            NaN            NaN            NaN  \n",
      "275                NaN            NaN            NaN            NaN  \n",
      "293                NaN            NaN            NaN            NaN  \n",
      "428                NaN            NaN            NaN            NaN  \n",
      "...                ...            ...            ...            ...  \n",
      "211031             NaN            NaN            NaN            NaN  \n",
      "211126             NaN            NaN            NaN            NaN  \n",
      "211876             NaN            NaN            NaN            NaN  \n",
      "212042             NaN            NaN            NaN            NaN  \n",
      "212049             NaN            NaN            NaN            NaN  \n",
      "\n",
      "[1676 rows x 1773 columns]\n"
     ]
    }
   ],
   "source": [
    "import pandas as pd\n",
    "\n",
    "def normalize_rating_matrix_by_item(user_item_matrix):\n",
    "    item_mean = user_item_matrix.mean(axis=1, skipna=True)\n",
    "    \n",
    "    normalized_user_item_matrix = user_item_matrix.sub(item_mean, axis=0)\n",
    "    \n",
    "    return normalized_user_item_matrix, item_mean\n",
    "\n",
    "normalized_user_item_matrix, item_mean  = normalize_rating_matrix_by_item(user_item_matrix)\n",
    "\n",
    "print(\"\\nMa trận đánh giá đã chuẩn hóa theo item mean:\")\n",
    "print(normalized_user_item_matrix)\n"
   ]
  },
  {
   "cell_type": "code",
   "execution_count": 97,
   "metadata": {},
   "outputs": [
    {
     "name": "stdout",
     "output_type": "stream",
     "text": [
      "Giá trị trung bình của Book ID 428: 5.0\n"
     ]
    }
   ],
   "source": [
    "# Tạo dictionary ánh xạ book_id đến giá trị trung bình\n",
    "item_mean_dict = item_mean.to_dict()\n",
    "\n",
    "# Hàm để lấy giá trị trung bình của một book_id từ item_mean_dict\n",
    "def get_item_mean(book_id, item_mean_dict):\n",
    "    return item_mean_dict.get(book_id, None)  # Dùng get để trả về None nếu không tìm thấy\n",
    "\n",
    "# Ví dụ, lấy giá trị trung bình của book_id = 68\n",
    "book_id = 428\n",
    "item_mean_value = get_item_mean(book_id, item_mean_dict)\n",
    "\n",
    "print(f\"Giá trị trung bình của Book ID {book_id}: {item_mean_value}\")"
   ]
  },
  {
   "cell_type": "code",
   "execution_count": 98,
   "metadata": {},
   "outputs": [
    {
     "name": "stdout",
     "output_type": "stream",
     "text": [
      "\n",
      "Đánh giá của Book ID 2961:\n",
      "Rating: 0.0, Số lượng: 1772\n",
      "Rating: 5.0, Số lượng: 1\n"
     ]
    }
   ],
   "source": [
    "def get_rating_counts_for_book(user_item_matrix, book_id):\n",
    "    if book_id not in user_item_matrix.index:\n",
    "        print(f\"Book ID {book_id} không tồn tại trong dữ liệu.\")\n",
    "        return []\n",
    "    \n",
    "    # Lấy các đánh giá của sách theo book_id (cột)\n",
    "    ratings = user_item_matrix.loc[book_id]\n",
    "    \n",
    "    # Thay thế NaN bằng giá trị 0 hoặc có thể thay bằng \"Chưa đánh giá\"\n",
    "    ratings_filled = ratings.fillna(0)\n",
    "    \n",
    "    # Đếm số lượng đánh giá cho từng giá trị\n",
    "    rating_counts = ratings_filled.value_counts().sort_index()\n",
    "    \n",
    "    # In ra các kết quả\n",
    "    print(f\"\\nĐánh giá của Book ID {book_id}:\")\n",
    "    for rating, count in rating_counts.items():\n",
    "        print(f\"Rating: {rating}, Số lượng: {count}\")\n",
    "    \n",
    "    return rating_counts\n",
    "\n",
    "# Lấy các đánh giá và đếm số lượng cho book_id = 68\n",
    "rating_counts_for_book_68 = get_rating_counts_for_book(user_item_matrix, 2961)"
   ]
  },
  {
   "cell_type": "code",
   "execution_count": 99,
   "metadata": {},
   "outputs": [
    {
     "name": "stdout",
     "output_type": "stream",
     "text": [
      "[64901, 113076, 108150, 211126, 33280, 58523, 63555, 189892, 126224, 83393, 105543, 179381, 55110, 161366, 208825, 75374, 118244, 51644, 181954, 150428, 137358, 132203, 154232, 89961, 39422, 106917, 116385, 156003, 146653, 102051, 196705, 133211, 78571, 183762, 52394, 122919, 84787, 31035, 91982, 38627, 104977, 192508, 61144, 57661, 4422, 150123, 167950, 201019, 31957, 40577, 192586, 59670, 44937, 105893, 125658, 193301, 168693, 184633, 85619, 14722, 102047, 145986, 69267, 57624, 5893, 158510, 38127, 104120, 45116, 53681, 8388, 142973, 153723, 50689, 163590, 4859, 142880, 183959, 57195, 151628, 42356, 195333, 179461, 144988, 160757, 108379, 16950, 48053, 123295, 123913, 56045, 136874, 62420, 180773, 90485, 187247, 188468, 191273, 13519, 21933, 183359, 157841, 134948, 23409, 64401, 2931, 190407, 190685, 77441, 78040, 156188, 144348, 56457, 181999, 90471, 207308, 38066, 29287, 197676, 105302, 146835, 5382, 174699, 63000, 185128, 89187, 165036, 115305, 96079, 197418, 14215, 69587, 203657, 29116, 132047, 133616, 203907, 22847, 118389, 123289, 200050, 31031, 129625, 141112, 86431, 89289, 28160, 101542, 120515, 135996, 27475, 53664, 198114, 41385, 54431, 189752, 210516, 152860, 113209, 80270, 31795, 191873, 79501, 32276, 139757, 191705, 80331, 183676, 62702, 203314, 163040, 23706, 129398, 150679, 33817, 114865, 17769, 72005, 97675, 31318, 53263, 128963, 50036, 180493, 199001, 82761, 42791, 143094, 104629, 68, 48338, 49457, 29723, 84828, 149127, 179306, 10742, 111295, 62526, 98550, 130770, 203934, 27314, 49678, 149037, 31033, 153546, 14379, 69299, 167268, 34518, 8404, 4709, 154090, 78606, 146101, 59761, 20594, 30149, 98445, 145422, 28272, 3790, 64809, 180359, 42024, 45062, 144866, 134314, 84073, 159771, 16359, 128108, 36946, 179530, 91178, 104964, 148332, 127946, 18590, 110504, 92880, 67711, 97152, 111329, 34840, 183507, 119798, 39233, 96704, 165770, 200877, 123711, 133503, 59758, 112036, 9998, 156437, 51127, 37374, 161514, 43645, 10624, 96323, 28014, 146982, 139141, 63372, 116648, 120111, 22338, 9588, 80002, 162447, 167124, 159241, 27751, 155654, 146188, 51349, 150873, 197998, 135168, 23829, 72125, 169171, 82053, 116758, 187512, 77631, 25777, 150835, 169407, 173775, 189316, 59697, 11911, 153806, 115002, 26690, 123627, 148321, 119048, 9148, 1881, 185952, 127677, 157317, 156279, 138795, 16684, 169514, 72092, 101649, 158259, 60075, 10021, 2681, 104202, 116981, 87750, 131403, 158617, 171213, 21309, 21274, 39101, 148496, 194348, 99949, 186731, 43984, 188769, 9336, 159952, 197489, 34659, 99874, 144873, 211876, 170650, 147646, 130075, 199368, 41473, 151469, 63803, 172925, 179372, 54689, 81214, 69094, 24123, 44436, 155974, 34842, 204271, 166567, 177163, 120574, 127529, 169376, 37635, 35110, 61032, 45562, 69171, 198187, 131153, 70450, 198619, 185400, 83824, 70694, 146959, 60525, 90929, 18983, 165738, 40483, 106954, 48363, 103525, 68151, 207370, 13979, 118890, 31726, 95181, 67543, 6325, 8938, 27780, 206688, 24274, 195178, 115836, 31628, 130639, 147695, 185718, 64685, 141236, 9538, 58171, 116417, 42377, 101803, 63016, 22483, 63600, 194138, 18795, 93966, 2924, 187035, 23024, 21524, 157674, 55050, 52059, 103840, 158728, 133994, 127808, 29375, 189772, 46482, 87341, 176943, 149519, 64644, 119101, 25314, 116124, 145686, 198711, 153673, 32402, 34985, 200038, 124434, 28494, 3351, 49267, 14934, 106208, 93890, 33889, 185025, 166635, 169019, 85586, 158814, 98707, 65011, 75331, 109213, 164933, 17942, 178055, 128430, 28963, 36029, 88452, 148251, 142345, 38181, 117851, 183146, 165867, 125797, 99612, 194282, 146280, 4491, 29120, 164269, 15179, 164651, 114015, 10047, 166021, 114571, 13905, 96654, 65624, 205831, 54267, 119988, 10340, 169693, 99797, 133869, 145425, 100118, 195195, 47943, 25961, 191869, 3806, 183899, 118124, 80379, 158876, 149758, 45842, 6604, 18963, 131496, 104532, 201182, 76851, 165386, 135312, 161839, 149982, 182870, 21025, 28042, 171776, 74047, 117347, 38549, 14613, 25964, 80343, 63826, 78102, 55142, 195324, 195958, 4583, 200392, 130913, 42998, 5871, 8010, 67280, 203615, 135285, 73163, 76895, 181825, 50974, 43904, 147078, 164671, 46417, 206432, 91299, 110522, 9783, 31064, 148932, 139659, 27110, 79938, 29096, 93607, 15277, 125884, 100825, 108064, 158431, 164439, 143061, 6808, 33380, 190218, 165631, 825, 2020, 58511, 1758, 19879, 171765, 181195, 170441, 24611, 134271, 17548, 57404, 8705, 147615, 171522, 168468, 82907, 17584, 111798, 118128, 176840, 71746, 43758, 90975, 185623, 20046, 91304, 43747, 73880, 168852, 108898, 133203, 33732, 17463, 72188, 8844, 32907, 95878, 130739, 53589, 30823, 116165, 159980, 176235, 8505, 34931, 31080, 145856, 37556, 210677, 165288, 125231, 150543, 106675, 73290, 143562, 195735, 138700, 149679, 109728, 13432, 137012, 75484, 14293, 20985, 191013, 197116, 167992, 183452, 129457, 187623, 62632, 147097, 109479, 210451, 208010, 14007, 25819, 186580, 20919, 164908, 52935, 102064, 3904, 198717, 112281, 10434, 188035, 8262, 171309, 24733, 21211, 92734, 47366, 171745, 28209, 122922, 179267, 112071, 56551, 210659, 148177, 105462, 181895, 113522, 168624, 134935, 112232, 122999, 144666, 81085, 95849, 167561, 23625, 156595, 169626, 142277, 179341, 428, 90968, 52842, 194778, 13448, 81223, 65112, 119589, 152134, 57362, 187166, 97670, 101022, 4569, 133673, 58921, 45979, 136943, 101070, 85715, 14224, 24213, 75767, 120103, 97240, 56088, 184892, 84258, 99759, 5891, 122174, 150072, 191150, 134731, 55911, 89428, 184929, 47460, 97747, 109166, 142246, 33652, 16657, 28913, 113891, 183737, 194053, 120818, 107068, 90162, 173658, 174273, 135790, 63502, 59942, 108864, 58945, 147772, 116986, 49452, 20673, 113786, 92719, 199756, 186449, 172388, 21027, 1231, 36521, 158587, 53445, 83093, 164899, 171957, 194658, 165243, 95651, 157817, 133123, 45506, 168298, 152557, 155884, 190546, 109878, 138183, 192427, 6816, 95507, 134575, 189040, 120356, 186105, 29848, 192283, 128080, 34704, 11358, 188205, 16247, 188263, 170855, 203352, 187243, 74430, 40057, 108252, 169487, 109257, 60026, 61610, 3169, 81464, 49091, 48163, 34672, 206461, 147754, 12382, 136542, 27579, 48660, 116311, 195563, 212042, 19940, 203182, 45092, 185304, 156683, 191840, 141959, 192168, 200679, 293, 151397, 157702, 157225, 10629, 44087, 118463, 39026, 113817, 79658, 52597, 169386, 66141, 80430, 196907, 198522, 11922, 169865, 191320, 93830, 150720, 75740, 139057, 60181, 39813, 22782, 143607, 41752, 15515, 25899, 114028, 67756, 27913, 60481, 62591, 152975, 128804, 195261, 12801, 56876, 102034, 130616, 118662, 7354, 161987, 124804, 208875, 32205, 187490, 162446, 74261, 33950, 188062, 15437, 84449, 156969, 128564, 95593, 132033, 82088, 18663, 137792, 46350, 145647, 100036, 89910, 8771, 165744, 117264, 38631, 46613, 111637, 4469, 137719, 113081, 138997, 9966, 164532, 55566, 91817, 130845, 89535, 103679, 46562, 55284, 201680, 14967, 196521, 105405, 143089, 47042, 147099, 14146, 159723, 205951, 167089, 122059, 191658, 99, 1526, 147322, 10145, 56589, 141769, 76563, 115991, 15761, 81940, 72208, 19057, 146414, 27405, 142330, 52360, 47064, 129449, 38228, 210027, 132239, 33345, 170907, 116890, 47519, 97433, 59683, 24132, 128329, 23369, 78895, 88762, 2429, 58826, 133113, 35012, 46428, 144396, 32915, 149875, 170052, 125066, 170078, 188711, 78724, 190116, 10711, 34900, 86455, 39300, 134674, 136808, 37657, 170087, 63233, 16353, 22180, 96387, 121140, 137237, 165879, 3728, 54622, 54713, 103986, 177365, 190333, 93041, 122408, 193439, 67702, 174324, 131049, 32446, 137687, 152616, 46568, 116761, 4014, 42120, 114632, 200459, 128829, 17090, 166883, 209189, 16064, 16692, 152323, 183130, 33644, 90130, 45219, 208967, 147497, 25846, 76268, 137959, 27231, 55532, 165125, 3011, 172612, 45882, 2183, 116586, 16508, 204411, 131184, 151604, 108786, 189292, 172088, 63200, 113800, 55134, 14956, 167502, 206490, 164862, 131459, 132172, 13405, 112352, 148361, 47689, 184594, 163090, 70537, 89457, 139992, 190380, 7276, 81841, 124163, 179625, 100296, 62518, 159823, 29238, 2961, 186981, 104922, 11841, 185065, 113796, 157331, 275, 95091, 120442, 142535, 39449, 163620, 208390, 14218, 66467, 195227, 17238, 199148, 16163, 69646, 181689, 57455, 42928, 61806, 119843, 141636, 82975, 168669, 55302, 44365, 149051, 119358, 51020, 208222, 109705, 45616, 190541, 109118, 134182, 108418, 136076, 85799, 48218, 10401, 42127, 170332, 95129, 102449, 176835, 203137, 48303, 148082, 151851, 30305, 55061, 149923, 100109, 62582, 95084, 163600, 190924, 86683, 63385, 155504, 195512, 22754, 32590, 22189, 163534, 192638, 52603, 206362, 86321, 54444, 95513, 1211, 110801, 20852, 18321, 90966, 11562, 15849, 161479, 133432, 61072, 178213, 50704, 127679, 147147, 124978, 173854, 171682, 23249, 15374, 162188, 49882, 27591, 95495, 76505, 15994, 83746, 5440, 66013, 60806, 1367, 181759, 94125, 204225, 60362, 66657, 186492, 114320, 186570, 63668, 184185, 152645, 150487, 2156, 189269, 164496, 158846, 53825, 46628, 69362, 127740, 61578, 194429, 176453, 139035, 83343, 199227, 191633, 182990, 113443, 81582, 171036, 200501, 144687, 196602, 39338, 31395, 178387, 10553, 67207, 60124, 191627, 29493, 131551, 8491, 181032, 154591, 83722, 38117, 106818, 4808, 92600, 34080, 88552, 10752, 191759, 199860, 183095, 115331, 14740, 27196, 48059, 128685, 57359, 138574, 170297, 44299, 156451, 37979, 170998, 40251, 179038, 1200, 201334, 185319, 138564, 162467, 146960, 188201, 208158, 96736, 46913, 189398, 17522, 121708, 598, 151322, 27343, 119495, 123558, 7314, 39188, 160345, 125011, 158741, 188586, 41710, 15768, 46452, 34606, 173947, 13210, 20764, 185751, 23226, 37354, 69480, 189493, 150915, 42369, 89019, 48602, 121318, 73288, 150199, 126457, 46975, 80216, 65631, 25877, 54582, 43430, 203302, 53184, 36516, 186111, 4219, 97275, 133465, 33522, 11385, 23240, 61209, 94018, 176718, 156515, 88883, 11731, 76026, 46288, 21002, 1213, 49641, 17367, 82950, 199224, 98428, 129549, 22839, 174535, 8441, 100623, 146834, 118071, 88282, 82942, 22112, 158487, 5136, 34908, 211031, 165553, 139727, 175815, 173242, 96428, 51437, 192021, 90151, 56723, 3696, 206996, 131843, 153168, 175081, 86269, 206408, 124350, 132229, 16188, 50355, 45255, 128556, 25489, 156061, 179906, 59704, 114138, 123912, 102444, 209564, 198768, 148595, 96186, 52264, 102065, 100033, 197864, 72808, 26585, 190461, 129197, 125633, 67081, 2951, 71353, 70308, 178489, 152555, 197679, 169430, 123497, 60083, 49783, 16207, 12430, 166950, 151127, 207421, 161621, 34580, 102561, 7877, 25757, 38640, 187855, 151178, 12572, 159648, 209685, 1578, 183763, 127537, 150857, 21333, 56254, 82100, 28228, 61076, 93115, 53650, 28002, 74880, 139497, 195609, 199689, 138836, 198867, 177042, 138894, 87142, 177424, 158739, 125737, 134337, 177195, 68673, 167996, 6228, 154390, 153693, 9017, 90192, 440, 145440, 198033, 1121, 164969, 30256, 169134, 151379, 31542, 146923, 65322, 186006, 119734, 43621, 166496, 70384, 209974, 51615, 45583, 179690, 46336, 24602, 192505, 56889, 189204, 125493, 201225, 140068, 122661, 45114, 191212, 59749, 209898, 99379, 102810, 30294, 154129, 7452, 166964, 149808, 34571, 104567, 171943, 161064, 59114, 152325, 20927, 186947, 135619, 49758, 92326, 76361, 157606, 175018, 143958, 48922, 133403, 98983, 165204, 37494, 96057, 195584, 29364, 103758, 129558, 141533, 144297, 157329, 204697, 178005, 40632, 100888, 152175, 68577, 82140, 64186, 187352, 86554, 127858, 53242, 76653, 82685, 167191, 25985, 131345, 191492, 92810, 68211, 140448, 91931, 132451, 64308, 187206, 82040, 6263, 92578, 154804, 112310, 18524, 205849, 128215, 59162, 54739, 172054, 53277, 41302, 36280, 7012, 199060, 195823, 122676, 8453, 26000, 71141, 32151, 191902, 51406, 95256, 37304, 133610, 51443, 127641, 166013, 172290, 107572, 136839, 195122, 160061, 41305, 173375, 156427, 174049, 146850, 29819, 152764, 102060, 170129, 134725, 187945, 74426, 29616, 24717, 168000, 162539, 149205, 208986, 52713, 149844, 162196, 191810, 68976, 3826, 42860, 98074, 48151, 182037, 8634, 11526, 121450, 9018, 124970, 81025, 153325, 206910, 12415, 126566, 6623, 50370, 102192, 15451, 9913, 194068, 74648, 7090, 3505, 186722, 171357, 157088, 126913, 140622, 115828, 76144, 10051, 212049, 105199, 106773, 138776, 114646, 128327, 133584, 161263, 161949, 169120, 41324, 47162, 181394, 48488, 34126, 116999, 51242, 143110, 68041, 185398, 201529, 195801, 103869, 20576, 167398, 12211, 61701, 26341, 87283, 51126, 191560, 57713, 175800, 159173, 94873, 30757, 58574, 200478, 112215, 164211, 35219, 123246, 194144, 130511, 141077, 192623, 98779, 18364, 75410, 42858, 154006, 125079, 52453, 186248, 4824, 186791, 103978, 161579, 121797, 54013, 184246, 86847, 121235, 199911]\n"
     ]
    }
   ],
   "source": [
    "print(all_book_ids)"
   ]
  },
  {
   "cell_type": "code",
   "execution_count": 100,
   "metadata": {},
   "outputs": [],
   "source": [
    "# import pandas as pd\n",
    "# import numpy as np\n",
    "# from sklearn.metrics.pairwise import cosine_similarity\n",
    "\n",
    "# # Giả sử normalized_user_item_matrix là ma trận user-item với users là hàng và items là cột\n",
    "\n",
    "# # Điền các giá trị NaN với 0 (hoặc bạn có thể chọn phương pháp khác)\n",
    "# filled_user_item_matrix = normalized_user_item_matrix.fillna(0)\n",
    "\n",
    "# # Chuyển vị để có ma trận item-user (items là hàng, users là cột)\n",
    "# item_user_matrix = filled_user_item_matrix\n",
    "\n",
    "# # Tính ma trận cosine similarity giữa các items\n",
    "# similarity_matrix = cosine_similarity(item_user_matrix)\n",
    "\n",
    "# # Tạo DataFrame để dễ xem kết quả\n",
    "# similarity_df = pd.DataFrame(similarity_matrix, index=item_user_matrix.index, columns=item_user_matrix.index)\n",
    "\n",
    "# print(\"Ma trận tương đồng giữa các sách (items) bằng cosine similarity (sau khi điền NaN):\")\n",
    "# print(similarity_df)\n"
   ]
  },
  {
   "cell_type": "code",
   "execution_count": null,
   "metadata": {},
   "outputs": [],
   "source": [
    "import pandas as pd\n",
    "import numpy as np\n",
    "from sklearn.metrics.pairwise import cosine_similarity\n",
    "similarity_df = normalized_user_item_matrix.T.corr(method='pearson')\n",
    "print(\"Ma trận tương đồng giữa các sách (items):\")\n",
    "print(similarity_df)\n"
   ]
  },
  {
   "cell_type": "code",
   "execution_count": null,
   "metadata": {},
   "outputs": [],
   "source": [
    "import pandas as pd\n",
    "import numpy as np\n",
    "\n",
    "def recommend_books(user_id, top_k=5):\n",
    "\n",
    "    # Lấy các sách đã được đánh giá\n",
    "    rated_books = ratings[ratings['User_id'] == user_id]['book_id'].unique()\n",
    "    \n",
    "    if len(rated_books) == 0:\n",
    "        print(f\"Người dùng {user_id} chưa đánh giá sách nào.\")\n",
    "        return []\n",
    "    \n",
    "    # Lấy các sách đã được người dùng đánh giá\n",
    "    user_ratings = user_item_matrix.get(user_id, pd.Series())\n",
    "    normalized_user_ratings = normalized_user_item_matrix.get(user_id, pd.Series())\n",
    "    \n",
    "    # Khởi tạo một từ điển để lưu điểm gợi ý\n",
    "    recommendation_scores = {}\n",
    "     \n",
    "    for book_id in all_book_ids:\n",
    "        if(book_id not in rated_books):\n",
    "            # Lấy độ tương đồng của sách chưa được đánh giá với các sách đã được đánh giá\n",
    "            similar_books = similarity_df[book_id].dropna()\n",
    "            # Tính weighted_sum và total_similarity\n",
    "            weighted_sum = 0\n",
    "            total_similarity = 0\n",
    "        \n",
    "            for rated_book in rated_books:\n",
    "                if rated_book in similar_books.index:\n",
    "                    weighted_sum += (similar_books[rated_book] * normalized_user_ratings[rated_book])\n",
    "                    total_similarity += abs(similar_books[rated_book])\n",
    "        \n",
    "            # Tránh chia cho 0\n",
    "            if total_similarity != 0:\n",
    "                recommendation_scores[book_id] = (weighted_sum / total_similarity) + get_item_mean(book_id, item_mean_dict)\n",
    "    \n",
    "    # Sắp xếp các sách gợi ý theo điểm và chọn n_recommendations\n",
    "    recommended_books = sorted(recommendation_scores.items(), key=lambda x: x[1], reverse=True)[:top_k]\n",
    "    \n",
    "    # Kiểm tra nếu không có sách nào được gợi ý\n",
    "    if not recommended_books:\n",
    "        return []\n",
    "    \n",
    "    return recommended_books\n"
   ]
  },
  {
   "cell_type": "code",
   "execution_count": null,
   "metadata": {},
   "outputs": [
    {
     "name": "stdout",
     "output_type": "stream",
     "text": [
      "146835 122919 89961 72092 180493 127946 116385 133211 81085 192586 \n",
      "Sách: 'Stolen (Women of the Otherworld, Book 2)' (ID: 146835)\n",
      "Thể loại: ['Fiction']\n",
      "Tác giả: ['Kelley Armstrong']\n",
      "Mô tả: the only living female werewolf thirtyyearold elena michaels takes on a mission to confront internet billionaire tyrone winsloe who has been capturing elenas fellow paranormal brethren conducting experiments on them and hunting them to their deaths in a live video game by the author of bitten reprint\n",
      "Điểm tương đồng: 5.2601\n",
      "--------------------------------------------------\n",
      "Sách: 'Post Captain (Master and Commander Series)' (ID: 122919)\n",
      "Thể loại: ['Fiction']\n",
      "Tác giả: ['\"Patrick OBrian\"']\n",
      "Mô tả: if jane austen had written rousing sea yarns she would have produced something very close to the prose of patrick obrian time its 1802 the treaty of amiens has brought an end to the hostilities between great britain and france captain jack aubrey and his friend naval surgeon stephen maturin are enjoying the respite in the english countryside besotted with two beautiful cousins sophie williams and diana villiersuntil aubrey loses his fortune and they flee to france to escape his creditors while in france napoleon smashes the peace of amiens and war begins anew aubrey and maturin now finding themselves behind enemy lines make their way back to england maturin is sent to spain on an intelligencegathering mission and the nowsolvent aubrey assumes command of a strange warship pursuing his quarry straight into the mouth of a frenchheld harbor amidst the rollicking adventures at sea and mishaps on land aubrey and maturins friendship is tested by their romantic entanglements with the cousins in this brilliant second installment of the epic series\n",
      "Điểm tương đồng: 5.1887\n",
      "--------------------------------------------------\n",
      "Sách: 'Anna Karenina' (ID: 89961)\n",
      "Thể loại: ['Fiction']\n",
      "Tác giả: ['Leo Tolstoy']\n",
      "Mô tả: the musthave pevear and volokhonsky translation of one of the greatest russian novels ever written described by william faulkner as the best novel ever written and by fyodor dostoevsky as flawless anna karenina tells of the doomed love affair between the sensuous and rebellious anna and the dashing officer count vronsky tragedy unfolds as anna rejects her passionless marriage and thereby exposes herself to the hypocrisies of society set against a vast and richly textured canvas of nineteenthcentury russia the novels seven major characters create a dynamic imbalance playing out the contrasts of city and country life and all the variations on love and family happiness while previous versions have softened the robust and sometimes shocking qualities of tolstoys writing pevear and volokhonsky have produced a translation true to his powerful voice this authoritative edition which received the pen translation prize and was an oprah book club selection also includes an illuminating introduction and explanatory notes beautiful vigorous and eminently readable this anna karenina will be the definitive text for fans of the film and generations to come this penguin classics deluxe edition also features french flaps and deckleedged paper for more than seventy years penguin has been the leading publisher of classic literature in the englishspeaking world with more than 1700 titles penguin classics represents a global bookshelf of the best works throughout history and across genres and disciplines readers trust the series to provide authoritative texts enhanced by introductions and notes by distinguished scholars and contemporary authors as well as uptodate translations by awardwinning translators\n",
      "Điểm tương đồng: 5.1624\n",
      "--------------------------------------------------\n",
      "Sách: 'All the Pretty Horses' (ID: 72092)\n",
      "Thể loại: ['Fiction']\n",
      "Tác giả: ['Cormac McCarthy']\n",
      "Mô tả: all the pretty horses the first novel of the border trilogy published in 1992 was an international bestseller winning both the national book award and the national book critics circle award it tells the tale of john grady cole who at sixteen finds himself the last bewildered survivor of generations of texas ranchers cut off from the only life he ever imagined with two companions he sets off for mexico on a sometimes idyllic sometimes comic journey to a place where dreams are paid for in blood in 2012 picador celebrated its 40th anniversary during that time we have published many prizewinning and bestselling authors including bret easton ellis and cormac mccarthy alice sebold and helen fielding graham swift and alan hollinghurst years later picador continue to bring readers the very best contemporary fiction nonfiction and poetry from across the globe discover more at picadorcom40\n",
      "Điểm tương đồng: 4.9828\n",
      "--------------------------------------------------\n",
      "Sách: 'Carpe Jugulum' (ID: 180493)\n",
      "Thể loại: ['Fiction']\n",
      "Tác giả: ['Terry Pratchett']\n",
      "Mô tả: it is rare and splendid event when an author is elevated from the underground into the international literary establishment in the case of englands bestknown and bestloved modern satirist that event has been long overdue terry pratchetts profoundly irreverent discworld novels satirize and celebrate every aspect of life modern and ancient sacred and profane consistent numberone bestsellers in england they have garnered him a secure position in the pantheon of humor along with mark twain douglas adams matt groening and jonathan swift even so distinguished an author as a s byatt has sung his praises calling pratchetts intricate and delightful fictional discworld more complicated and satisfying than oz his latest satiric triumph carpe jugulum involves an exclusive royal snafu that leads to comic mayhem in a fit of enlightenment democracy and ebullient goodwill king verence invites uberwalds undead the magpyrs into lancre to celebrate the birth of his daughter but once ensconced within the castle these winedrinking garliceating sunloving modern vampires have no intention of leaving ever only an uneasy alliance between a nervous young priest and the argumentative local witches can save the country from being taken over by people with a cultivated bloodlust and bad taste in silk waistcoats for them theres only one way to fight go for the throat or as the vampyres themselves saycarpe jugulum\n",
      "Điểm tương đồng: 4.9387\n",
      "--------------------------------------------------\n",
      "Sách: 'Bitterroot' (ID: 127946)\n",
      "Thể loại: ['Fiction']\n",
      "Tác giả: ['James Lee Burke']\n",
      "Mô tả: following his acclaimed bestseller purple cane road james lee burke returns with a triumphant tour de force set in the bitterroot valley of montana home to celebrities seeking to escape the pressures of public life as well as to xenophobes dedicated to establishing a bulkhead of patriotic paranoia burkes novel features billy bob holland former texas ranger and now a texasbased lawyer who has come to big sky country for some fishing and ends up helping out an old friend in trouble and big trouble it is not just for his friend but for billy bob himselfin the form of wyatt dixon a recent prison parolee sworn to kill billy bob as revenge for both his imprisonment and his sisters death both of which he blames on the former texas lawman as the mysteries multiply and the body count mounts the reader is drawn deeper into the tortured mind of billy bob holland a complex hero tormented by the mistakes of his past and driven to make thingsall thingsright but beneath the guise of justice for the weak and downtrodden lies a tendency for violence that at times becomes more terrifying than the danger he is trying to eradicate as usa today noted in discussing the parallels between billy bob holland and burkes other popular series hero david robicheaux robicheaux and holland are two of a kind whitehat heroes whose essential goodness doesnt keep them from fighting back the two series describe different landscapes but one theme remains constant the inner conflict when upright men are provoked into violence in defense of hearth home women and children there are plenty of parallels billy bob is an extexas ranger dave is an exnew orleans cop dave battles alcoholism and the ghosts of vietnam billy bob actually sees ghosts including the ranger he accidentally gunned downbut most of all both protagonists hold a vision of a pure and simple life in bitterroot with its rugged and vivid setting its intricate plot and a set of remarkable unforgettable characters and crafted with the lyrical prose and the elegiac tone that have inspired many critics to compare him to william faulkner james lee burke has written a thriller destined to surpass the success of his previous novels\n",
      "Điểm tương đồng: 4.9109\n",
      "--------------------------------------------------\n",
      "Sách: 'Lord of the Flies' (ID: 116385)\n",
      "Thể loại: ['Fiction']\n",
      "Tác giả: ['William Golding']\n",
      "Mô tả: william goldings unforgettable classic of boyhood adventure and the savagery of humanity comes to penguin classics in a stunning graphic deluxe edition with a new foreword by lois lowry as provocative today as when it was first published in 1954 lord of the flies continues to ignite passionate debate with its startling brutal portrait of human nature william goldings compelling story about a group of very ordinary boys marooned on a coral island has been labeled a parable an allegory a myth a morality tale a parody a political treatise and even a vision of the apocalypse but above all it has earned its place as one of the indisputable classics of the twentieth century for readers of any age this penguin classics graphic deluxe edition features an array of special features to supplement the novel including a foreword by lois lowry an introduction by stephen king an essay by e m forster an essay on teaching and reading the novel and suggestions for further exploration by scholar jennifer buehler and an extended note by e l epstein the publisher of the first american paperback edition of lord of the flies for more than seventy years penguin has been the leading publisher of classic literature in the englishspeaking world with more than 1700 titles penguin classics represents a global bookshelf of the best works throughout history and across genres and disciplines readers trust the series to provide authoritative texts enhanced by introductions and notes by distinguished scholars and contemporary authors as well as uptodate translations by awardwinning translators\n",
      "Điểm tương đồng: 4.8658\n",
      "--------------------------------------------------\n",
      "Sách: 'The Call of the Wild (Library of America)' (ID: 133211)\n",
      "Thể loại: ['Fiction']\n",
      "Tác giả: ['Jack London']\n",
      "Mô tả: a young dog abused by men and his hungry rivals on a klondike dog team escapes to the wilderness and joins a wolfpack\n",
      "Điểm tương đồng: 4.7111\n",
      "--------------------------------------------------\n",
      "Sách: 'The collected poems of Dylan Thomas' (ID: 81085)\n",
      "Thể loại: ['Poetry']\n",
      "Tác giả: ['Dylan Thomas', 'Paul Muldoon']\n",
      "Mô tả: presents poems compiled by the author as representations of his best work including the poems in the beginning and vision and prayer\n",
      "Điểm tương đồng: 4.6887\n",
      "--------------------------------------------------\n",
      "Sách: 'The count of Monte Cristo (The novels of Alexandre Dumas)' (ID: 192586)\n",
      "Thể loại: []\n",
      "Tác giả: ['Alexandre Dumas']\n",
      "Mô tả: the count of monte cristo french le comte de montecristo is an adventure novel by french author alexandre dumas completed in 1844 it is one of the authors most popular works along with the three musketeers like many of his novels it is expanded from plot outlines suggested by his collaborating ghostwriter auguste maquetthe story takes place in france italy and islands in the mediterranean during the historical events of 18151839 the era of the bourbon restoration through the reign of louisphilippe of france it begins just before the hundred days period when napoleon returned to power after his exile the historical setting is a fundamental element of the book an adventure story primarily concerned with themes of hope justice vengeance mercy and forgiveness it centres around a man who is wrongfully imprisoned escapes from jail acquires a fortune and sets about getting revenge on those responsible for his imprisonment however his plans have devastating consequences for the innocent as well as the guilty in addition it is a story that involves romance loyalty betrayal and selfishness shown throughout the story as characters slowly reveal their true inner naturethe book is considered a literary classic today according to luc sante the count of monte cristo has become a fixture of western civilizations literature as inescapable and immediately identifiable as mickey mouse noahs flood and the story of little red riding hood\n",
      "Điểm tương đồng: 4.6827\n",
      "--------------------------------------------------\n"
     ]
    }
   ],
   "source": [
    "user_id = \"AZSV99SDJC242\"\n",
    "top_k = 10\n",
    "\n",
    "suggested_books = recommend_books(user_id, top_k)\n",
    "for book_id, similarity_score in suggested_books:\n",
    "    print(book_id, end=\" \")  # Print each book_id followed by a \n",
    "    \n",
    "print()\n",
    "if suggested_books:\n",
    "    for book_id, similarity_score in suggested_books:\n",
    "        # Fetch book details from the books DataFrame\n",
    "        book_info = books.loc[books['book_id'] == book_id, ['Title', 'categories', 'description', 'authors']]\n",
    "        \n",
    "        if not book_info.empty:\n",
    "            title = book_info['Title'].values[0]\n",
    "            categories = book_info['categories'].values[0]\n",
    "            description = book_info['description'].values[0]\n",
    "            authors = book_info['authors'].values[0]\n",
    "            \n",
    "            # Print book information\n",
    "            print(f\"Sách: '{title}' (ID: {book_id})\")\n",
    "            print(f\"Thể loại: {categories}\")\n",
    "            print(f\"Tác giả: {authors}\")\n",
    "            print(f\"Mô tả: {description}\")\n",
    "            print(f\"Điểm tương đồng: {similarity_score:.4f}\")\n",
    "            print(\"-\" * 50)\n",
    "        else:\n",
    "            print(f\"Không tìm thấy sách với ID: {book_id}\")\n",
    "else:\n",
    "    print(\"Không có cuốn sách nào để gợi ý.\")\n"
   ]
  },
  {
   "cell_type": "code",
   "execution_count": null,
   "metadata": {},
   "outputs": [
    {
     "name": "stdout",
     "output_type": "stream",
     "text": [
      "Tất cả giá trị đánh giá cho book_id 119048:\n",
      "book_id\n",
      "119048    1.0\n",
      "Name: 119048, dtype: float64\n"
     ]
    }
   ],
   "source": [
    "# In ra tất cả giá trị đánh giá cho một book_id cụ thể, ví dụ: book_id = 68\n",
    "book_id = 119048\n",
    "book_ratings = similarity_df.loc[book_id].dropna()\n",
    "print(f\"Tất cả giá trị đánh giá cho book_id {book_id}:\")\n",
    "print(book_ratings)\n"
   ]
  },
  {
   "cell_type": "code",
   "execution_count": null,
   "metadata": {},
   "outputs": [
    {
     "name": "stdout",
     "output_type": "stream",
     "text": [
      "Tất cả giá trị đánh giá cho book_id 119048:\n",
      "User_id\n",
      "A2VE83MZF98ITY    1.5\n",
      "A68QXK0H88J4I    -1.5\n",
      "Name: 119048, dtype: float64\n"
     ]
    }
   ],
   "source": [
    "# In ra tất cả giá trị đánh giá cho một book_id cụ thể, ví dụ: book_id = 68\n",
    "book_id = 119048\n",
    "book_ratings = normalized_user_item_matrix.loc[book_id].dropna()\n",
    "print(f\"Tất cả giá trị đánh giá cho book_id {book_id}:\")\n",
    "print(book_ratings)\n"
   ]
  },
  {
   "cell_type": "code",
   "execution_count": null,
   "metadata": {},
   "outputs": [
    {
     "name": "stdout",
     "output_type": "stream",
     "text": [
      "[29116, 30757, 46350, 47366, 95129, 114632, 119048, 156003, 160061, 187352, 188062, 190407]\n",
      "Sách: 'The Greeks' (ID: 29116)\n",
      "Thể loại: ['History']\n",
      "Tác giả: ['Roderick Beaton']\n",
      "Mô tả: a sweeping history of the greeks from the bronze age to today more than two thousand years ago the greek citystates led by athens and sparta laid the foundation for much of modern science the arts politics and law but the influence of the greeks did not end with the rise and fall of this classical civilization as historian roderick beaton illustrates over three millennia greek speakers produced a series of civilizations that were rooted in southeastern europe but again and again ranged widely across the globe in the greeks beaton traces this history from the bronze age mycenaeans who built powerful fortresses at home and strong trade routes abroad to the dramatic eurasian conquests of alexander the great to the pious byzantines who sought to export christianity worldwide to todays greek diaspora which flourishes on five continents the product of decades of research this is the story of the greeks and their global impact told as never before\n",
      "--------------------------------------------------\n",
      "Sách: 'The Scottish Nation: A History, 1700-2000' (ID: 30757)\n",
      "Thể loại: ['History']\n",
      "Tác giả: ['Sir William Fraser Professor of Scottish History and Palaeography and Director of the Scottish Centre of Diaspora Studies T M Devine', 'Thomas Martin Devine']\n",
      "Mô tả: an account of the last three hundred years of scottish history offers a look at scottish identity and culture\n",
      "--------------------------------------------------\n",
      "Sách: 'Iokaste The Novel Of The Mother-wife Of Oedipus' (ID: 46350)\n",
      "Thể loại: ['Fiction']\n",
      "Tác giả: ['Victoria Grossack', 'Alice Underwood']\n",
      "Mô tả: for millennia the story of oedipus  who despite all efforts to avoid his fate killed his father and married his mother  has captivated imaginations even more compelling are the experiences of his wife and mother iokaste in iokaste she finally tells her story as the book opens iokastes brother kreon tells his sister she must die the sacrilege of her unnatural marriage is revealed the queen of thebes can either take her own life or be torn to pieces by an angry mob she has until dawn to choose the means of her death horrified iokastes daughter asks how much of the truth did you know and when did you know it iokaste answers these questions through the disappointment of her first marriage and the loss of her firstborn child iokaste learns the sacrifices demanded of a queen when her husband dies iokaste and her brother contend with the dangerous sphinx and contrive a plan to protect their city then the prince of korinth claims the heart of the queen and iokaste finds herself involved in a relationship richer and more complex and than she ever imagined possible  but this very love threatens the destruction of all she holds dear\n",
      "--------------------------------------------------\n",
      "Sách: 'Living With Contradiction (Rhythm of Life)' (ID: 47366)\n",
      "Thể loại: ['Religion']\n",
      "Tác giả: ['Esther De Waal']\n",
      "Mô tả: the world the church and our personal lives are full of conflict  opposing demands pull us in all directions this book presents the wisdom of benedict which shows how ambiguity and uncertainty can be transformative and healing\n",
      "--------------------------------------------------\n",
      "Sách: 'The Essential Mystics: The Soul's Journey into Truth' (ID: 95129)\n",
      "Thể loại: ['Religion']\n",
      "Tác giả: ['Andrew Harvey']\n",
      "Mô tả: a brilliant introduction to the essential themes of the worlds great mystic visionaries this collection includes texts from buddhist taoist jewish christian hindu islamic hopi and aborigine traditions\n",
      "--------------------------------------------------\n",
      "Sách: 'Biology Concepts & Connections, Second Edition' (ID: 114632)\n",
      "Thể loại: ['Science']\n",
      "Tác giả: ['Cecie Starr', 'Christine Evers', 'Lisa Starr']\n",
      "Mô tả: in the new edition of biology concepts and applications authors cecie starr christine a evers and lisa starr have partnered with the national geographic society to develop a text designed to engage and inspire this trendsetting text introduces the key concepts of biology to nonbiology majors using clear explanations and unparalleled visuals while mastering core concepts each chapter challenges students to question what they read and apply the concepts learned providing students with the critical thinking skills and science knowledge they need in life renowned for its writing style the new edition is enhanced with exclusive content from the national geographic society including over 200 new photos and illustrations new people matter sections in most chapters profile national geographic explorers and grantees who are making significant contributions in their field showing students how concepts in the chapter are being applied in their biological research each chapter concludes with an application section highlighting realworld uses of biology and helping students make connections to chapter content important notice media content referenced within the product description or the product text may not be available in the ebook version\n",
      "--------------------------------------------------\n",
      "Sách: 'Same-Sex Unions in Premodern Europe' (ID: 119048)\n",
      "Thể loại: ['Social Science']\n",
      "Tác giả: ['John Boswell']\n",
      "Mô tả: both highly praised and intensely controversial this brilliant book produces dramatic evidence that at one time the catholic and eastern orthodox churches not only sanctioned unions between partners of the same sex but sanctified themin ceremonies strikingly similar to heterosexual marriage ceremonies\n",
      "--------------------------------------------------\n",
      "Sách: 'Late Great Planet Earth' (ID: 156003)\n",
      "Thể loại: ['Religion']\n",
      "Tác giả: ['Hal Lindsey']\n",
      "Mô tả: the impact of the late great planet earth cannot be overstated the new york times called it the no 1 nonfiction bestseller of the decade for christians and nonchristians of the 1970s hal lindseys blockbuster served as a wakeup call on events soon to come and events already unfolding  all leading up to the greatest event of all the return of jesus christ the years since have confirmed lindseys insights into what biblical prophecy says about the times we live in whether youre a churchgoing believer or someone who wouldnt darken the door of a christian institution the bible has much to tell you about the imminent future of this planet in the midst of an outofcontrol generation it reveals a grand design thats unfolding exactly according to plan the rebirth of israel the threat of war in the middle east an increase in natural catastrophes the revival of satanism and witchcraft these and other signs foreseen by prophets from moses to jesus portend the coming of an antichrist    of a war which will bring humanity to the brink of destruction    and of incredible deliverance for a desperate dying planet\n",
      "--------------------------------------------------\n",
      "Sách: 'Physics, Vol. 2, Second Edition' (ID: 160061)\n",
      "Thể loại: ['Science']\n",
      "Tác giả: ['Claudia Mierke']\n",
      "Mô tả: this revised second edition is improved linguistically with multiple increases of the number of figures and the inclusion of several novel chapters such as actin filaments during matrix invasion microtubuli during migration and matrix invasion nuclear deformability during migration and matrix invasion and the active role of the tumor stroma in regulating cell invasion\n",
      "--------------------------------------------------\n",
      "Sách: 'Latin made simple (The \"Made simple\" books)' (ID: 187352)\n",
      "Thể loại: ['Foreign Language Study']\n",
      "Tác giả: ['Doug Julius']\n",
      "Mô tả: latin made simple makes it easy to increase your understanding of the language and the many ways it has enriched our culture the perfect primer for anyone who wants to be able to read classical latin or learn the basics to enhance their vocabulary this complete course presents latin grammar clearly and plainly void of all nonessentials and refreshingly easy to understand latin made simple includes complete latin grammar extensive vocabulary review quizzes complete answer key practice readings examination of latin words in the english language timeline of roman history and literature a helpful verb chart englishlatin dictionary look for these made simple titles accounting made simple arithmetic made simple astronomy made simple biology made simple bookkeeping made simple business letters made simple chemistry made simple computer science made simple earth science made simple english made simple french made simple german made simple ingles hecho facil investing made simple italian made simple keyboarding made simple learning english made simple mathematics made simple the perfect business plan made simple philosophy made simple physics made simple psychology made simple sign language made simple spanish made simple spelling made simple statistics made simple your small business made simple\n",
      "--------------------------------------------------\n",
      "Sách: 'The Brother of Jesus: The Dramatic Story & Meaning of the First Archaeological Link to Jesus & His Family' (ID: 188062)\n",
      "Thể loại: ['Religion']\n",
      "Tác giả: ['Hershel Shanks', 'Ben Witherington', 'III']\n",
      "Mô tả: the most important archaeological discovery ever about jesus for 2000 years weve gone without archaeological evidence of jesus and his family  until now  this is the dramatic inside story of what may well be the most momentous archaeological discovery of our time the firstcentury ossuary of jesus brother james the head of the jerusalem church reportedly found just outside ancient jerusalem the fragile limestone burial box bears the inscription james son of joseph brother of jesus the ossuary and its inscription are now regarded as authentic by top scholars in the field they represent the first visual tangible scientific evidence of jesus existence the implications are monumental for understanding jesus his family and the jewish christian movement during the formative years of christianity hidden for centuries the ossuary was purchased many years ago by an israeli collector of ancient artifacts who never suspected its importance only when the renowned french scholar andr lemaire saw the aramaic inscription aramaic was the language spoken by jesus and his earliest followers in april 2002 was its significance discovered in october 2002 lemaire announced the news to the world asserting that it was almost certain that the inscription referred to jesus of the bible his father joseph and his brother james controversy immediately erupted over the age and authenticity of the inscription the discovery also rekindled an ancient debate over whether mary the mother of jesus was a virgin throughout her life  a doctrine that still divides catholics and protestants hershel shanks a central figure of biblical archaeology who led a forceful campaign to make the dead sea scrolls available to the world recounts the story of the ossuarys discovery and authentication ben witherington iii a leading new testament scholar shows how the discovery reveals surprising facts about a story people thought they knew how jesus was raised in a large religiously conservative jewish family how his brothers and sisters were skeptical about his claims  until he died how jesus brother james went on to head the jewish christian movement in jerusalem becoming the leader peter and paul looked to for guidance and approval how james brokered the major church controversy of the first century and wrote a book of the bible how he was martyred and soon written out of history by the church of rome the dramatic discovery of the ossuary allows us to become reacquainted with the towering historical figure the apostle paul called a pillar of the church\n",
      "--------------------------------------------------\n",
      "Sách: 'THE PORTABLE CHEKHOV' (ID: 190407)\n",
      "Thể loại: ['Drama']\n",
      "Tác giả: ['Anton Chekhov']\n",
      "Mô tả: includes twentyeight of chekhovs best stories two complete plays and a selection of letters\n",
      "--------------------------------------------------\n"
     ]
    }
   ],
   "source": [
    "def get_books_for_user(user_id):\n",
    "    # Filter ratings to get books rated by the specified user_id\n",
    "    user_ratings = ratings[ratings['User_id'] == user_id]\n",
    "    \n",
    "    # Merge with books DataFrame to get book details including title, categories, description, and authors\n",
    "    user_books = user_ratings.merge(books[['book_id']], on='book_id', how='inner')\n",
    "    \n",
    "    # Return the list of book_ids\n",
    "    book_ids = user_books['book_id'].tolist()\n",
    "    \n",
    "    return book_ids\n",
    "\n",
    "# Example usage\n",
    "user_id = \"A2VE83MZF98ITY\"\n",
    "list_books = get_books_for_user(user_id)\n",
    "print(list_books)\n",
    "if list_books:  # Ensure that the list of book_ids is not empty\n",
    "    for book_id in list_books:\n",
    "        # Fetch book details from the books DataFrame\n",
    "        book_info = books.loc[books['book_id'] == book_id, ['Title', 'categories', 'description', 'authors']]\n",
    "        \n",
    "        if not book_info.empty:\n",
    "            title = book_info['Title'].values[0]\n",
    "            categories = book_info['categories'].values[0]\n",
    "            description = book_info['description'].values[0]\n",
    "            authors = book_info['authors'].values[0]\n",
    "            \n",
    "            # Print book information\n",
    "            print(f\"Sách: '{title}' (ID: {book_id})\")\n",
    "            print(f\"Thể loại: {categories}\")\n",
    "            print(f\"Tác giả: {authors}\")\n",
    "            print(f\"Mô tả: {description}\")\n",
    "            print(\"-\" * 50)\n",
    "        else:\n",
    "            print(f\"Không tìm thấy sách với ID: {book_id}\")\n",
    "else:\n",
    "    print(\"Không có cuốn sách nào để gợi ý.\")\n"
   ]
  },
  {
   "cell_type": "code",
   "execution_count": null,
   "metadata": {},
   "outputs": [
    {
     "name": "stdout",
     "output_type": "stream",
     "text": [
      "Danh sách UserID độc nhất:\n",
      "894\n"
     ]
    }
   ],
   "source": [
    "# Lấy danh sách UserID độc nhất\n",
    "user_ids = test['User_id'].unique().tolist()\n",
    "\n",
    "print(\"Danh sách UserID độc nhất:\")\n",
    "print(len(user_ids))\n"
   ]
  },
  {
   "cell_type": "code",
   "execution_count": null,
   "metadata": {},
   "outputs": [
    {
     "name": "stdout",
     "output_type": "stream",
     "text": [
      "Danh sách 1000 UserID ngẫu nhiên:\n",
      "['AW7BIYHXUIZ62', 'A3C0380R9NMLHD', 'A1C58YXM2A30CY', 'A1ZOF747O5EB6R', 'A3TEH90X39WC8F', 'A3B48AN8JID1JK', 'AF3X7J0XC391L', 'A1PPD5TOR6VVYV', 'A3B1QVMBW7YVOQ', 'AKB2PYODH0TKS', 'A3MBJ9TIYG91OL', 'AQZH7YTWQPOBE', 'A1JTG5X4VHJV27', 'A38VAF4S1DARTN', 'A3J0OXB9KIC5SS', 'A1D5RCOILPC9LX', 'A1TMAVN4CEM8U8', 'AFVQZQ8PW0L', 'A222LQEPE7O7BV', 'A2JA7C0WEMB1M7', 'AG2IEP1MJQHFS', 'A1I2O9Y3X3HXLS', 'A9RUU8JSKU7G1', 'A3CU3GER3D7K7A', 'A1K1JW1C5CUSUZ', 'A2ZHDCYYP1PL2K', 'A1G0DH7UQ4ILS6', 'A4P7HYSOIVBLL', 'A1NPNGWBVD9AK3', 'A2QT0KPQU671OU', 'A1XOHJLA16DPZT', 'A2B9Y0WXNSN17U', 'ADB8XCKNSDY5Z', 'A32ZKBXJJ45BRY', 'A17FLA8HQOFVIG', 'ATOFFO1VNCAGQ', 'A5Y1PJIOU21WD', 'A2WB4OWBUH2VQX', 'A1RLMYWYWQ03QJ', 'A3E8QNDC7CV44', 'A2R504QEK5URRL', 'A29LGHDM4PTVOA', 'A2EMP366TTS6E1', 'A1DPCXO7RDZM0S', 'AKHJVOYEX6QME', 'A2CR57GAJKNWVV', 'A3TO3AY1UFM83U', 'AD8UQ909Z49UK', 'A2X9QA4JU5Q4VY', 'A2VZ11U5DXM8J5', 'A2JXAQ92WYPAAR', 'A20MN959ZZH2DU', 'AOV9AIX4UE5BB', 'A136YD08SCJ2LV', 'A2MOBMVHECYVLE', 'A3I8FT707XKQAJ', 'A3I4GZJZO155GG', 'AV7ATN4TN8AQT', 'A3GQKB1KF0CRPE', 'A1V51M8M216Y69', 'AIEEK7AHXKZCC', 'A3F7RHVPZ3I75', 'A12A08OL0TZY0W', 'A319KYEIAZ3SON', 'A2ENIQZX6VJYUM', 'A19OORKBG1VUGU', 'A3DQWFWINN3V5A', 'A2SJ11EMIOBLHH', 'A21NVBFIEQWDSG', 'A1D6PWUMDY9F7V', 'A1K9IG5MP8RW75', 'A1H5E7O5BW2J13', 'A25E44CFFC4B7T', 'A2VN986E5KR1NV', 'A2VE83MZF98ITY', 'A3RINLIDX74QLP', 'A1M8PP7MLHNBQB', 'A1J6ZAAF9EY6YZ', 'A1MRQUGR3IXV7T', 'A3T7MC28NFTYCH', 'A1MBOTC01N0IY9', 'A2O9HU1K7TCF7B', 'AJI76D4U5WGBZ', 'AXW444VIV75UF', 'A3QW09WANRS6BZ', 'A3DE9GQDO6O6D1', 'AJ8JJ6D5BSJKZ', 'A25KKXUQQ0OLWB', 'A1DQZBHEU98PBT', 'A2YUZKPLUYQDKV', 'A33I4RCFITFXG5', 'A1VCG7N8BV7XWC', 'A1I6ZXLKEUKV7W', 'A2RPIGO3G4M6GN', 'AOFGOUMXLMVZS', 'AU8SXSN70IS92', 'AUGABW5AS2OXM', 'A232HUAELH5J6V', 'A2QTG1OWAWEFR4', 'A1LDAIGOQ6N4DW', 'A3M0YP958H2KRX', 'A2QHM5HBSIXRL4', 'A3NBL1TI2M3CW1', 'A39650P2CZUUC9', 'A1TXD4O7Z15FY4', 'A386UNUYDUDSBB', 'AK7D1BHZOSOL1', 'A3Q86MZSVUUAD8', 'AIJQU979J6UFY', 'A1XAR44IW48IEK', 'AT2R7ZVT7QYOU', 'A89TL80GBGNUK', 'A4FX5YCJA630V', 'ADQR7Y6GIKSDL', 'A2I3D2NX4XKZYJ', 'ARBMZ59SXGUGI', 'A76FRFSYRN1TK', 'AGV0RUQJHFW3S', 'A1IKD6BDEE18CI', 'A1GLT8WEEWZTN1', 'A2ITEMEL0DTX8A', 'A1NC9AGZOBI0M1', 'A3UDYY6L2NH3JS', 'AK81WLVD5KGUX', 'A1D2C0WDCSHUWZ', 'AHEW91ZUQDSKR', 'A2E3F04ZK7FG66', 'A1LVZOK9F7K4CN', 'AN7LJWCGEWFYU', 'A1DBGXI1U93MM1', 'A1CHOKV10NEI8X', 'A140XH16IKR4B0', 'A1XSKZN07IG780', 'A22RY8N8CNDF3A', 'A303U1MOXG5R1F', 'A2XKRTDDV4JCRN', 'A1I0422Z9IK7OX', 'A3SQQYS79AV13M', 'A21X0EO0R0T6FT', 'A1MC6BFHWY6WC3', 'A23XK92HRNHYKJ', 'A1AC9S8U66SNMU', 'A3PWPNZVMNX3PA', 'A2Q6R7WN1D2K27', 'AGHIV0V0ON7MO', 'A2EEUQ81DTY7G3', 'AUM3YMZ0YRJE0', 'A3CFBDIKSJNYFE', 'A1DGSUJ89KN91K', 'A3EX36SNRYD5VL', 'A8F2AZWB20X1H', 'AQUU8S55JGY2H', 'A38CKJ7C1K71JF', 'ACZ2CLZ2WNBBD', 'A9L6L5H9BPEBO', 'AV08SZ4CV954T', 'A10VOEBL5S337W', 'A3MV1KKHX51FYT', 'A2T4FQM00GJ41N', 'A8WX6M9VK4EXR', 'A2KSU7OOJ5C479', 'A1UIM8430PR6XI', 'A1GY5M157FD82S', 'A1241U6QCSX5YJ', 'A2TXR85WQLE32N', 'A3BTL4FV6ODKAT', 'AAVKU4DFGY3MI', 'AMQS95OACZAQX', 'A1DNUHDSDIAS41', 'A1GZKHEQWTS4Z5', 'A38TN3W164HE9K', 'A3QN1SJPR6L552', 'AN2MKV62BREXE', 'A35HK0ZU7MWA4X', 'AC9B29BXXWJHD', 'A2RC2ZMC9NRLJM', 'APRY1W9VFEFQ6', 'A3N6JG64P2G9EV', 'A2I1RJP9SCFKX7', 'A22LX6529JJ166', 'A3MH7HTSGWRCJ0', 'AJKWF4W7QD4NS', 'ADY0QI5IENSLY', 'A2HWD9PTM7RBXN', 'A1VHK9A4VLJTHC', 'A1V8NBMG0PDVK1', 'AL277B4AQCWBG', 'A1BA72K4VK1UN1', 'AGIWOEGLZYWQ9', 'A24H4WUFUDPTAA', 'A2EYCL2ZT0PSTX', 'A38BIVW2RNO3RW', 'A62G4QX6XQVLP', 'A3GGUBZMTQD1B9', 'A3MSB482DIB9SL', 'A2L638TBMNPV3H', 'AU69ERKOK9ZSJ', 'ABDU537LDPT92', 'A3SCXHDWVW6JD6', 'A3NLJZI5NEOT0K', 'A281NPSIMI1C2R', 'A2LW9E5PPXWOHN', 'A16W8HTCIWYDZ6', 'AGEIT17HENDIS', 'A1A58DW45TQZMX', 'A20IIR0422G3A5', 'AYT4FJYVCHYLE', 'A3869CQLA4D5FP', 'ALR35EFI69S5R', 'A2H6Q6AK8S90F3', 'A9Q28YTLYREO7', 'A2ZVOU9X5W2S47', 'A3LEH416AV3VTU', 'A126KX6FVI4T66', 'A3DXVYD2TQHWGD', 'A1MJMYLRTZ76ZX', 'AQ5UX3AVZPAPN', 'A2Z9B7F052F1KC', 'A1V09ASZ9HWQAE', 'A2HR0DJG4WMR8R', 'A3RP1I0SL7091Q', 'A1NATT3PN24QWY', 'A2WSI8HOWHFDOT', 'ACIBQ6BQ6AWEV', 'A2E9Q3T876TQ6C', 'ABN5K7K1TM1QA', 'AA2BITCKPL8JN', 'A30QQPDAPOCO3T', 'A24DTVSHSWZVR5', 'A1XZ1QP50YUPDJ', 'A2QO08DN1DTEWD', 'A1BI8PUEHA5CHW', 'A9I40WFF40R4', 'A3DF7LMEQOND63', 'A18PCOAE02O3SC', 'AH7CBIWDTHXWA', 'A1CPJEZRLVKJOS', 'A3A6GXILVT9JNW', 'AAXUNK0W2DZG5', 'AXMKAXC0TR9AW', 'A3N3GNVHFZZ6N1', 'A8UEPBJDD4EOK', 'A3NIQK6ZLYEP1L', 'A4QC76NMWE5OC', 'A55MRYPUAX4QU', 'A3VAXB8CDYY5BG', 'A23GFTVIETX7DS', 'AUEY946M1L939', 'A3P8ZDHC7XSKSE', 'A3DWUM6SN3N3NR', 'A1PXH6NS60C8V5', 'A3SRPFVPZQV05X', 'AG212WE6M4O5D', 'A3NH7PYU4AD5GA', 'A3NUM3JIE6II0F', 'AC4Z26E60FBEM', 'A27XUU2DXILHYZ', 'A25P31WA3F4040', 'A13G1TKIKHGV3F', 'A1NT7ED5TATUAM', 'A1TIZI060W4BD9', 'A1AXHNRDJEQ0B', 'A2HM0AZ8WQFWU7', 'A3KF4IP2MUS8QQ', 'A1AAND6JLJGCV2', 'A18IZDWUIHLUC9', 'A23HTIYFA0R9LB', 'A3OEECMCM2T4KQ', 'ADG94LLE4VBDI', 'A1RECBDKHVOJMW', 'A2RQ0AT4XZUIXL', 'AU6DIIDZK2OQM', 'A34UTL4AVX80MK', 'A6HXFDIC7DVTC', 'A18CA0GRHDVP8X', 'A3IKBHODOTYYHM', 'AS6SH2JM2YY3H', 'A3LNZKV31R04C4', 'ARD5I31J12UU8', 'A3R8PXSFGY9MC2', 'AK0CENM3LUM28', 'A2BCIAH2TIYVQ9', 'A2W0XCWOK3MW6F', 'A2F35SS0RKWSO2', 'AAXIW3SRA0S4R', 'A1DLVUJFANNU1Q', 'A2B0XO8BTPRX7R', 'AN8C7BGR98HLN', 'AJ9W09EUQPAKE', 'A3H82LUT1EC655', 'A395QKQZ15GP4F', 'A2G836TPI9J2IN', 'A1KJO5VP4K3CHU', 'A29CUCGRX04TS8', 'AL5OEDM8TPTKV', 'A1GBINHNAQWVC9', 'ABMX8XUNPR3LP', 'A1R6DKN9YQ2YU1', 'A2PNTEDGMOLMOY', 'A1AYJY5NBGHPEW', 'AAPA4KQWA7UXN', 'A3Q04XXGGED746', 'A3M3W5GV0HIQK4', 'A3861IBNFDR8RU', 'A33872WCAUCJ60', 'A3OMJ4HJCS5733', 'A2W7WH9V5OKUA9', 'A35JTVM6A5T2VF', 'ATSO7AOHFHUMB', 'A3IF1HLV50KR7F', 'A120MT4EOEP9N1', 'A3TKGM2JJJC1I3', 'A29NUB3P6YIWZG', 'A2F6N60Z96CAJI', 'A19B0GTBYVO2OL', 'A4H4KYSM2KQ85', 'A260HPXUTLD8VV', 'A3F3B6HY9RJI04', 'AOTRWWEIYUFGN', 'A3M3ZSEP3JL3GS', 'A3GA09FYFKL4EY', 'A1HS3BUBNZJJD6', 'A1TWH3KD5YJQHM', 'A2UDGZUEYHULS5', 'A1U0WO33TVDE9K', 'A1S8AJIUIO6M9K', 'A2ZE73RFY0GD3K', 'A34989LDU92LBH', 'A1A6VHOP1K7RIM', 'A1AAYBKPTL97JE', 'A2Q3D3CC9HT0S5', 'A2SW2A3PE5RUQE', 'A3C2FPHNY2UST9', 'A2F6SZLKG0TOJ7', 'A2KIVODZRTGY4U', 'A1DW4U1LQV0XW7', 'A3R2M6DGECQOO', 'AGKPTMTR3UX1R', 'A2HFQ405AKX4IW', 'A1Z54EM24Y40LL', 'A1EAR10P5PK8BY', 'A96K1ZGW56S2I', 'A1S3C5OFU508P3', 'A3O2RCKAMSE9X7', 'A1L43KWWR05PCS', 'A19XE6G6NDZFPS', 'A3S738GO35SH0W', 'A2K4RNOAD5J3WB', 'A3KUKRMJ79VQI4', 'A2SLA0SXRQV8M0', 'A2L5XWA1DRCFAH', 'A13H2JJ3GEMJN1', 'A3GK6YHJVPSEMM', 'A2MAB5Q4XA209W', 'A3F1G6UH4Y39X2', 'AXVTZXJI0MS99', 'A3VO648HFK2LZD', 'AVHBK2SJ6CJ1C', 'A3OJFPKMCXKOM0', 'A1TZUEPNKS7B5C', 'A1P6NHUF7Q24E7', 'A3VOZJDB8473H7', 'A3GKPMHV4U64IY', 'A2BZCHIDR5FTYA', 'A1NY28967H5TIQ', 'A1SCD2NYTIAQTY', 'A114YQ7ZT9Y1W5', 'A3V7OXQ6QNOWIG', 'A3048XU056O865', 'A15Q7ABIU9O9YZ', 'A1S60W4KWFX1Y9', 'AI37YX1U4KB1L', 'AYYAIPS6M3HB8', 'AHXAPVSHPJ6OJ', 'A3DIGM3KB4E11V', 'A23ZCJ9U3ZN0FK', 'ABTUNH7645QJL', 'A1S5B32WYMEE44', 'A1BXA3SM3AJOKL', 'AAKIMS08BPBLZ', 'A11OBEH2ZCVAHX', 'A11B61QBGHLQDN', 'A260X99UW6HA9Z', 'A19B0WUZCH8I4R', 'AUNHTUF4ATEJM', 'AN0XWUHSHRUG6', 'A1F0O78HKGBRKO', 'A2JP0URFHXP6DO', 'A1P959K7WNXNGF', 'AYKYFFCC49HVT', 'A1GPGBHBI6T2HJ', 'AFN32PGTZ31MV', 'A2PR6NXG0PA3KY', 'A1RRV2KVA2AXLZ', 'AFJFXN42RZ3G2', 'A2JYIDH7JIG48H', 'A3V2W0GE6XQUPF', 'AC7MP9R2FKEAI', 'A15Y2FQ5WNR63Y', 'A2E7E9EWADK4S6', 'A1MC81HLJ6Z9ZQ', 'A1XJ64FBB2IRGT', 'A1OB5L3WMHJAD9', 'A1F8GH7CR68P59', 'A19Q6JEEEBNOAU', 'AMIGVTZZIWS6I', 'A1JIPFV4OL520T', 'AYFNOHE3IQQ4G', 'A1ZDWD35AZL3S', 'A1MZB6UBKOVSK0', 'A3R9X003XW0LNR', 'AEJ31WGHJ59C', 'A1BMKEJ61X57EU', 'A26PC6A130JU4T', 'A3BIFMT9SH4J48', 'A3M6TSEV71537G', 'AGG9C66TOLJZB', 'ALN0TTRTLHA4E', 'AOXPGMSBJ4QSN', 'ALDRY40BPNY09', 'A1JYYFGPMHSEB6', 'A1K9504M9GDE2J', 'A1EEW7AS30AK5Q', 'A2UTKYA2U8542F', 'A3DFH4CKPIT0N9', 'A1TT5T47AVDDBM', 'A3SOV9HFM5H9T1', 'A3QAZAWSD2A34U', 'A29SHFBU5O9BWO', 'A13OFOB1394G31', 'A2GJ98824GGXGP', 'AD4XBTBQYQBT3', 'AC06F0LPHI1TW', 'AAP7PPBU72QFM', 'A3QZCA4LTTVGAD', 'A1SVXJZ3386U2D', 'A1H72DULSEGDX7', 'A1N1YEMTI9DJ86', 'A37IH65E7CTXRS', 'A2WETFLJM0D6R0', 'A2FEGRJQNU51P9', 'A30ZPSYOGFJXR6', 'A1G9FX1KV45N41', 'A13E0ARAXI6KJW', 'A2EBLL2OYEQJN9', 'AMVC9WTXYKNJ1', 'ARDIOWPTDTPSM', 'A8DJ9EU2QP2JM', 'A13CLRLO9ZB9IA', 'A3EJWHGO91FA0N', 'A3CWEK9HY2VPDL', 'AKMEY1BSHSDG7', 'A3JSDV57XPD937', 'A2ISOGXDWC99G6', 'A1BGE3EXIJ42XA', 'A11YV6VC51HJTV', 'A28WSXVR56HF9M', 'AELSTEJJO90M7', 'A202FGBQHO5638', 'A3CS4U2S7C6XW6', 'A1T6PXM2M3N84A', 'A17E7K3MQ5KKR5', 'A359U0JFFZ0Q04', 'A18FUHNBP90IB4', 'A2GBJQ9THOYDAJ', 'A25AMBAAZLNTQT', 'AFITDZEWKJKAM', 'AUHG8KSHI529U', 'AX724J32HPG1J', 'A3D6KZT0QG6UKB', 'A35DI28HRSEEP6', 'A1VDI1GQKNVA7U', 'A27KTPDJQ0U7I6', 'A2ZSC81MXLBELX', 'AIIR8E34EDKCQ', 'A2IP33O7WBJLU5', 'A9ETDX5K04DY', 'A2YM3KILJ1G0YJ', 'A2MGUNKW1ANLT5', 'A1X90SEW99DK3G', 'A1I9B4PSCDDWOO', 'A1PEKEZTSDJAVH', 'A2AIE9DO5QSVBD', 'A30TK6U7DNS82R', 'A2Z4KA3EFQWZOX', 'A18C9SNLZWVBIE', 'A1RAUVCWYHTQI4', 'A2VG8F8TL6AYDR', 'A1W8FEWH4R8SSA', 'A2X29H96X7C3XJ', 'A1EKTLUL24HDG8', 'A29ON7RAVEIU4P', 'AINRTJ8VUFDAV', 'A16QQ78I8J29PA', 'A1K52PKH298ALO', 'A265NE6H6LYX87', 'A2CWQW5MCYL10J', 'A1RFQVHBKVN4TA', 'A20HMA36ESANHC', 'A2U0XHQB7MMH0E']\n"
     ]
    }
   ],
   "source": [
    "import random\n",
    "\n",
    "# Lấy ngẫu nhiên 1000 UserID từ danh sách\n",
    "user_ids_sample = random.sample(user_ids, 500)\n",
    "user_ids = user_ids_sample\n",
    "print(\"Danh sách 1000 UserID ngẫu nhiên:\")\n",
    "print(user_ids)\n"
   ]
  },
  {
   "cell_type": "code",
   "execution_count": null,
   "metadata": {},
   "outputs": [
    {
     "name": "stdout",
     "output_type": "stream",
     "text": [
      "Đang tính user 1\n"
     ]
    },
    {
     "ename": "KeyError",
     "evalue": "'UserID'",
     "output_type": "error",
     "traceback": [
      "\u001b[1;31m---------------------------------------------------------------------------\u001b[0m",
      "\u001b[1;31mKeyError\u001b[0m                                  Traceback (most recent call last)",
      "File \u001b[1;32md:\\Work\\Python\\Lib\\site-packages\\pandas\\core\\indexes\\base.py:3790\u001b[0m, in \u001b[0;36mIndex.get_loc\u001b[1;34m(self, key)\u001b[0m\n\u001b[0;32m   3789\u001b[0m \u001b[38;5;28;01mtry\u001b[39;00m:\n\u001b[1;32m-> 3790\u001b[0m     \u001b[38;5;28;01mreturn\u001b[39;00m \u001b[38;5;28;43mself\u001b[39;49m\u001b[38;5;241;43m.\u001b[39;49m\u001b[43m_engine\u001b[49m\u001b[38;5;241;43m.\u001b[39;49m\u001b[43mget_loc\u001b[49m\u001b[43m(\u001b[49m\u001b[43mcasted_key\u001b[49m\u001b[43m)\u001b[49m\n\u001b[0;32m   3791\u001b[0m \u001b[38;5;28;01mexcept\u001b[39;00m \u001b[38;5;167;01mKeyError\u001b[39;00m \u001b[38;5;28;01mas\u001b[39;00m err:\n",
      "File \u001b[1;32mindex.pyx:152\u001b[0m, in \u001b[0;36mpandas._libs.index.IndexEngine.get_loc\u001b[1;34m()\u001b[0m\n",
      "File \u001b[1;32mindex.pyx:181\u001b[0m, in \u001b[0;36mpandas._libs.index.IndexEngine.get_loc\u001b[1;34m()\u001b[0m\n",
      "File \u001b[1;32mpandas\\_libs\\hashtable_class_helper.pxi:7080\u001b[0m, in \u001b[0;36mpandas._libs.hashtable.PyObjectHashTable.get_item\u001b[1;34m()\u001b[0m\n",
      "File \u001b[1;32mpandas\\_libs\\hashtable_class_helper.pxi:7088\u001b[0m, in \u001b[0;36mpandas._libs.hashtable.PyObjectHashTable.get_item\u001b[1;34m()\u001b[0m\n",
      "\u001b[1;31mKeyError\u001b[0m: 'UserID'",
      "\nThe above exception was the direct cause of the following exception:\n",
      "\u001b[1;31mKeyError\u001b[0m                                  Traceback (most recent call last)",
      "Cell \u001b[1;32mIn[86], line 14\u001b[0m\n\u001b[0;32m     12\u001b[0m count \u001b[38;5;241m+\u001b[39m\u001b[38;5;241m=\u001b[39m\u001b[38;5;241m1\u001b[39m\n\u001b[0;32m     13\u001b[0m \u001b[38;5;28mprint\u001b[39m(\u001b[38;5;124mf\u001b[39m\u001b[38;5;124m\"\u001b[39m\u001b[38;5;124mĐang tính user \u001b[39m\u001b[38;5;132;01m{\u001b[39;00mcount\u001b[38;5;132;01m}\u001b[39;00m\u001b[38;5;124m\"\u001b[39m)\n\u001b[1;32m---> 14\u001b[0m actual_books \u001b[38;5;241m=\u001b[39m test[\u001b[43mtest\u001b[49m\u001b[43m[\u001b[49m\u001b[38;5;124;43m'\u001b[39;49m\u001b[38;5;124;43mUserID\u001b[39;49m\u001b[38;5;124;43m'\u001b[39;49m\u001b[43m]\u001b[49m \u001b[38;5;241m==\u001b[39m user_id][[\u001b[38;5;124m'\u001b[39m\u001b[38;5;124mMovieID\u001b[39m\u001b[38;5;124m'\u001b[39m, \u001b[38;5;124m'\u001b[39m\u001b[38;5;124mRating\u001b[39m\u001b[38;5;124m'\u001b[39m]]\u001b[38;5;241m.\u001b[39mvalues\u001b[38;5;241m.\u001b[39mtolist()\n\u001b[0;32m     16\u001b[0m suggested_books \u001b[38;5;241m=\u001b[39m recommend_books(user_id, top_k\u001b[38;5;241m=\u001b[39m\u001b[38;5;241m10\u001b[39m) \n\u001b[0;32m     18\u001b[0m actual_dict \u001b[38;5;241m=\u001b[39m \u001b[38;5;28mdict\u001b[39m(actual_books)\n",
      "File \u001b[1;32md:\\Work\\Python\\Lib\\site-packages\\pandas\\core\\frame.py:3896\u001b[0m, in \u001b[0;36mDataFrame.__getitem__\u001b[1;34m(self, key)\u001b[0m\n\u001b[0;32m   3894\u001b[0m \u001b[38;5;28;01mif\u001b[39;00m \u001b[38;5;28mself\u001b[39m\u001b[38;5;241m.\u001b[39mcolumns\u001b[38;5;241m.\u001b[39mnlevels \u001b[38;5;241m>\u001b[39m \u001b[38;5;241m1\u001b[39m:\n\u001b[0;32m   3895\u001b[0m     \u001b[38;5;28;01mreturn\u001b[39;00m \u001b[38;5;28mself\u001b[39m\u001b[38;5;241m.\u001b[39m_getitem_multilevel(key)\n\u001b[1;32m-> 3896\u001b[0m indexer \u001b[38;5;241m=\u001b[39m \u001b[38;5;28;43mself\u001b[39;49m\u001b[38;5;241;43m.\u001b[39;49m\u001b[43mcolumns\u001b[49m\u001b[38;5;241;43m.\u001b[39;49m\u001b[43mget_loc\u001b[49m\u001b[43m(\u001b[49m\u001b[43mkey\u001b[49m\u001b[43m)\u001b[49m\n\u001b[0;32m   3897\u001b[0m \u001b[38;5;28;01mif\u001b[39;00m is_integer(indexer):\n\u001b[0;32m   3898\u001b[0m     indexer \u001b[38;5;241m=\u001b[39m [indexer]\n",
      "File \u001b[1;32md:\\Work\\Python\\Lib\\site-packages\\pandas\\core\\indexes\\base.py:3797\u001b[0m, in \u001b[0;36mIndex.get_loc\u001b[1;34m(self, key)\u001b[0m\n\u001b[0;32m   3792\u001b[0m     \u001b[38;5;28;01mif\u001b[39;00m \u001b[38;5;28misinstance\u001b[39m(casted_key, \u001b[38;5;28mslice\u001b[39m) \u001b[38;5;129;01mor\u001b[39;00m (\n\u001b[0;32m   3793\u001b[0m         \u001b[38;5;28misinstance\u001b[39m(casted_key, abc\u001b[38;5;241m.\u001b[39mIterable)\n\u001b[0;32m   3794\u001b[0m         \u001b[38;5;129;01mand\u001b[39;00m \u001b[38;5;28many\u001b[39m(\u001b[38;5;28misinstance\u001b[39m(x, \u001b[38;5;28mslice\u001b[39m) \u001b[38;5;28;01mfor\u001b[39;00m x \u001b[38;5;129;01min\u001b[39;00m casted_key)\n\u001b[0;32m   3795\u001b[0m     ):\n\u001b[0;32m   3796\u001b[0m         \u001b[38;5;28;01mraise\u001b[39;00m InvalidIndexError(key)\n\u001b[1;32m-> 3797\u001b[0m     \u001b[38;5;28;01mraise\u001b[39;00m \u001b[38;5;167;01mKeyError\u001b[39;00m(key) \u001b[38;5;28;01mfrom\u001b[39;00m \u001b[38;5;21;01merr\u001b[39;00m\n\u001b[0;32m   3798\u001b[0m \u001b[38;5;28;01mexcept\u001b[39;00m \u001b[38;5;167;01mTypeError\u001b[39;00m:\n\u001b[0;32m   3799\u001b[0m     \u001b[38;5;66;03m# If we have a listlike key, _check_indexing_error will raise\u001b[39;00m\n\u001b[0;32m   3800\u001b[0m     \u001b[38;5;66;03m#  InvalidIndexError. Otherwise we fall through and re-raise\u001b[39;00m\n\u001b[0;32m   3801\u001b[0m     \u001b[38;5;66;03m#  the TypeError.\u001b[39;00m\n\u001b[0;32m   3802\u001b[0m     \u001b[38;5;28mself\u001b[39m\u001b[38;5;241m.\u001b[39m_check_indexing_error(key)\n",
      "\u001b[1;31mKeyError\u001b[0m: 'UserID'"
     ]
    }
   ],
   "source": [
    "import numpy as np\n",
    "\n",
    "total_tp = 0  # Tổng số True Positives\n",
    "total_fp = 0  # Tổng số False Positives\n",
    "total_fn = 0  # Tổng số False Negatives\n",
    "total_squared_error = 0  # Tổng bình phương sai số\n",
    "total_absolute_error = 0  # Tổng sai số tuyệt đối\n",
    "total_predictions = 0  # Tổng số dự đoán được sử dụng cho MSE, RMSE, MAE\n",
    "\n",
    "count = 0\n",
    "\n",
    "for user_id in user_ids:\n",
    "    count +=1\n",
    "    print(f\"Bắt đầu tính user thứ {count}\")\n",
    "    actual_books = test[test['User_id'] == user_id][['book_id', 'review/score']].values.tolist()\n",
    "    \n",
    "    suggested_books = recommend_books(user_id, top_k=10) \n",
    "    \n",
    "    actual_dict = dict(actual_books)\n",
    "    \n",
    "    suggested_book_ids = set([book_id for book_id, _ in suggested_books])\n",
    "    actual_book_ids = set([book_id for book_id, _ in actual_books])\n",
    "\n",
    "    # TP (True Positives), FP (False Positives) và FN (False Negatives) cho use hiện tại\n",
    "    tp = len(suggested_book_ids.intersection(actual_book_ids))\n",
    "    fp = len(suggested_book_ids - actual_book_ids)\n",
    "    fn = len(actual_book_ids - suggested_book_ids)\n",
    "    \n",
    "    total_tp += tp\n",
    "    total_fp += fp\n",
    "    total_fn += fn\n",
    "\n",
    "    # MSE, RMSE, MAE\n",
    "    for book_id, predicted_score in suggested_books:\n",
    "        if book_id in actual_dict:\n",
    "            actual_score = actual_dict[book_id]\n",
    "            total_squared_error += (actual_score - predicted_score) ** 2\n",
    "            total_absolute_error += abs(actual_score - predicted_score)\n",
    "            total_predictions += 1\n",
    "\n",
    "precision = total_tp / (total_tp + total_fp) if (total_tp + total_fp) > 0 else 0\n",
    "recall = total_tp / (total_tp + total_fn) if (total_tp + total_fn) > 0 else 0\n",
    "f1_score = (2 * precision * recall) / (precision + recall) if (precision + recall) > 0 else 0\n",
    "\n",
    "mse = total_squared_error / total_predictions if total_predictions > 0 else 0\n",
    "rmse = np.sqrt(mse)\n",
    "mae = total_absolute_error / total_predictions if total_predictions > 0 else 0\n",
    "\n",
    "print(\"Overall Precision:\", precision)\n",
    "print(\"Overall Recall:\", recall)\n",
    "print(\"Overall F1-score:\", f1_score)\n",
    "print(\"Overall MSE:\", mse) \n",
    "print(\"Overall RMSE:\", rmse)\n",
    "print(\"Overall MAE:\", mae)\n"
   ]
  }
 ],
 "metadata": {
  "kernelspec": {
   "display_name": "Python 3",
   "language": "python",
   "name": "python3"
  },
  "language_info": {
   "codemirror_mode": {
    "name": "ipython",
    "version": 3
   },
   "file_extension": ".py",
   "mimetype": "text/x-python",
   "name": "python",
   "nbconvert_exporter": "python",
   "pygments_lexer": "ipython3",
   "version": "3.11.4"
  }
 },
 "nbformat": 4,
 "nbformat_minor": 2
}
