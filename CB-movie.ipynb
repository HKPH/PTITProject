{
 "cells": [
  {
   "cell_type": "code",
   "execution_count": 39,
   "metadata": {},
   "outputs": [
    {
     "name": "stdout",
     "output_type": "stream",
     "text": [
      "Users DataFrame:\n",
      "   UserID Gender  Age  Occupation Zip-code\n",
      "0       1      F    1          10    48067\n",
      "1       2      M   56          16    70072\n",
      "2       3      M   25          15    55117\n",
      "3       4      M   45           7    02460\n",
      "4       5      M   25          20    55455\n",
      "\n",
      "Ratings DataFrame:\n",
      "   UserID  MovieID  Rating  Timestamp\n",
      "0       1     1193       5  978300760\n",
      "1       1      661       3  978302109\n",
      "2       1      914       3  978301968\n",
      "3       1     3408       4  978300275\n",
      "4       1     2355       5  978824291\n",
      "\n",
      "Movies DataFrame:\n",
      "   MovieID                               Title                        Genres\n",
      "0        1                    Toy Story (1995)   Animation|Children's|Comedy\n",
      "1        2                      Jumanji (1995)  Adventure|Children's|Fantasy\n",
      "2        3             Grumpier Old Men (1995)                Comedy|Romance\n",
      "3        4            Waiting to Exhale (1995)                  Comedy|Drama\n",
      "4        5  Father of the Bride Part II (1995)                        Comedy\n"
     ]
    }
   ],
   "source": [
    "import pandas as pd\n",
    "from sklearn.preprocessing import OneHotEncoder\n",
    "import numpy as np\n",
    "\n",
    "# Đọc file users.dat\n",
    "users = pd.read_csv('dataset/users.dat', sep=\"::\", engine='python', \n",
    "                    names=[\"UserID\", \"Gender\", \"Age\", \"Occupation\", \"Zip-code\"])\n",
    "\n",
    "# Đọc file ratings.dat\n",
    "ratings = pd.read_csv('dataset/ratings.dat', sep=\"::\", engine='python', \n",
    "                      names=[\"UserID\", \"MovieID\", \"Rating\", \"Timestamp\"])\n",
    "\n",
    "# Đọc file movies.dat\n",
    "movies = pd.read_csv('dataset/movies.dat', sep=\"::\", engine='python', \n",
    "                     names=[\"MovieID\", \"Title\", \"Genres\"], encoding=\"ISO-8859-1\")\n",
    "\n",
    "# Hiển thị 5 dòng đầu tiên của mỗi DataFrame để kiểm tra\n",
    "print(\"Users DataFrame:\")\n",
    "print(users.head())\n",
    "print(\"\\nRatings DataFrame:\")\n",
    "print(ratings.head())\n",
    "print(\"\\nMovies DataFrame:\")\n",
    "print(movies.head())\n",
    "\n"
   ]
  },
  {
   "cell_type": "code",
   "execution_count": 40,
   "metadata": {},
   "outputs": [
    {
     "name": "stdout",
     "output_type": "stream",
     "text": [
      "\n",
      "One-Hot Encoded Genres with MovieID as index:\n",
      "         Action  Adventure  Animation  Children's  Comedy  Crime  Documentary  \\\n",
      "MovieID                                                                         \n",
      "1             0          0          1           1       1      0            0   \n",
      "2             0          1          0           1       0      0            0   \n",
      "3             0          0          0           0       1      0            0   \n",
      "4             0          0          0           0       1      0            0   \n",
      "5             0          0          0           0       1      0            0   \n",
      "\n",
      "         Drama  Fantasy  Film-Noir  Horror  Musical  Mystery  Romance  Sci-Fi  \\\n",
      "MovieID                                                                         \n",
      "1            0        0          0       0        0        0        0       0   \n",
      "2            0        1          0       0        0        0        0       0   \n",
      "3            0        0          0       0        0        0        1       0   \n",
      "4            1        0          0       0        0        0        0       0   \n",
      "5            0        0          0       0        0        0        0       0   \n",
      "\n",
      "         Thriller  War  Western  \n",
      "MovieID                          \n",
      "1               0    0        0  \n",
      "2               0    0        0  \n",
      "3               0    0        0  \n",
      "4               0    0        0  \n",
      "5               0    0        0  \n"
     ]
    }
   ],
   "source": [
    "# Tạo ma trận One-Hot cho các thể loại phim\n",
    "genre_dummies = movies['Genres'].str.get_dummies(sep='|')\n",
    "\n",
    "# Ghi nhãn cho các genre để sử dụng dễ dàng hơn\n",
    "genre_dummies.columns = [genre.strip() for genre in genre_dummies.columns]\n",
    "\n",
    "# Thêm MovieID làm chỉ mục cho genre_dummies\n",
    "genre_dummies.index = movies['MovieID']\n",
    "\n",
    "# Hiển thị ma trận One-Hot\n",
    "print(\"\\nOne-Hot Encoded Genres with MovieID as index:\")\n",
    "print(genre_dummies.head())\n"
   ]
  },
  {
   "cell_type": "code",
   "execution_count": 41,
   "metadata": {},
   "outputs": [
    {
     "name": "stdout",
     "output_type": "stream",
     "text": [
      "\n",
      "User Ratings for User ID 1:\n",
      "MovieID  1     48    150   260   527   531   588   594   595   608   ...  \\\n",
      "UserID                                                               ...   \n",
      "1           5     5     5     4     5     4     4     4     5     4  ...   \n",
      "\n",
      "MovieID  2692  2762  2791  2797  2804  2918  3105  3114  3186  3408  \n",
      "UserID                                                               \n",
      "1           4     4     4     4     5     4     5     4     4     4  \n",
      "\n",
      "[1 rows x 53 columns]\n"
     ]
    }
   ],
   "source": [
    "user_id = 1  # Thay đổi user_id theo nhu cầu\n",
    "user_ratings = ratings[ratings['UserID'] == user_id].pivot(index='UserID', columns='MovieID', values='Rating').fillna(0)\n",
    "\n",
    "# Hiển thị ma trận ratings chỉ của user_id\n",
    "print(f\"\\nUser Ratings for User ID {user_id}:\")\n",
    "print(user_ratings)"
   ]
  },
  {
   "cell_type": "code",
   "execution_count": 42,
   "metadata": {},
   "outputs": [
    {
     "name": "stdout",
     "output_type": "stream",
     "text": [
      "\n",
      "User Genre Scores:\n",
      "   Action  Adventure  Animation  Children's  Comedy  Crime  Documentary  \\\n",
      "1      21         20         74          85      58      8            0   \n",
      "\n",
      "   Drama  Fantasy  Film-Noir  Horror  Musical  Mystery  Romance  Sci-Fi  \\\n",
      "1     93       12          0       0       60        0       22      13   \n",
      "\n",
      "   Thriller  War  Western  \n",
      "1        11   10        0  \n",
      "\n",
      "Normalized User Genre Scores:\n",
      "     Action  Adventure  Animation  Children's    Comedy     Crime  \\\n",
      "1  0.043121   0.041068   0.151951    0.174538  0.119097  0.016427   \n",
      "\n",
      "   Documentary     Drama   Fantasy  Film-Noir  Horror   Musical  Mystery  \\\n",
      "1          0.0  0.190965  0.024641        0.0     0.0  0.123203      0.0   \n",
      "\n",
      "    Romance    Sci-Fi  Thriller       War  Western  \n",
      "1  0.045175  0.026694  0.022587  0.020534      0.0  \n"
     ]
    }
   ],
   "source": [
    "# Bước 6: Nhân giá trị đánh giá với ma trận thể loại\n",
    "user_genre_scores = pd.DataFrame(0, index=[user_id], columns=genre_dummies.columns)\n",
    "\n",
    "for movie_id, rating in user_ratings.iloc[0].items():\n",
    "    if rating > 0:  # Chỉ xét những phim đã được đánh giá\n",
    "        user_genre_scores += rating * genre_dummies.loc[movie_id]\n",
    "\n",
    "# Hiển thị kết quả\n",
    "print(\"\\nUser Genre Scores:\")\n",
    "print(user_genre_scores)\n",
    "\n",
    "# Bước 7: Chuẩn hóa điểm thể loại\n",
    "# Chuyển đổi tổng điểm thành mảng NumPy trước khi chia\n",
    "total_genre_scores = user_genre_scores.sum(axis=1).values.reshape(-1, 1)\n",
    "user_genre_scores_normalized = user_genre_scores / total_genre_scores\n",
    "\n",
    "# Hiển thị điểm thể loại đã được chuẩn hóa\n",
    "print(\"\\nNormalized User Genre Scores:\")\n",
    "print(user_genre_scores_normalized)\n"
   ]
  },
  {
   "cell_type": "code",
   "execution_count": 43,
   "metadata": {},
   "outputs": [
    {
     "name": "stdout",
     "output_type": "stream",
     "text": [
      "\n",
      "Suggested Scores for Unrated Movies:\n",
      "           Action  Adventure  Animation  Children's    Comedy     Crime  \\\n",
      "MovieID                                                                   \n",
      "2        0.000000   0.041068        0.0    0.174538  0.000000  0.000000   \n",
      "3        0.000000   0.000000        0.0    0.000000  0.119097  0.000000   \n",
      "4        0.000000   0.000000        0.0    0.000000  0.119097  0.000000   \n",
      "5        0.000000   0.000000        0.0    0.000000  0.119097  0.000000   \n",
      "6        0.043121   0.000000        0.0    0.000000  0.000000  0.016427   \n",
      "...           ...        ...        ...         ...       ...       ...   \n",
      "3948     0.000000   0.000000        0.0    0.000000  0.119097  0.000000   \n",
      "3949     0.000000   0.000000        0.0    0.000000  0.000000  0.000000   \n",
      "3950     0.000000   0.000000        0.0    0.000000  0.000000  0.000000   \n",
      "3951     0.000000   0.000000        0.0    0.000000  0.000000  0.000000   \n",
      "3952     0.000000   0.000000        0.0    0.000000  0.000000  0.000000   \n",
      "\n",
      "         Documentary     Drama   Fantasy  Film-Noir  Horror  Musical  Mystery  \\\n",
      "MovieID                                                                         \n",
      "2                0.0  0.000000  0.024641        0.0     0.0      0.0      0.0   \n",
      "3                0.0  0.000000  0.000000        0.0     0.0      0.0      0.0   \n",
      "4                0.0  0.190965  0.000000        0.0     0.0      0.0      0.0   \n",
      "5                0.0  0.000000  0.000000        0.0     0.0      0.0      0.0   \n",
      "6                0.0  0.000000  0.000000        0.0     0.0      0.0      0.0   \n",
      "...              ...       ...       ...        ...     ...      ...      ...   \n",
      "3948             0.0  0.000000  0.000000        0.0     0.0      0.0      0.0   \n",
      "3949             0.0  0.190965  0.000000        0.0     0.0      0.0      0.0   \n",
      "3950             0.0  0.190965  0.000000        0.0     0.0      0.0      0.0   \n",
      "3951             0.0  0.190965  0.000000        0.0     0.0      0.0      0.0   \n",
      "3952             0.0  0.190965  0.000000        0.0     0.0      0.0      0.0   \n",
      "\n",
      "          Romance  Sci-Fi  Thriller  War  Western  \n",
      "MovieID                                            \n",
      "2        0.000000     0.0  0.000000  0.0      0.0  \n",
      "3        0.045175     0.0  0.000000  0.0      0.0  \n",
      "4        0.000000     0.0  0.000000  0.0      0.0  \n",
      "5        0.000000     0.0  0.000000  0.0      0.0  \n",
      "6        0.000000     0.0  0.022587  0.0      0.0  \n",
      "...           ...     ...       ...  ...      ...  \n",
      "3948     0.000000     0.0  0.000000  0.0      0.0  \n",
      "3949     0.000000     0.0  0.000000  0.0      0.0  \n",
      "3950     0.000000     0.0  0.000000  0.0      0.0  \n",
      "3951     0.000000     0.0  0.000000  0.0      0.0  \n",
      "3952     0.000000     0.0  0.022587  0.0      0.0  \n",
      "\n",
      "[3830 rows x 18 columns]\n"
     ]
    }
   ],
   "source": [
    "# Bước 1: Lấy ID của các phim chưa được đánh giá\n",
    "rated_movie_ids = user_ratings.columns[user_ratings.iloc[0] > 0].tolist()  # Lấy danh sách ID phim đã đánh giá\n",
    "unrated_movie_ids = genre_dummies.index[~genre_dummies.index.isin(rated_movie_ids)]  # ID phim chưa đánh giá\n",
    "\n",
    "# Bước 2: Lấy các phim chưa được đánh giá từ genre_dummies\n",
    "unrated_genre_dummies = genre_dummies.loc[unrated_movie_ids]\n",
    "\n",
    "# Bước 3: Nhân user_genre_scores_normalized với unrated_genre_dummies\n",
    "# Chúng ta sẽ nhân từng cột của unrated_genre_dummies với user_genre_scores_normalized\n",
    "suggested_scores = unrated_genre_dummies * user_genre_scores_normalized.values\n",
    "\n",
    "# Hiển thị kết quả\n",
    "print(\"\\nSuggested Scores for Unrated Movies:\")\n",
    "print(suggested_scores)\n"
   ]
  },
  {
   "cell_type": "code",
   "execution_count": 44,
   "metadata": {},
   "outputs": [
    {
     "name": "stdout",
     "output_type": "stream",
     "text": [
      "\n",
      "Suggested Movies Sorted by Score (Descending):\n",
      "      MovieID  SuggestedScore\n",
      "1975     2081        0.613963\n",
      "1974     2080        0.613963\n",
      "1996     2102        0.568789\n",
      "1972     2078        0.568789\n",
      "2032     2138        0.542094\n",
      "...       ...             ...\n",
      "3520     3642        0.000000\n",
      "1866     1970        0.000000\n",
      "1865     1969        0.000000\n",
      "396       404        0.000000\n",
      "2427     2538        0.000000\n",
      "\n",
      "[3830 rows x 2 columns]\n",
      "      MovieID  SuggestedScore\n",
      "1975     2081        0.613963\n",
      "1974     2080        0.613963\n",
      "1996     2102        0.568789\n",
      "1972     2078        0.568789\n",
      "2032     2138        0.542094\n",
      "...       ...             ...\n",
      "3520     3642        0.000000\n",
      "1866     1970        0.000000\n",
      "1865     1969        0.000000\n",
      "396       404        0.000000\n",
      "2427     2538        0.000000\n",
      "\n",
      "[3830 rows x 2 columns]\n"
     ]
    }
   ],
   "source": [
    "# Bước 1: Tính tổng điểm gợi ý cho mỗi phim chưa được đánh giá\n",
    "suggested_scores = unrated_genre_dummies * user_genre_scores_normalized.values\n",
    "\n",
    "# Bước 2: Cộng các giá trị lại cho mỗi MovieID\n",
    "suggested_scores_sum = suggested_scores.sum(axis=1)\n",
    "\n",
    "# Bước 3: Tạo DataFrame để lưu điểm gợi ý cho mỗi bộ phim\n",
    "suggested_movies = pd.DataFrame({\n",
    "    'MovieID': suggested_scores_sum.index,\n",
    "    'SuggestedScore': suggested_scores_sum.values\n",
    "})\n",
    "\n",
    "# Sắp xếp điểm gợi ý từ lớn đến bé\n",
    "suggested_movies_sorted = suggested_movies.sort_values(by='SuggestedScore', ascending=False)\n",
    "\n",
    "# Hiển thị kết quả đã sắp xếp\n",
    "print(\"\\nSuggested Movies Sorted by Score (Descending):\")\n",
    "print(suggested_movies_sorted)\n",
    "# Giới hạn điểm gợi ý trong khoảng từ 0 đến 5\n",
    "suggested_movies_sorted['SuggestedScore'] = suggested_movies_sorted['SuggestedScore'].clip(lower=0, upper=5)\n",
    "\n",
    "print(suggested_movies_sorted)\n"
   ]
  },
  {
   "cell_type": "code",
   "execution_count": 45,
   "metadata": {},
   "outputs": [
    {
     "name": "stdout",
     "output_type": "stream",
     "text": [
      "Users DataFrame:\n",
      "   UserID Gender  Age  Occupation Zip-code\n",
      "0       1      F    1          10    48067\n",
      "1       2      M   56          16    70072\n",
      "2       3      M   25          15    55117\n",
      "3       4      M   45           7    02460\n",
      "4       5      M   25          20    55455\n",
      "\n",
      "Ratings DataFrame:\n",
      "   UserID  MovieID  Rating  Timestamp\n",
      "0       1     1193       5  978300760\n",
      "1       1      661       3  978302109\n",
      "2       1      914       3  978301968\n",
      "3       1     3408       4  978300275\n",
      "4       1     2355       5  978824291\n",
      "\n",
      "Movies DataFrame:\n",
      "   MovieID                               Title                        Genres\n",
      "0        1                    Toy Story (1995)   Animation|Children's|Comedy\n",
      "1        2                      Jumanji (1995)  Adventure|Children's|Fantasy\n",
      "2        3             Grumpier Old Men (1995)                Comedy|Romance\n",
      "3        4            Waiting to Exhale (1995)                  Comedy|Drama\n",
      "4        5  Father of the Bride Part II (1995)                        Comedy\n"
     ]
    }
   ],
   "source": [
    "import pandas as pd\n",
    "\n",
    "# Đọc file users.dat\n",
    "users = pd.read_csv('dataset/users.dat', sep=\"::\", engine='python', \n",
    "                    names=[\"UserID\", \"Gender\", \"Age\", \"Occupation\", \"Zip-code\"])\n",
    "\n",
    "# Đọc file ratings.dat\n",
    "ratings = pd.read_csv('dataset/ratings.dat', sep=\"::\", engine='python', \n",
    "                      names=[\"UserID\", \"MovieID\", \"Rating\", \"Timestamp\"])\n",
    "\n",
    "# Đọc file movies.dat\n",
    "movies = pd.read_csv('dataset/movies.dat', sep=\"::\", engine='python', \n",
    "                     names=[\"MovieID\", \"Title\", \"Genres\"], encoding=\"ISO-8859-1\")\n",
    "\n",
    "\n",
    "# Hiển thị 5 dòng đầu tiên của mỗi DataFrame để kiểm tra\n",
    "print(\"Users DataFrame:\")\n",
    "print(users.head())\n",
    "print(\"\\nRatings DataFrame:\")\n",
    "print(ratings.head())\n",
    "print(\"\\nMovies DataFrame:\")\n",
    "print(movies.head())\n"
   ]
  },
  {
   "cell_type": "code",
   "execution_count": 46,
   "metadata": {},
   "outputs": [
    {
     "name": "stdout",
     "output_type": "stream",
     "text": [
      "Kích thước tập train: (800167, 4)\n",
      "Kích thước tập test: (200042, 4)\n"
     ]
    }
   ],
   "source": [
    "from sklearn.model_selection import train_test_split\n",
    "\n",
    "# Chia dữ liệu ratings thành hai tập train và test\n",
    "train, test = train_test_split(ratings, test_size=0.2, random_state=42)\n",
    "\n",
    "# Kiểm tra kích thước của mỗi tập\n",
    "print(\"Kích thước tập train:\", train.shape)\n",
    "print(\"Kích thước tập test:\", test.shape)\n"
   ]
  },
  {
   "cell_type": "code",
   "execution_count": 47,
   "metadata": {},
   "outputs": [],
   "source": [
    "ratings = train"
   ]
  },
  {
   "cell_type": "code",
   "execution_count": 48,
   "metadata": {},
   "outputs": [
    {
     "name": "stdout",
     "output_type": "stream",
     "text": [
      "      MovieID                                         Title  \\\n",
      "2586     2655  Howling II: Your Sister Is a Werewolf (1985)   \n",
      "3032     3101                       Fatal Attraction (1987)   \n",
      "3273     3342                                  Birdy (1984)   \n",
      "1866     1935                How Green Was My Valley (1941)   \n",
      "3138     3207              Snows of Kilimanjaro, The (1952)   \n",
      "...       ...                                           ...   \n",
      "2097     2166                     Return to Paradise (1998)   \n",
      "2070     2139                    Secret of NIMH, The (1982)   \n",
      "1562     1603                                  Mimic (1997)   \n",
      "3337     3406             Captain Horatio Hornblower (1951)   \n",
      "881       893                           Mother Night (1996)   \n",
      "\n",
      "                    Genres  \n",
      "2586                Horror  \n",
      "3032              Thriller  \n",
      "3273             Drama|War  \n",
      "1866                 Drama  \n",
      "3138             Adventure  \n",
      "...                    ...  \n",
      "2097         Drama|Romance  \n",
      "2070  Animation|Children's  \n",
      "1562       Sci-Fi|Thriller  \n",
      "3337  Action|Adventure|War  \n",
      "881                  Drama  \n",
      "\n",
      "[3000 rows x 3 columns]\n",
      "        UserID  MovieID  Rating   Timestamp\n",
      "0         2507     3035       2   974076680\n",
      "1         2592     3035       4   973826194\n",
      "2         2121     3035       5   974648214\n",
      "3          198     3035       4   976981314\n",
      "4         4108     3035       5   965375557\n",
      "...        ...      ...     ...         ...\n",
      "615671    1897      398       4  1006637498\n",
      "615672    1778      706       4  1032515716\n",
      "615673    3860      868       3   965859710\n",
      "615674    1812     2226       3  1036451763\n",
      "615675    1470     1118       2   974839413\n",
      "\n",
      "[615676 rows x 4 columns]\n"
     ]
    }
   ],
   "source": [
    "import pandas as pd\n",
    "import re\n",
    "\n",
    "movies = movies.sample(n=3000, random_state=2)\n",
    "\n",
    "ratings = ratings.merge(movies[['MovieID']], on='MovieID', how='inner')\n",
    "\n",
    "print(movies)\n",
    "print(ratings)"
   ]
  },
  {
   "cell_type": "code",
   "execution_count": 49,
   "metadata": {},
   "outputs": [],
   "source": [
    "# from sklearn.model_selection import train_test_split\n",
    "\n",
    "# def split_user_group(group, test_size=0.2):\n",
    "#     if len(group) < 2:\n",
    "#         return group, pd.DataFrame()\n",
    "#     train, test = train_test_split(group, test_size=test_size, random_state=1)\n",
    "#     return train, test\n",
    "\n",
    "# train_list = []\n",
    "# test_list = []\n",
    "\n",
    "# for user_id, group in filtered_books_rating_df.groupby('User_id'):\n",
    "#     train_group, test_group = split_user_group(group)\n",
    "#     train_list.append(train_group)\n",
    "#     test_list.append(test_group)\n",
    "\n",
    "# train_data = pd.concat(train_list)\n",
    "# test_data = pd.concat(test_list)\n",
    "\n",
    "# print(\"Tập train:\")\n",
    "# print(train_data)\n",
    "# print(\"Tập test:\")\n",
    "# print(test_data)"
   ]
  },
  {
   "cell_type": "code",
   "execution_count": 50,
   "metadata": {},
   "outputs": [],
   "source": [
    "# books_rating_df = train_data"
   ]
  },
  {
   "cell_type": "code",
   "execution_count": 51,
   "metadata": {},
   "outputs": [],
   "source": [
    "# import pandas as pd\n",
    "\n",
    "# def count_books_per_user(data):\n",
    "#     user_book_counts = data.groupby('User_id')['book_id'].count().reset_index()\n",
    "#     user_book_counts.columns = ['User_id', 'Rated_Books_Count']\n",
    "#     return user_book_counts\n",
    "\n",
    "# train_user_counts = count_books_per_user(books_rating_df)\n",
    "\n",
    "# train_user_counts = train_user_counts.sort_values(by='Rated_Books_Count', ascending=False)\n",
    "\n",
    "# print(\"Số lượng sách đã đánh giá trong train_data cho từng User_id (sắp xếp giảm dần):\")\n",
    "# print(train_user_counts)\n"
   ]
  },
  {
   "cell_type": "code",
   "execution_count": 52,
   "metadata": {},
   "outputs": [],
   "source": [
    "from sklearn.feature_extraction.text import TfidfVectorizer\n",
    "from sklearn.preprocessing import MultiLabelBinarizer\n",
    "from sklearn.metrics.pairwise import cosine_similarity\n",
    "from sklearn.metrics import jaccard_score\n",
    "import pandas as pd\n",
    "import numpy as np\n",
    "\n",
    "# tfidf_vectorizer = TfidfVectorizer(stop_words='english')\n",
    "# tfidf_matrix = tfidf_vectorizer.fit_transform(books['description'])\n",
    "# cosine_sim_description = cosine_similarity(tfidf_matrix)\n",
    "# cosine_sim_description_df = pd.DataFrame(cosine_sim_description, index=books['book_id'], columns=books['book_id'])\n",
    "# print(cosine_sim_description_df)\n"
   ]
  },
  {
   "cell_type": "code",
   "execution_count": 53,
   "metadata": {},
   "outputs": [],
   "source": [
    "# mlb_categories = MultiLabelBinarizer()\n",
    "# mlb_authors = MultiLabelBinarizer()\n",
    "# categories_encoded = mlb_categories.fit_transform(books['categories'])\n",
    "# authors_encoded = mlb_authors.fit_transform(books['authors'])\n"
   ]
  },
  {
   "cell_type": "code",
   "execution_count": 54,
   "metadata": {},
   "outputs": [],
   "source": [
    "movies['Genres'] = movies['Genres'].apply(lambda x: x.split('|'))\n",
    "\n",
    "\n",
    "mlb_genres = MultiLabelBinarizer()\n",
    "genres_encoded = mlb_genres.fit_transform(movies['Genres'])\n"
   ]
  },
  {
   "cell_type": "code",
   "execution_count": 55,
   "metadata": {},
   "outputs": [],
   "source": [
    "# def check_all_zero(encoded_matrix, feature_name, df):\n",
    "#     all_zero_rows = []\n",
    "#     for idx, row in enumerate(encoded_matrix):\n",
    "#         if np.all(row == 0):\n",
    "#             all_zero_rows.append(idx)\n",
    "    \n",
    "#     if all_zero_rows:\n",
    "#         print(f\"Các hàng toàn 0 trong {feature_name}: {all_zero_rows}\")\n",
    "#         zero_id_list = df.iloc[all_zero_rows]['book_id'].tolist()  # Giả sử cột ID có tên là 'id'\n",
    "#         print(f\"Các ID của sách có hàng mã hóa toàn 0 trong {feature_name}: {zero_id_list}\")\n",
    "#     else:\n",
    "#         print(f\"Không có hàng nào toàn 0 trong {feature_name}.\")\n",
    "\n",
    "# check_all_zero(categories_encoded, \"categories\", books)\n",
    "# check_all_zero(authors_encoded, \"authors\", books)"
   ]
  },
  {
   "cell_type": "markdown",
   "metadata": {},
   "source": [
    "Khoảng cách L2 (Euclidean Distance)"
   ]
  },
  {
   "cell_type": "code",
   "execution_count": 56,
   "metadata": {},
   "outputs": [
    {
     "name": "stdout",
     "output_type": "stream",
     "text": [
      "Ma trận tương đồng cho thể loại:\n",
      "MovieID  2655  3101  3342  1935  3207  509   3875  726   3545  1375  ...  \\\n",
      "MovieID                                                              ...   \n",
      "2655      1.0   1.0   1.0   1.0   1.0   1.0   1.0   1.0   1.0   1.0  ...   \n",
      "3101      1.0   1.0   1.0   1.0   1.0   1.0   1.0   1.0   1.0   1.0  ...   \n",
      "3342      1.0   1.0   1.0   1.0   1.0   1.0   1.0   1.0   1.0   1.0  ...   \n",
      "1935      1.0   1.0   1.0   1.0   1.0   1.0   1.0   1.0   1.0   1.0  ...   \n",
      "3207      1.0   1.0   1.0   1.0   1.0   1.0   1.0   1.0   1.0   1.0  ...   \n",
      "...       ...   ...   ...   ...   ...   ...   ...   ...   ...   ...  ...   \n",
      "2166      1.0   1.0   1.0   1.0   1.0   1.0   1.0   1.0   1.0   1.0  ...   \n",
      "2139      1.0   1.0   1.0   1.0   1.0   1.0   1.0   1.0   1.0   1.0  ...   \n",
      "1603      1.0   1.0   1.0   1.0   1.0   1.0   1.0   1.0   1.0   1.0  ...   \n",
      "3406      1.0   1.0   0.9   0.9   0.9   0.9   0.9   0.9   0.9   0.9  ...   \n",
      "893       1.0   1.0   1.0   1.0   1.0   1.0   1.0   1.0   1.0   1.0  ...   \n",
      "\n",
      "MovieID  2408  3661  1669  3584  1196  2166  2139  1603  3406  893   \n",
      "MovieID                                                              \n",
      "2655      0.5   0.5   0.5   0.4   0.4   0.4   0.4   0.4   0.4   0.3  \n",
      "3101      0.5   0.5   0.5   0.5   0.4   0.4   0.4   0.4   0.4   0.4  \n",
      "3342      0.4   0.4   0.4   0.4   0.3   0.3   0.3   0.3   0.3   0.3  \n",
      "1935      0.5   0.5   0.4   0.4   0.4   0.4   0.4   0.4   0.4   0.3  \n",
      "3207      0.5   0.5   0.5   0.5   0.5   0.5   0.5   0.4   0.4   0.3  \n",
      "...       ...   ...   ...   ...   ...   ...   ...   ...   ...   ...  \n",
      "2166      0.4   0.4   0.4   0.3   0.3   0.3   0.3   0.3   0.3   0.2  \n",
      "2139      0.4   0.4   0.4   0.4   0.4   0.4   0.4   0.3   0.3   0.3  \n",
      "1603      0.4   0.4   0.4   0.4   0.4   0.4   0.4   0.3   0.3   0.3  \n",
      "3406      0.3   0.3   0.3   0.3   0.3   0.3   0.3   0.3   0.3   0.2  \n",
      "893       0.5   0.5   0.4   0.4   0.4   0.4   0.4   0.4   0.4   0.3  \n",
      "\n",
      "[3000 rows x 3000 columns]\n"
     ]
    }
   ],
   "source": [
    "import pandas as pd\n",
    "import numpy as np\n",
    "import faiss\n",
    "\n",
    "# Hàm tính toán ma trận tương đồng bằng FAISS\n",
    "def faiss_similarity(encoded_matrix):\n",
    "    encoded_matrix = encoded_matrix.astype(np.float32)\n",
    "    index = faiss.IndexFlatL2(encoded_matrix.shape[1])\n",
    "    index.add(encoded_matrix)\n",
    "    distances, _ = index.search(encoded_matrix, k=encoded_matrix.shape[0])\n",
    "    return 1 - (distances / np.max(distances))\n",
    "\n",
    "# # Tính toán ma trận tương đồng cho thể loại\n",
    "# similarity_categories = faiss_similarity(categories_encoded)\n",
    "\n",
    "# # Tính toán ma trận tương đồng cho tác giả\n",
    "# similarity_authors = faiss_similarity(authors_encoded)\n",
    "\n",
    "# # Chuyển thành DataFrame\n",
    "# similarity_categories_df = pd.DataFrame(similarity_categories, index=books['book_id'], columns=books['book_id'])\n",
    "# similarity_authors_df = pd.DataFrame(similarity_authors, index=books['book_id'], columns=books['book_id'])\n",
    "\n",
    "\n",
    "# Tính toán ma trận tương đồng cho thể loại\n",
    "similarity_genres = faiss_similarity(genres_encoded)\n",
    "\n",
    "similarity_genres_df = pd.DataFrame(similarity_genres, index=movies['MovieID'], columns=movies['MovieID'])\n",
    "\n",
    "\n",
    "# Xuất kết quả\n",
    "print(\"Ma trận tương đồng cho thể loại:\")\n",
    "print(similarity_genres_df)\n",
    "\n"
   ]
  },
  {
   "cell_type": "code",
   "execution_count": 57,
   "metadata": {},
   "outputs": [
    {
     "name": "stdout",
     "output_type": "stream",
     "text": [
      "MovieID  2655  3101  3342  1935  3207  509   3875  726   3545  1375  ...  \\\n",
      "MovieID                                                              ...   \n",
      "2655      1.0   1.0   1.0   1.0   1.0   1.0   1.0   1.0   1.0   1.0  ...   \n",
      "3101      1.0   1.0   1.0   1.0   1.0   1.0   1.0   1.0   1.0   1.0  ...   \n",
      "3342      1.0   1.0   1.0   1.0   1.0   1.0   1.0   1.0   1.0   1.0  ...   \n",
      "1935      1.0   1.0   1.0   1.0   1.0   1.0   1.0   1.0   1.0   1.0  ...   \n",
      "3207      1.0   1.0   1.0   1.0   1.0   1.0   1.0   1.0   1.0   1.0  ...   \n",
      "...       ...   ...   ...   ...   ...   ...   ...   ...   ...   ...  ...   \n",
      "2166      1.0   1.0   1.0   1.0   1.0   1.0   1.0   1.0   1.0   1.0  ...   \n",
      "2139      1.0   1.0   1.0   1.0   1.0   1.0   1.0   1.0   1.0   1.0  ...   \n",
      "1603      1.0   1.0   1.0   1.0   1.0   1.0   1.0   1.0   1.0   1.0  ...   \n",
      "3406      1.0   1.0   0.9   0.9   0.9   0.9   0.9   0.9   0.9   0.9  ...   \n",
      "893       1.0   1.0   1.0   1.0   1.0   1.0   1.0   1.0   1.0   1.0  ...   \n",
      "\n",
      "MovieID  2408  3661  1669  3584  1196  2166  2139  1603  3406  893   \n",
      "MovieID                                                              \n",
      "2655      0.5   0.5   0.5   0.4   0.4   0.4   0.4   0.4   0.4   0.3  \n",
      "3101      0.5   0.5   0.5   0.5   0.4   0.4   0.4   0.4   0.4   0.4  \n",
      "3342      0.4   0.4   0.4   0.4   0.3   0.3   0.3   0.3   0.3   0.3  \n",
      "1935      0.5   0.5   0.4   0.4   0.4   0.4   0.4   0.4   0.4   0.3  \n",
      "3207      0.5   0.5   0.5   0.5   0.5   0.5   0.5   0.4   0.4   0.3  \n",
      "...       ...   ...   ...   ...   ...   ...   ...   ...   ...   ...  \n",
      "2166      0.4   0.4   0.4   0.3   0.3   0.3   0.3   0.3   0.3   0.2  \n",
      "2139      0.4   0.4   0.4   0.4   0.4   0.4   0.4   0.3   0.3   0.3  \n",
      "1603      0.4   0.4   0.4   0.4   0.4   0.4   0.4   0.3   0.3   0.3  \n",
      "3406      0.3   0.3   0.3   0.3   0.3   0.3   0.3   0.3   0.3   0.2  \n",
      "893       0.5   0.5   0.4   0.4   0.4   0.4   0.4   0.4   0.4   0.3  \n",
      "\n",
      "[3000 rows x 3000 columns]\n"
     ]
    }
   ],
   "source": [
    "alpha = 0.2  # (description)\n",
    "beta = 0.4  # (categories)\n",
    "gamma = 0.4  # (authors)\n",
    "\n",
    "# similarity_matrix = (\n",
    "#     alpha * cosine_sim_description_df +\n",
    "#     beta * similarity_categories_df +\n",
    "#     gamma * similarity_authors_df\n",
    "# ) \n",
    "\n",
    "similarity_matrix = similarity_genres_df\n",
    "\n",
    "print(similarity_matrix)"
   ]
  },
  {
   "cell_type": "code",
   "execution_count": 58,
   "metadata": {},
   "outputs": [
    {
     "name": "stdout",
     "output_type": "stream",
     "text": [
      "[2655, 3101, 3342, 1935, 3207, 509, 3875, 726, 3545, 1375, 1970, 2688, 738, 282, 3272, 2793, 981, 1177, 1155, 2691, 1248, 1158, 3393, 3896, 3550, 2532, 1226, 3776, 345, 1693, 3817, 1127, 1342, 759, 1734, 2111, 3159, 229, 1977, 1176, 892, 744, 1098, 1999, 2480, 3114, 340, 142, 2298, 2088, 1038, 1097, 940, 1194, 3512, 842, 304, 765, 551, 2671, 575, 381, 800, 3752, 524, 1284, 1303, 1932, 2903, 1860, 2153, 2252, 3747, 1180, 1011, 3676, 3866, 3210, 103, 942, 422, 367, 131, 3009, 2435, 1324, 3706, 133, 2651, 173, 1926, 2487, 2603, 1948, 1738, 2197, 877, 1160, 2535, 997, 1489, 1594, 123, 1965, 970, 2107, 899, 73, 2518, 894, 3333, 283, 1585, 3035, 3703, 984, 1680, 993, 1152, 1041, 868, 1772, 1149, 2471, 2410, 3659, 590, 531, 3793, 1113, 1719, 19, 1984, 3062, 3320, 2044, 120, 1423, 1922, 1464, 1687, 1956, 2380, 93, 3910, 2694, 2121, 1834, 2742, 3599, 3319, 2612, 2812, 3415, 3800, 1320, 2464, 2071, 1919, 2533, 3546, 1963, 3020, 2573, 3539, 3384, 1718, 2260, 2396, 3179, 341, 1095, 1050, 239, 1602, 3110, 860, 3199, 2591, 114, 3063, 1895, 584, 603, 3814, 132, 1093, 1256, 2758, 2516, 280, 105, 1962, 1578, 709, 2340, 632, 2877, 104, 2885, 139, 3133, 2896, 3577, 320, 503, 2663, 783, 3942, 72, 2530, 3145, 2851, 2395, 82, 21, 1817, 297, 3375, 3520, 753, 3097, 3780, 2960, 3074, 2382, 1885, 2242, 233, 3571, 2627, 3554, 1581, 3535, 3692, 3096, 3616, 3654, 969, 2955, 2275, 2157, 1844, 1482, 3281, 3416, 3084, 2544, 1567, 3558, 3176, 1624, 2240, 678, 1969, 2493, 144, 2190, 3750, 3727, 480, 2766, 1207, 533, 63, 5, 3709, 285, 3749, 2966, 1832, 2451, 607, 964, 2852, 3621, 599, 525, 1150, 1558, 2659, 845, 886, 266, 3394, 1904, 1401, 3102, 1807, 3002, 3311, 2771, 2873, 1191, 1619, 77, 2110, 1141, 2112, 1947, 1599, 506, 3858, 1174, 1494, 3555, 1577, 733, 3437, 1323, 2543, 3848, 3541, 3553, 1841, 95, 2799, 749, 1485, 2552, 2716, 1777, 1388, 1917, 882, 3669, 2361, 1645, 112, 3258, 1289, 3380, 479, 3254, 1849, 2617, 933, 3292, 243, 3741, 2035, 2104, 856, 2673, 1840, 3834, 190, 3719, 3575, 1144, 1241, 1971, 2143, 2442, 3929, 831, 2489, 194, 2547, 1212, 541, 796, 372, 3282, 1444, 2483, 2784, 220, 1514, 3461, 160, 3218, 1146, 1280, 669, 670, 2558, 1081, 1676, 705, 1171, 484, 76, 3650, 2289, 690, 338, 3748, 3589, 2613, 2200, 1502, 560, 477, 1845, 157, 145, 3273, 3413, 3269, 555, 2061, 1794, 2043, 1306, 2287, 2549, 2466, 601, 528, 2992, 273, 2912, 3018, 364, 3547, 1994, 1650, 124, 2899, 3262, 1055, 2256, 3332, 1015, 2807, 994, 3008, 3762, 2917, 187, 2020, 3351, 2244, 2728, 2731, 3445, 2692, 182, 1784, 1122, 966, 3874, 1028, 1025, 1706, 1524, 596, 3330, 1099, 3900, 2452, 3943, 2152, 926, 586, 3226, 3491, 3031, 2553, 2113, 445, 722, 2397, 976, 3289, 3130, 3024, 1285, 3377, 1035, 3302, 3388, 3172, 661, 3685, 481, 2652, 627, 342, 2999, 2740, 3916, 1052, 591, 3357, 2504, 3524, 1088, 359, 1368, 2757, 3635, 1856, 527, 467, 821, 1555, 435, 562, 1310, 946, 2946, 2710, 201, 427, 1433, 3085, 3642, 97, 553, 326, 271, 3283, 2259, 2263, 206, 3125, 2231, 3301, 2860, 2057, 3698, 2045, 3436, 3823, 2715, 2727, 3358, 1367, 624, 3047, 366, 2657, 3920, 1251, 3305, 2284, 2461, 630, 797, 648, 839, 3729, 2124, 3296, 2599, 2647, 1665, 859, 1570, 1600, 69, 143, 209, 2725, 3680, 1764, 2195, 3001, 3812, 3209, 2352, 3103, 2961, 2941, 2001, 3112, 827, 2230, 3867, 1308, 3390, 1275, 2427, 3670, 2848, 1237, 109, 3022, 3530, 2653, 2607, 2262, 1946, 853, 1551, 2394, 2564, 3290, 1933, 621, 2307, 1178, 185, 1726, 3498, 24, 1509, 3229, 2625, 1785, 1787, 2440, 786, 450, 3455, 857, 2321, 3501, 568, 3135, 1709, 665, 1404, 389, 1713, 771, 2138, 16, 2085, 2562, 3453, 988, 684, 1357, 263, 1827, 2943, 3689, 3523, 1085, 1286, 3235, 2854, 850, 1297, 2383, 3271, 692, 3764, 315, 3781, 2891, 1427, 529, 28, 2228, 2365, 644, 2792, 2680, 3860, 1470, 2145, 1311, 318, 129, 1915, 3707, 1078, 3188, 415, 1132, 3612, 1134, 742, 2194, 2775, 1166, 268, 2940, 3294, 1881, 2050, 3263, 1006, 2049, 967, 863, 154, 1410, 3169, 3278, 351, 2443, 2292, 1610, 2555, 2915, 2951, 2070, 86, 2353, 262, 2805, 2393, 3353, 3702, 2741, 835, 3732, 2556, 1181, 3066, 1899, 3885, 2015, 2752, 3579, 2094, 1419, 2813, 3774, 135, 1884, 1224, 3864, 1987, 49, 3300, 3836, 3109, 1666, 3339, 3373, 1359, 1096, 3328, 1301, 2401, 2101, 1199, 2843, 3225, 2357, 2566, 3667, 1769, 1746, 1533, 1546, 1928, 2388, 1780, 162, 2622, 2267, 2646, 80, 1941, 2759, 2326, 3095, 2664, 1103, 2425, 2294, 1842, 3006, 1739, 1117, 2162, 388, 3826, 3069, 792, 3267, 1810, 492, 3722, 1906, 12, 1878, 2901, 1591, 3924, 293, 3855, 55, 3397, 2969, 1528, 3476, 3583, 743, 476, 2611, 1345, 932, 3304, 3657, 2403, 536, 64, 4, 1079, 2109, 626, 2628, 3307, 2545, 2293, 508, 1617, 1183, 261, 2089, 336, 2913, 2811, 3507, 100, 3060, 3280, 2750, 636, 1108, 2028, 2528, 121, 3941, 1660, 1816, 941, 1886, 1255, 2178, 1651, 2368, 3427, 1273, 2373, 2872, 3228, 1343, 1934, 409, 1230, 1262, 3355, 772, 2079, 3754, 2343, 2297, 921, 3644, 530, 1584, 472, 316, 3537, 1139, 1851, 1307, 3389, 1322, 2458, 3899, 867, 561, 2047, 2869, 2193, 1487, 3038, 2131, 3003, 594, 2150, 1438, 2317, 2935, 580, 3918, 1274, 1083, 873, 1118, 3664, 2546, 3080, 1416, 542, 2218, 1077, 1276, 3829, 1143, 3070, 1846, 3203, 3151, 1797, 3909, 1044, 1601, 310, 3265, 2572, 2472, 159, 3622, 809, 2693, 1094, 3611, 1708, 972, 3837, 3247, 3374, 2046, 3248, 210, 460, 794, 514, 1788, 368, 2978, 2770, 1467, 3816, 3399, 3933, 244, 808, 2534, 700, 1752, 1887, 3728, 2788, 3153, 1373, 3820, 1223, 2411, 830, 375, 1793, 1070, 2861, 2236, 2712, 2938, 3798, 518, 2505, 2201, 1314, 775, 224, 3094, 2605, 1831, 746, 1287, 1520, 2994, 1422, 3871, 2229, 1806, 2685, 589, 3937, 725, 1678, 798, 554, 3077, 915, 2123, 2745, 2815, 2225, 321, 2797, 3736, 3739, 649, 3630, 1334, 2010, 2120, 85, 3811, 3778, 1717, 3043, 2703, 2684, 615, 83, 2769, 3383, 3898, 3175, 498, 3183, 3928, 3316, 2181, 3813, 3046, 956, 2783, 3115, 1776, 373, 3213, 2017, 3033, 2632, 1123, 3737, 655, 3597, 3674, 1988, 3687, 3055, 1495, 1193, 1716, 2422, 2649, 3061, 1961, 3606, 3557, 2302, 588, 230, 1957, 3552, 1525, 1441, 2331, 3486, 3488, 1475, 3807, 2579, 3481, 1281, 1656, 2073, 2003, 2363, 2404, 1759, 1721, 2159, 2887, 61, 3936, 2561, 2996, 70, 3321, 515, 935, 1436, 2906, 3221, 2679, 222, 2970, 158, 461, 2718, 1814, 256, 1870, 3457, 3810, 1771, 3720, 716, 3570, 1620, 916, 634, 3257, 331, 3777, 111, 186, 3564, 2668, 879, 3504, 2245, 2008, 1792, 272, 840, 1940, 1835, 1318, 903, 365, 3421, 1655, 2149, 1742, 343, 2537, 2639, 973, 3572, 2596, 2853, 3500, 1164, 2418, 2118, 898, 2499, 2039, 281, 2849, 2271, 471, 2141, 405, 2426, 1863, 3231, 1626, 2072, 1951, 3857, 276, 1937, 3173, 1781, 3362, 2253, 2947, 3833, 3660, 2858, 1277, 358, 3516, 1409, 2082, 2234, 519, 1428, 2911, 2106, 2980, 708, 2221, 2473, 3527, 1897, 3590, 2338, 3407, 3697, 2135, 421, 1466, 332, 2067, 113, 2965, 150, 1636, 782, 379, 534, 999, 2776, 1523, 3506, 1400, 2179, 3127, 1140, 2661, 362, 1385, 2084, 1809, 34, 333, 3, 3261, 745, 3111, 1670, 3326, 110, 2413, 1544, 695, 401, 2134, 3566, 1490, 701, 2431, 960, 1861, 598, 752, 1874, 195, 1888, 2787, 1007, 1462, 3293, 2726, 2031, 3211, 1105, 1531, 2376, 3187, 2931, 812, 1417, 1249, 1623, 818, 658, 2636, 3467, 1168, 2707, 2723, 2332, 289, 1390, 270, 1679, 1671, 203, 1865, 2311, 3126, 2916, 2314, 1498, 3083, 671, 819, 1747, 211, 526, 3887, 1205, 1316, 3671, 204, 791, 2774, 1454, 2801, 567, 2019, 1243, 3534, 768, 15, 3665, 3631, 2385, 3260, 3343, 2034, 3532, 1406, 1499, 652, 600, 2286, 2278, 3740, 585, 2930, 3365, 2669, 2182, 2865, 212, 1804, 2364, 1903, 987, 2392, 9, 313, 3637, 3387, 3364, 693, 919, 747, 872, 3148, 3470, 38, 3617, 3000, 7, 3299, 1755, 978, 3451, 781, 1916, 1767, 3649, 178, 1017, 2381, 1875, 1683, 1930, 3255, 3098, 754, 2878, 2484, 3354, 2430, 3313, 3723, 664, 2697, 2062, 3472, 2862, 1246, 755, 3646, 2453, 1663, 3462, 653, 196, 2957, 505, 2997, 617, 3318, 1799, 2618, 2959, 1918, 300, 66, 3044, 3548, 474, 2300, 235, 1911, 1652, 290, 1955, 1684, 3382, 3830, 847, 1648, 2347, 3513, 1632, 1864, 240, 1972, 3863, 197, 1892, 3948, 1997, 3468, 3108, 2288, 3842, 2470, 1374, 3515, 2096, 1214, 3198, 1696, 1774, 2091, 3828, 844, 3340, 1350, 2246, 2099, 3620, 3082, 2421, 3690, 3939, 619, 3184, 666, 3249, 2690, 2029, 3853, 3952, 67, 507, 838, 837, 2007, 2526, 2760, 1538, 2163, 1953, 1867, 1902, 1429, 2717, 605, 2069, 1378, 1292, 866, 348, 3124, 3322, 2672, 2460, 748, 3594, 3287, 311, 3821, 3099, 3824, 2821, 1633, 779, 217, 1744, 3832, 3065, 2148, 2126, 1279, 294, 3708, 2219, 2002, 1337, 1270, 545, 3603, 2744, 3533, 218, 728, 3531, 2188, 3256, 638, 175, 3426, 2832, 3542, 1257, 968, 2169, 2686, 87, 325, 327, 2390, 404, 3016, 763, 3034, 3879, 430, 1040, 2538, 1543, 1225, 2993, 2177, 360, 1449, 3440, 3007, 909, 1473, 1064, 2372, 2485, 2041, 2666, 249, 202, 3538, 1723, 773, 2952, 2954, 353, 1597, 2824, 1484, 1496, 3912, 3370, 1458, 2205, 3888, 274, 1389, 3032, 739, 2060, 2237, 3911, 1992, 2624, 458, 376, 1003, 3626, 1332, 3602, 952, 2820, 3189, 241, 604, 319, 2210, 3444, 2081, 2919, 3673, 2575, 2706, 3841, 2515, 2523, 3935, 1643, 2767, 1326, 1227, 1016, 456, 1073, 3452, 2825, 3040, 2888, 45, 2838, 2415, 704, 2519, 3037, 3827, 2614, 3502, 1019, 3648, 2429, 2629, 2207, 3366, 1130, 1950, 610, 1024, 3682, 824, 2323, 2577, 805, 1735, 1868, 2330, 1120, 1453, 3202, 2064, 101, 116, 308, 2467, 1111, 1353, 3441, 3004, 569, 3434, 3847, 2762, 3652, 2087, 37, 3843, 1483, 1009, 836, 2736, 125, 3672, 2132, 369, 287, 2100, 491, 2273, 1268, 2841, 1173, 963, 2995, 1614, 3418, 2367, 3931, 2585, 2056, 2907, 3773, 2747, 965, 119, 2281, 395, 3107, 1942, 1740, 602, 495, 618, 1104, 929, 2349, 2882, 2658, 1220, 2975, 168, 2798, 214, 851, 275, 2115, 1188, 1288, 3677, 1704, 1208, 1161, 1590, 2924, 462, 3181, 543, 703, 2732, 1553, 3241, 931, 2486, 2117, 2424, 1880, 2274, 62, 789, 2055, 697, 3048, 3239, 1749, 3636, 1609, 2594, 2677, 1259, 3724, 2581, 3146, 2909, 2524, 1685, 582, 787, 295, 463, 35, 1364, 2513, 546, 2590, 1605, 1010, 1313, 259, 1756, 374, 81, 2729, 3286, 1640, 500, 1686, 737, 3605, 1561, 3469, 1034, 3429, 1905, 2698, 449, 1604, 2428, 1162, 2819, 1447, 3496, 3238, 2241, 1282, 3171, 520, 1697, 1532, 378, 2681, 1021, 2316, 436, 3845, 278, 1060, 2964, 2450, 2366, 1184, 1681, 284, 71, 475, 3403, 1380, 3396, 1702, 1566, 651, 3503, 2926, 3938, 3410, 3861, 2233, 2441, 39, 339, 1556, 3950, 2251, 544, 1325, 954, 386, 3718, 1682, 896, 1329, 242, 3222, 1018, 2296, 3446, 1175, 2609, 3790, 2908, 3430, 1985, 3944, 1855, 2593, 3350, 245, 3105, 572, 1765, 3447, 219, 1596, 654, 1440, 48, 2127, 3717, 2417, 766, 147, 3113, 1351, 291, 3625, 2448, 2075, 1369, 563, 1836, 2348, 59, 806, 371, 223, 1465, 1250, 234, 1547, 3465, 1480, 937, 3392, 148, 1405, 1981, 1912, 1267, 2303, 84, 1732, 1923, 3039, 864, 246, 1824, 780, 1092, 2548, 1383, 3154, 2108, 1328, 183, 804, 2014, 3716, 579, 1312, 897, 3150, 1147, 1821, 523, 3259, 3844, 2285, 2874, 306, 2568, 758, 3770, 3705, 795, 2527, 213, 2768, 2133, 1295, 2641, 2835, 1448, 2315, 3275, 2185, 1234, 1516, 3232, 2167, 3730, 574, 468, 3779, 1879, 1304, 2482, 1920, 2808, 3443, 2674, 3714, 118, 2846, 3651, 464, 3765, 3014, 625, 2918, 2320, 2670, 813, 989, 3540, 3490, 490, 3851, 2400, 720, 1200, 1202, 408, 433, 1510, 3423, 1529, 3536, 521, 2927, 778, 3581, 46, 2508, 1762, 470, 587, 2059, 3088, 3561, 2339, 2910, 1921, 3162, 3926, 1333, 2013, 820, 698, 387, 767, 998, 2264, 762, 1036, 1873, 1412, 1592, 2645, 1701, 309, 485, 163, 3627, 1365, 1445, 3822, 3270, 934, 1424, 2290, 1526, 2789, 862, 452, 1057, 657, 1203, 2963, 3052, 2944, 2154, 1866, 1569, 1889, 1090, 3945, 3268, 1218, 612, 3414, 3201, 730, 1346, 923, 2358, 2114, 2998, 1068, 2068, 3170, 40, 31, 3409, 3331, 3381, 2779, 3401, 741, 3236, 2186, 3883, 1672, 2507, 2004, 3865, 1839, 2828, 391, 3349, 1082, 3759, 3168, 380, 2199, 2412, 251, 2898, 3940, 1283, 2678, 44, 1820, 2432, 459, 2795, 3568, 1641, 2989, 1511, 724, 418, 1463, 1727, 1896, 497, 3064, 3067, 1397, 2469, 2794, 3613, 171, 3450, 721, 1377, 1335, 1240, 928, 1522, 3662, 570, 42, 426, 2786, 3288, 2785, 53, 650, 848, 2389, 2598, 1172, 402, 2093, 793, 3463, 286, 2206, 1272, 3243, 1293, 1217, 3165, 3743, 2254, 2175, 1768, 1157, 2923, 3921, 1770, 3045, 2855, 3140, 556, 199, 1054, 3601, 855, 3056, 2587, 2780, 2346, 1159, 1664, 1039, 3479, 606, 1675, 390, 3030, 2103, 1356, 814, 496, 2696, 344, 3640, 167, 2781, 3161, 2356, 488, 2468, 3341, 425, 156, 595, 1613, 2949, 382, 3214, 1065, 2183, 2119, 2565, 3656, 3693, 2701, 1642, 3799, 2967, 252, 642, 347, 469, 577, 3438, 23, 769, 3923, 846, 2202, 2643, 3742, 1156, 356, 3142, 1748, 3156, 1688, 8, 2322, 2790, 517, 1476, 1213, 3458, 238, 1030, 3922, 961, 2387, 2699, 1939, 3327, 1084, 3951, 717, 3549, 3338, 1124, 1266, 1583, 1853, 900, 1959, 1754, 2827, 3880, 637, 2822, 1114, 2689, 2258, 2459, 1822, 826, 1106, 3592, 2272, 957, 3308, 3580, 1812, 614, 3310, 2586, 3164, 2277, 3474, 1091, 3756, 96, 3525, 3840, 1299, 337, 3398, 2845, 3291, 1341, 512, 3456, 451, 986, 788, 3493, 1058, 3886, 659, 350, 128, 1031, 1501, 1869, 1783, 985, 2942, 3244, 1559, 2987, 2463, 487, 265, 522, 1004, 955, 1635, 454, 3862, 2569, 1376, 1993, 1331, 2840, 397, 3788, 682, 834, 1659, 2675, 2433, 3049, 3011, 483, 564, 1945, 2092, 1231, 1363, 3892, 2299, 852, 1611, 1789, 2105, 2991, 3582, 41, 3783, 2844, 668, 1027, 288, 2893, 2615, 3497, 106, 237, 2310, 1924, 620, 1062, 1069, 457, 2009, 3608, 3028, 1582, 3567, 1625, 90, 1330, 1392, 1187, 3194, 699, 2667, 406, 2095, 3615, 710, 2449, 1795, 547, 2405, 407, 2313, 2933, 1998, 1563, 3668, 1572, 871, 1539, 1964, 3591, 68, 2203, 549, 466, 825, 3100, 2939, 236, 398, 2305, 2720, 3123, 440, 165, 2501, 1876, 1587, 785, 1500, 2687, 3825, 802, 3306, 581, 757, 2551, 2904, 2503, 2502, 3551, 2517, 583, 3818, 1309, 2375, 117, 1119, 1910, 3643, 2973, 1317, 3086, 2619, 550, 2478, 2934, 3212, 2033, 47, 312, 889, 729, 3071, 1564, 958, 2520, 3120, 151, 411, 1811, 1360, 3208, 2024, 3433, 815, 629, 3772, 176, 2968, 2309, 334, 3908, 3078, 3768, 314, 2582, 1056, 2005, 750, 1830, 3143, 3483, 2053, 2620, 18, 357, 260, 3246, 2574, 1568, 60, 1657, 3448, 2920, 1110, 870, 13, 2589, 2488, 392, 2268, 423, 2536, 3904, 1608, 2782, 1791, 949, 2078, 3174, 3715, 431, 1327, 3699, 307, 3196, 920, 412, 992, 1468, 88, 3334, 1695, 516, 2226, 687, 3131, 1782, 2074, 2856, 3907, 3884, 2217, 2621, 667, 2804, 3784, 2191, 3878, 1850, 1493, 3237, 3402, 1925, 685, 1598, 832, 2929, 2158, 2077, 2329, 2439, 2831, 990, 305, 3872, 1938, 2208, 1667, 22, 3609, 1121, 3264, 3663, 2914, 3578, 502, 2576, 2187, 3751, 639, 2027, 2214, 3655, 2137, 1733, 936, 1051, 616, 3695, 1554, 3809, 2052, 2602, 3303, 130, 2936, 3528, 2755, 1649, 2601, 1805, 1112, 2570, 2626, 3068, 1032, 1914, 3694, 179, 1986, 1269, 205, 3519, 1386, 3927, 1145, 292, 3678, 2164, 161, 3585, 3487, 3658, 944, 2184, 1148, 2066, 1439, 3391, 3771, 3240, 2522, 3856, 2402, 715, 3801, 2083, 1053, 1201, 2209, 1169, 3185, 2979, 672, 254, 3913, 1586, 1743, 917, 2054, 3876, 2642, 1211, 548, 1982, 3889, 3696, 3005, 1976, 3478, 3805, 1699, 2174, 714, 1244, 679, 2494, 1731, 3604, 1929, 1894, 878, 3629, 858, 1107, 3914, 2249, 1471, 3017, 140, 329, 3166, 557, 3206, 2213, 3029, 2880, 3329, 1298, 255, 2444, 1460, 2216, 2445, 2462, 2040, 1579, 1012, 1442, 3317, 1179, 736, 3420, 1615, 3869, 3345, 1996, 184, 2491, 3242, 2895, 3335, 1047, 799, 361, 953, 174, 3344, 2447, 2604, 2345, 3569, 597, 473, 3684, 3106, 3775, 2438, 3746, 3758, 2342, 1694, 3163, 166, 1519, 3518, 253, 1100, 2318, 3494, 403, 811, 2037, 2761, 3360, 29, 647, 938, 3949, 1076, 455, 2025, 2496, 3073, 2243, 2295, 2000, 1893, 3178, 383, 539, 1829, 1616, 1909, 355, 296, 3252, 1185, 1131, 3087, 2140, 3027, 3233, 92, 971, 2640, 1, 1692, 691, 3141, 385, 3314, 3323, 1527, 2867, 1271, 631, 927, 713, 3050, 623, 1690, 2714, 1548, 1446, 322, 226, 3367, 215, 576, 2319, 78, 3057, 3803, 1437, 3180, 443, 3930, 2291, 2753, 346, 1045, 3873, 2369, 2414, 2662, 2660, 3517, 3371, 3614, 1927, 494, 3251, 3072, 3522, 3459, 2511, 943, 1989, 694, 3576, 257, 3013, 2905, 1943, 3508, 3284, 3297, 3417, 3700, 1242, 3298, 2818, 298, 718, 2839, 2128, 645, 1936, 1354, 3797, 2560, 2398, 1796, 3439, 1907, 2735, 2265, 2514, 2076, 2986, 3195, 3485, 1372, 2836, 1549, 1647, 191, 3753, 1393, 1315, 2554, 3819, 3600, 559, 3560, 1126, 1206, 1960, 1136, 3368, 706, 1236, 1954, 1000, 330, 3894, 1197, 1760, 1595, 2223, 673, 885, 2492, 57, 1067, 2597, 2713, 1541, 3761, 2837, 2588, 17, 1461, 2971, 2192, 136, 2, 3806, 441, 3766, 2436, 3234, 3688, 3529, 2635, 3808, 2816, 1366, 571, 3432, 2495, 1209, 3623, 1102, 429, 1129, 3683, 3042, 1198, 1497, 2557, 2531, 3559, 1750, 1575, 1020, 3787, 3791, 3324, 2638, 2834, 1170, 3925, 3785, 2988, 881, 1534, 1153, 876, 777, 2022, 3598, 3647, 1222, 181, 3725, 1137, 1847, 2030, 3639, 874, 3638, 2791, 1662, 349, 3116, 1294, 1340, 51, 2981, 980, 2379, 122, 1336, 2990, 2036, 2336, 2384, 1415, 1235, 854, 2407, 2809, 3015, 2814, 1305, 2063, 482, 2833, 3495, 1612, 75, 1228, 578, 1486, 1872, 2890, 2578, 1049, 1858, 1944, 2434, 975, 660, 1033, 3026, 1253, 3893, 2378, 1221, 913, 2630, 444, 2738, 996, 2773, 1949, 207, 3160, 2173, 1432, 504, 2130, 535, 2542, 751, 3250, 3514, 1355, 593, 2354, 1973, 1479, 1190, 609, 3789, 177, 1232, 1852, 1515, 3081, 416, 1413, 1362, 2146, 3315, 2269, 3713, 3760, 3435, 2976, 3632, 352, 3312, 3058, 895, 3734, 3802, 2391, 267, 2408, 3661, 1669, 3584, 1196, 2166, 2139, 1603, 3406, 893]\n"
     ]
    }
   ],
   "source": [
    "all_book_ids = movies['MovieID'].tolist()\n",
    "print(all_book_ids)"
   ]
  },
  {
   "cell_type": "code",
   "execution_count": null,
   "metadata": {},
   "outputs": [
    {
     "name": "stdout",
     "output_type": "stream",
     "text": [
      "Chỉ mục của df trùng khớp với book_ids: True\n"
     ]
    }
   ],
   "source": [
    "import pandas as pd\n",
    "\n",
    "def check_index_matches(df, book_ids):\n",
    "    # Chuyển chỉ mục của DataFrame thành một tập hợp\n",
    "    df_index_set = set(df.index)\n",
    "    # Chuyển book_ids thành một tập hợp\n",
    "    book_ids_set = set(book_ids)\n",
    "    \n",
    "    # Kiểm tra xem hai tập hợp có bằng nhau không\n",
    "    if df_index_set == book_ids_set:\n",
    "        return True\n",
    "    else:\n",
    "        return False\n",
    "\n",
    "result = check_index_matches(similarity_matrix, all_book_ids)\n",
    "print(\"Chỉ mục của df trùng khớp với book_ids:\", result) \n"
   ]
  },
  {
   "cell_type": "code",
   "execution_count": 60,
   "metadata": {},
   "outputs": [],
   "source": [
    "# import pandas as pd\n",
    "\n",
    "# similar_books_list = []\n",
    "\n",
    "# for book_id_1 in cosine_sim_matrix.index:\n",
    "#     for book_id_2 in cosine_sim_matrix.columns:\n",
    "#         if book_id_1 != book_id_2:\n",
    "#             similarity = cosine_sim_matrix.loc[book_id_1, book_id_2]\n",
    "#             if 0 < similarity < 0.9:\n",
    "#                 similar_books_list.append({\n",
    "#                     'book_id_1': book_id_1,\n",
    "#                     'book_id_2': book_id_2,\n",
    "#                     'similarity_score': similarity\n",
    "#                 })\n",
    "\n",
    "# similar_books_df = pd.DataFrame(similar_books_list)\n",
    "\n",
    "# top_similar_books = similar_books_df.sort_values(by='similarity_score', ascending=False).head(5)\n",
    "\n",
    "# if not top_similar_books.empty:\n",
    "#     print(\"Các cặp sách có giá trị tương đồng cosine > 0 và < 0.9:\")\n",
    "#     for index, row in top_similar_books.iterrows():\n",
    "#         book_id_1 = row['book_id_1']\n",
    "#         book_id_2 = row['book_id_2']\n",
    "#         similarity = row['similarity_score']\n",
    "\n",
    "#         title1 = books_data_df[books_data_df['book_id'] == book_id_1]['Title'].values[0]\n",
    "#         title2 = books_data_df[books_data_df['book_id'] == book_id_2]['Title'].values[0]\n",
    "#         categories1 = books_data_df[books_data_df['book_id'] == book_id_1]['categories'].values[0]\n",
    "#         categories2 = books_data_df[books_data_df['book_id'] == book_id_2]['categories'].values[0]\n",
    "\n",
    "#         print(f\"Sách '{title1}' với thể loại {categories1} và Sách '{title2}' với thể loại {categories2} có giá trị tương đồng: {similarity}\")\n",
    "# else:\n",
    "#     print(\"Không có cặp sách nào có giá trị tương đồng trong khoảng (0, 0.9).\")\n"
   ]
  },
  {
   "cell_type": "code",
   "execution_count": 61,
   "metadata": {},
   "outputs": [],
   "source": [
    "# import pandas as pd\n",
    "\n",
    "# book_title = \"Brave New World Revisited\"\n",
    "# book_id = books_data_df.loc[books_data_df['Title'] == book_title, 'book_id'].values\n",
    "# print(book_id)\n",
    "# if len(book_id) > 0:\n",
    "#     # Tìm user_id đã đánh giá sách này\n",
    "#     user_ids = books_rating_df.loc[books_rating_df['book_id'].isin(book_id), 'User_id'].unique()\n",
    "#     print(\"User IDs đã đánh giá sách 'History of Magic and the Occult':\", user_ids)\n",
    "# else:\n",
    "#     print(\"Không tìm thấy sách có tiêu đề 'History of Magic and the Occult'.\")\n"
   ]
  },
  {
   "cell_type": "code",
   "execution_count": 62,
   "metadata": {},
   "outputs": [],
   "source": [
    "# book_id = 24\n",
    "\n",
    "# book_info = books_data_df.loc[books_data_df['book_id'] == book_id]\n",
    "\n",
    "# if not book_info.empty:\n",
    "#     title = book_info['Title'].values[0]\n",
    "#     description = book_info['description'].values[0]\n",
    "#     categories = book_info['categories'].values[0]\n",
    "#     author = book_info['authors'].values[0]\n",
    "#     print(f\"Thông tin cuốn sách với book_id {book_id}:\")\n",
    "#     print(f\"Tiêu đề: '{title}'\")\n",
    "#     print(f\"Mô tả: '{description}'\")\n",
    "#     print(f\"Thể loại: {categories}\")\n",
    "#     print(f\"Tác giả: {author}\")\n",
    "# else:\n",
    "#     print(f\"Không tìm thấy sách với book_id {book_id}.\")\n"
   ]
  },
  {
   "cell_type": "code",
   "execution_count": 63,
   "metadata": {},
   "outputs": [],
   "source": [
    "# book_id = 64109\n",
    "\n",
    "# book_info = books_data_df.loc[books_data_df['book_id'] == book_id]\n",
    "\n",
    "# if not book_info.empty:\n",
    "#     title = book_info['Title'].values[0]\n",
    "#     description = book_info['description'].values[0]\n",
    "#     categories = book_info['categories'].values[0]\n",
    "#     author = book_info['authors'].values[0]\n",
    "#     print(f\"Thông tin cuốn sách với book_id {book_id}:\")\n",
    "#     print(f\"Tiêu đề: '{title}'\")\n",
    "#     print(f\"Mô tả: '{description}'\")\n",
    "#     print(f\"Thể loại: {categories}\")\n",
    "#     print(f\"Tác giả: {author}\")\n",
    "# else:\n",
    "#     print(f\"Không tìm thấy sách với book_id {book_id}.\")\n"
   ]
  },
  {
   "cell_type": "code",
   "execution_count": 64,
   "metadata": {},
   "outputs": [],
   "source": [
    "user_rating_matrix = ratings.pivot_table(index=\"UserID\", columns=\"MovieID\", values=\"Rating\")"
   ]
  },
  {
   "cell_type": "code",
   "execution_count": null,
   "metadata": {},
   "outputs": [],
   "source": [
    "def calculate_similarity(user_id, movie_id, rated_movies):\n",
    "    if movie_id not in similarity_matrix.index:\n",
    "        return None\n",
    "\n",
    "    similarities = similarity_matrix.loc[movie_id]  \n",
    "\n",
    "    ratings_for_rated_movies = user_rating_matrix.loc[user_id]\n",
    "\n",
    "    if ratings_for_rated_movies.empty:\n",
    "        return None\n",
    "\n",
    "    weighted_sum = 0\n",
    "    similarity_sum = 0\n",
    "    for rated_movie in rated_movies:\n",
    "        weighted_sum = weighted_sum + (similarities.loc[rated_movie]*ratings_for_rated_movies[rated_movie])\n",
    "        similarity_sum += np.abs(similarities.loc[rated_movie])\n",
    "   \n",
    "\n",
    "    if similarity_sum > 0:\n",
    "        average_similarity = weighted_sum / similarity_sum\n",
    "        return average_similarity\n",
    "    \n",
    "    return None"
   ]
  },
  {
   "cell_type": "code",
   "execution_count": 66,
   "metadata": {},
   "outputs": [],
   "source": [
    "def recommend_books(user_id, top_k=10):\n",
    "    rated_books = ratings[ratings['UserID'] == user_id]['MovieID'].unique()\n",
    "    # rated_books = [book_id for book_id in rated_books if book_id in similarity_matrix.index]\n",
    "\n",
    "    if len(rated_books) == 0:\n",
    "        print(f\"Người dùng {user_id} chưa đánh giá sách nào.\")\n",
    "        return []\n",
    "\n",
    "    similarity_scores = {}\n",
    "\n",
    "    # test_books = test_data['book_id'].unique()\n",
    "    # unrated_books = books_data_df['book_id'][~books_data_df['book_id'].isin(rated_books)]\n",
    "    # unrated_books = unrated_books[unrated_books.isin(test_books)]\n",
    "\n",
    "\n",
    "    # for book_id in unrated_books:\n",
    "    #     similarity_score = calculate_similarity(book_id, rated_books)\n",
    "        \n",
    "    #     if similarity_score is not None:\n",
    "    #         similarity_scores[book_id] = similarity_score\n",
    "\n",
    "    for book_id in all_book_ids:\n",
    "        if(book_id not in rated_books):\n",
    "            similarity_score = calculate_similarity(user_id, book_id, rated_books)\n",
    "\n",
    "            if similarity_score is not None:\n",
    "                similarity_scores[book_id] = similarity_score\n",
    "\n",
    "    if similarity_scores:\n",
    "        suggested_books = sorted(similarity_scores.items(), key=lambda x: x[1], reverse=True)[:top_k]\n",
    "\n",
    "        return [[book[0], similarity_scores[book[0]]] for book in suggested_books]\n",
    "    else:\n",
    "        print(f\"Không có sách nào để gợi ý cho người dùng {user_id}.\")\n",
    "        return []\n",
    "\n"
   ]
  },
  {
   "cell_type": "code",
   "execution_count": null,
   "metadata": {},
   "outputs": [
    {
     "name": "stdout",
     "output_type": "stream",
     "text": [
      "Sách 'Tough and Deadly (1995)' (ID: 591) với thể loại ['Action', 'Drama', 'Thriller'], Điểm tương đồng: 3.0037\n",
      "Sách 'Condition Red (1995)' (ID: 624) với thể loại ['Action', 'Drama', 'Thriller'], Điểm tương đồng: 3.0037\n",
      "Sách 'Fire Down Below (1997)' (ID: 1626) với thể loại ['Action', 'Drama', 'Thriller'], Điểm tương đồng: 3.0037\n",
      "Sách 'Smilla's Sense of Snow (1997)' (ID: 1480) với thể loại ['Action', 'Drama', 'Thriller'], Điểm tương đồng: 3.0037\n",
      "Sách 'Born American (1986)' (ID: 3443) với thể loại ['Action', 'Drama', 'Thriller'], Điểm tương đồng: 3.0037\n",
      "Sách 'Outbreak (1995)' (ID: 292) với thể loại ['Action', 'Drama', 'Thriller'], Điểm tương đồng: 3.0037\n",
      "Sách 'Guardian Angel (1994)' (ID: 51) với thể loại ['Action', 'Drama', 'Thriller'], Điểm tương đồng: 3.0037\n",
      "Sách 'Rocky III (1982)' (ID: 2410) với thể loại ['Action', 'Drama'], Điểm tương đồng: 2.9967\n",
      "Sách 'Falling Down (1993)' (ID: 3020) với thể loại ['Action', 'Drama'], Điểm tương đồng: 2.9967\n",
      "Sách 'Target (1995)' (ID: 139) với thể loại ['Action', 'Drama'], Điểm tương đồng: 2.9967\n"
     ]
    }
   ],
   "source": [
    "user_id = 87\n",
    "top_k = 10\n",
    "\n",
    "suggested_books = recommend_books(user_id, top_k)\n",
    "\n",
    "if suggested_books:\n",
    "    for book_id, similarity_score in suggested_books:\n",
    "        title_series = movies.loc[movies['MovieID'] == book_id, 'Title']\n",
    "        categories_series = movies.loc[movies['MovieID'] == book_id, 'Genres']\n",
    "        if not title_series.empty and not categories_series.empty:\n",
    "            title = title_series.values[0]\n",
    "            categories = categories_series.values[0]\n",
    "            print(f\"Sách '{title}' (ID: {book_id}) với thể loại {categories}, Điểm tương đồng: {similarity_score:.4f}\")\n",
    "        else:\n",
    "            print(f\"Không tìm thấy sách với ID: {book_id}\") \n",
    "else:\n",
    "    print(\"Không có cuốn sách nào để gợi ý.\")\n"
   ]
  },
  {
   "cell_type": "code",
   "execution_count": null,
   "metadata": {},
   "outputs": [
    {
     "name": "stdout",
     "output_type": "stream",
     "text": [
      "Các thể loại mà người dùng 87 hứng thú:\n",
      "['Action', 'Thriller']: 4\n",
      "['Action']: 2\n",
      "['Action', 'Drama']: 2\n",
      "['Action', 'Drama', 'War']: 2\n",
      "['Action', 'Western']: 1\n",
      "['Action', 'Crime', 'Drama']: 1\n",
      "['Action', 'Adventure', 'Thriller']: 1\n",
      "['Action', 'Adventure', 'Sci-Fi']: 1\n",
      "['Action', 'Adventure', 'Comedy', 'Romance']: 1\n",
      "['Action', 'Sci-Fi', 'Thriller']: 1\n",
      "['Action', 'Adventure', 'Fantasy', 'Sci-Fi']: 1\n",
      "['Drama']: 1\n",
      "['Action', 'Adventure', 'Drama', 'Sci-Fi', 'War']: 1\n",
      "['Action', 'Adventure']: 1\n",
      "['Action', 'Comedy', 'Crime', 'Drama']: 1\n",
      "['Action', 'Sci-Fi']: 1\n",
      "['Action', 'Drama', 'Romance']: 1\n"
     ]
    }
   ],
   "source": [
    "import pandas as pd\n",
    "from collections import Counter\n",
    "\n",
    "def get_interested_genres(user_id, ratings_df, movies_df, min_rating=2):\n",
    "    user_ratings = ratings_df[(ratings_df['UserID'] == user_id) & (ratings_df['Rating'] >= min_rating)]\n",
    "    \n",
    "    user_movies = pd.merge(user_ratings, movies_df, on='MovieID')\n",
    "    \n",
    "    user_movies['Genres'] = user_movies['Genres'].fillna('') \n",
    "    user_movies['Genres'] = user_movies['Genres'].astype(str)  \n",
    "    \n",
    "    genres = user_movies['Genres'].str.split('|').sum() \n",
    "    \n",
    "    genre_counts = Counter(genres)\n",
    "    \n",
    "    interested_genres = genre_counts.most_common()\n",
    "    return interested_genres\n",
    "\n",
    "user_id = 87 \n",
    "interested_genres = get_interested_genres(user_id, ratings, movies)\n",
    "\n",
    "print(f\"Các thể loại mà người dùng {user_id} hứng thú:\")\n",
    "for genre, count in interested_genres:\n",
    "    print(f\"{genre}: {count}\")\n"
   ]
  },
  {
   "cell_type": "code",
   "execution_count": null,
   "metadata": {},
   "outputs": [
    {
     "name": "stdout",
     "output_type": "stream",
     "text": [
      "Danh sách UserID độc nhất:\n",
      "[5412, 5440, 368, 425, 4942, 4668, 2907, 2376, 3824, 5605, 4414, 5709, 5812, 285, 5491, 824, 349, 817, 3228, 4626, 5805, 4732, 1800, 3163, 1422, 5172, 2892, 5166, 58, 411, 3272, 2421, 1975, 1966, 5785, 3415, 1788, 4052, 4887, 3878, 2817, 5809, 288, 927, 4509, 1460, 4823, 1259, 5371, 1202, 1005, 5519, 2857, 3936, 4588, 2947, 3594, 5447, 4868, 4384, 3189, 4177, 5755, 3807, 5996, 889, 3919, 3605, 1958, 709, 869, 1121, 5458, 5702, 672, 2665, 1179, 3822, 4388, 982, 99, 3985, 1391, 1540, 6002, 3995, 1285, 1339, 2344, 832, 3044, 371, 4415, 3389, 5795, 2445, 5213, 2986, 4387, 3180, 5433, 3592, 3144, 5227, 5102, 1317, 738, 2919, 3359, 5643, 3976, 4592, 579, 3650, 215, 4139, 1613, 5039, 536, 4700, 3391, 678, 5891, 3503, 1015, 5560, 4007, 4416, 10, 5463, 5763, 4373, 4408, 4815, 5501, 5283, 5406, 18, 3841, 1051, 5089, 1254, 799, 3346, 3957, 1172, 4064, 2996, 1062, 667, 424, 1926, 1951, 854, 4169, 1919, 4506, 412, 2771, 170, 1184, 4066, 2348, 1390, 216, 2380, 5646, 752, 1496, 765, 3420, 4048, 5380, 2823, 1692, 4269, 1733, 3284, 3806, 1243, 696, 3768, 5488, 1999, 897, 3884, 3751, 5523, 4505, 5837, 2994, 4302, 5748, 5599, 4734, 5185, 1959, 998, 4918, 5591, 2599, 4252, 5684, 839, 3349, 3491, 4600, 1401, 3367, 4327, 277, 3471, 3087, 3371, 4858, 5333, 4535, 984, 4310, 1709, 5010, 710, 5419, 4193, 1242, 410, 1284, 2367, 4305, 5726, 3402, 2747, 3931, 533, 715, 635, 2105, 3963, 370, 3129, 5761, 1598, 5153, 225, 3292, 3031, 545, 2203, 3065, 5614, 1628, 3879, 5655, 1124, 2496, 3626, 1988, 931, 2840, 6040, 16, 5950, 2880, 1722, 5074, 950, 3691, 4851, 5494, 149, 1758, 713, 4573, 768, 1976, 4083, 273, 4471, 5947, 4333, 4021, 3916, 1794, 3529, 2411, 3967, 1010, 4213, 4078, 3589, 2946, 5627, 3979, 4543, 2726, 1820, 1571, 5831, 3526, 1769, 3741, 2689, 1333, 2037, 3482, 1004, 1389, 2854, 3252, 3847, 4260, 38, 1244, 2145, 6007, 777, 647, 2951, 3300, 549, 2963, 3648, 4725, 5912, 4789, 2089, 1594, 1477, 4404, 5339, 780, 1110, 5056, 3825, 5312, 2913, 3313, 402, 4353, 1611, 4009, 4904, 5034, 4409, 3283, 5408, 3621, 2489, 26, 3639, 2629, 1893, 887, 524, 5902, 4088, 2303, 3054, 3874, 1749, 5657, 2029, 1984, 5179, 5359, 1716, 2177, 5808, 5558, 2374, 591, 1419, 5402, 2607, 4658, 2921, 1168, 5649, 5854, 1017, 3424, 3675, 5557, 3672, 5957, 5718, 2323, 1150, 5548, 515, 3360, 3859, 4522, 3430, 712, 331, 2764, 4957, 2143, 474, 3053, 2098, 510, 3966, 5905, 4611, 3842, 198, 2830, 5654, 3550, 2635, 2321, 1737, 1272, 5043, 5753, 5042, 1912, 3105, 1806, 5848, 1882, 1407, 5569, 1586, 4964, 4568, 326, 3107, 639, 1842, 796, 1181, 2627, 4033, 2180, 3727, 453, 1880, 1125, 1021, 240, 5561, 2544, 1601, 3183, 5850, 3905, 4001, 3769, 4227, 539, 2251, 4771, 2238, 2507, 1274, 5287, 4956, 4312, 2674, 2106, 2874, 195, 1041, 6025, 5645, 3618, 4089, 53, 1142, 5158, 2808, 4015, 4888, 4447, 4182, 3454, 2353, 5881, 548, 3333, 340, 529, 1632, 1120, 2962, 3739, 2124, 4819, 4829, 5233, 725, 3514, 5641, 1383, 2926, 4110, 4742, 1587, 5246, 4234, 4354, 3600, 1169, 1378, 5570, 5679, 3414, 450, 2015, 1825, 1218, 3057, 3026, 1099, 1101, 5694, 846, 836, 5852, 4217, 4893, 4472, 5872, 237, 853, 3412, 3713, 409, 310, 4507, 1693, 2504, 329, 479, 5167, 258, 179, 5650, 2050, 1903, 1341, 224, 4152, 5536, 3518, 5954, 1518, 1083, 1019, 4857, 731, 3205, 4808, 4417, 42, 461, 2935, 4944, 3134, 5337, 1922, 1224, 5505, 1029, 4287, 4917, 3069, 3195, 899, 3229, 5105, 1736, 2387, 5575, 1714, 928, 2909, 3499, 554, 419, 3259, 3427, 3403, 1812, 726, 1182, 646, 5550, 2669, 5806, 532, 2953, 5364, 3970, 245, 3690, 3450, 687, 2170, 6012, 5349, 4608, 1229, 1335, 5451, 1593, 4445, 5403, 808, 355, 4024, 2589, 3720, 456, 4613, 1762, 513, 3012, 4016, 1198, 722, 2841, 4591, 531, 1584, 5634, 2756, 5664, 4448, 797, 2219, 3338, 5857, 11, 4502, 1845, 435, 2102, 3716, 466, 4663, 1698, 3174, 881, 5978, 3934, 5567, 2743, 3401, 1100, 550, 4165, 3327, 3812, 3941, 4647, 3598, 5251, 5843, 5511, 5277, 4898, 1724, 1466, 86, 4223, 1268, 5302, 4925, 5853, 2010, 2895, 5845, 1856, 1552, 5539, 4367, 2679, 1675, 3484, 4571, 1465, 3532, 3808, 1247, 5728, 5526, 3771, 801, 2176, 5070, 1447, 2878, 2064, 4375, 2340, 2727, 2446, 1790, 1165, 5496, 1483, 2131, 5619, 1455, 5584, 5296, 5473, 3182, 2038, 4748, 813, 3641, 3929, 5392, 1273, 482, 2096, 3476, 4750, 805, 2304, 3224, 2664, 5249, 1676, 2980, 5792, 1623, 2013, 750, 5801, 3208, 232, 157, 5911, 1304, 5878, 5369, 5742, 2940, 343, 1055, 5139, 5916, 5717, 4079, 577, 5920, 3793, 489, 4621, 5512, 596, 117, 1891, 3419, 166, 4899, 1671, 314, 4058, 3361, 494, 3712, 911, 5215, 3130, 4554, 4699, 2020, 204, 1316, 6036, 323, 1600, 1580, 3693, 4673, 2506, 4972, 2059, 2049, 2638, 1106, 1680, 1289, 3507, 6014, 2685, 3750, 1248, 4086, 2167, 4220, 4335, 689, 2583, 5128, 4140, 3271, 1609, 3630, 2528, 4277, 2643, 816, 4867, 2436, 24, 325, 1340, 5838, 4595, 2456, 3453, 2440, 5097, 4572, 5551, 4886, 2837, 156, 4422, 5556, 5497, 2593, 787, 2024, 1648, 518, 4318, 163, 4343, 416, 3246, 5321, 569, 2569, 3961, 5107, 4517, 3579, 5964, 818, 1647, 1164, 2202, 1605, 1688, 1040, 5323, 732, 1523, 1470, 5568, 906, 4901, 5752, 255, 302, 5340, 1866, 1904, 5117, 3729, 1356, 1797, 5498, 3334, 1060, 4469, 2239, 5015, 405, 4124, 565, 2480, 1819, 5352, 1032, 5769, 4785, 3551, 641, 3032, 3536, 634, 2091, 1160, 136, 2768, 2807, 3141, 1204, 2672, 2408, 1152, 2389, 1377, 2724, 2459, 5959, 6004, 2, 5394, 2537, 2910, 5849, 3999, 5623, 5492, 1997, 3311, 2200, 4688, 966, 588, 2590, 3422, 4534, 4042, 851, 711, 3258, 2410, 2655, 1479, 2555, 2109, 5475, 5103, 677, 4102, 3103, 654, 3958, 613, 4726, 3108, 560, 563, 2237, 303, 287, 4513, 5888, 1112, 3472, 1117, 2888, 4345, 269, 4790, 3815, 3280, 1752, 2526, 1759, 2592, 4150, 1408, 4566, 4219, 3582, 1245, 1835, 4014, 4959, 1666, 1225, 953, 1052, 2140, 4476, 2302, 1685, 1262, 3953, 4875, 5555, 929, 19, 4924, 1696, 4136, 3864, 4344, 850, 5254, 2147, 5113, 5525, 4147, 3483, 4027, 2641, 3718, 1132, 4167, 2899, 2800, 5411, 5524, 187, 1757, 5305, 338, 3951, 2073, 1091, 4659, 4482, 1634, 970, 1776, 4560, 307, 5255, 5108, 2280, 669, 2282, 2753, 5956, 5913, 3242, 2277, 705, 5421, 5754, 5651, 791, 5483, 5522, 3828, 5271, 1203, 5365, 3281, 2652, 1302, 3681, 5955, 5971, 1404, 3695, 1564, 4406, 1591, 1851, 6000, 3193, 1085, 5100, 47, 5099, 4950, 5367, 3081, 5909, 1607, 3853, 2451, 3687, 630, 1303, 631, 5929, 2484, 4412, 2787, 1058, 2731, 1027, 247, 3756, 3949, 504, 1420, 5603, 65, 2416, 1426, 2876, 1875, 5727, 601, 357, 5960, 5618, 949, 4802, 375, 5784, 4041, 3464, 1069, 2693, 1597, 5219, 3763, 1948, 4094, 1413, 1896, 4040, 5468, 2308, 4224, 1509, 5716, 3889, 2335, 5880, 62, 2072, 2900, 4399, 2355, 3945, 442, 566, 300, 2478, 3475, 4298, 3029, 730, 2174, 2967, 2427, 1151, 4425, 3614, 4370, 1695, 4640, 5689, 4446, 996, 3688, 1853, 3998, 169, 3178, 5840, 2462, 5991, 2786, 3001, 1602, 1141, 5356, 1681, 3568, 5528, 4690, 3219, 960, 1439, 623, 629, 451, 2955, 999, 5335, 800, 2006, 5077, 5636, 4890, 3380, 2351, 5998, 2824, 2225, 3558, 774, 2804, 4928, 119, 935, 262, 4238, 983, 3018, 1793, 2221, 3266, 2722, 3906, 3436, 3832, 3624, 1683, 3680, 1969, 4820, 757, 5797, 1699, 4022, 3489, 4270, 2584, 3834, 4807, 2626, 4508, 4291, 884, 3411, 6016, 2017, 1908, 5053, 5448, 5976, 3714, 4475, 660, 2287, 2338, 4567, 5811, 3158, 1071, 5974, 688, 5493, 1701, 509, 776, 4682, 638, 2862, 4199, 2493, 5687, 2606, 4546, 1300, 3782, 5148, 284, 2465, 4746, 1663, 5972, 4736, 4186, 3965, 4020, 1146, 4635, 2645, 4627, 4521, 1934, 305, 2021, 3562, 3850, 183, 3779, 5495, 3640, 4729, 1264, 2905, 52, 4181, 3922, 2798, 5735, 721, 2691, 2119, 645, 753, 301, 1860, 2205, 2918, 4026, 3635, 1054, 4099, 921, 4539, 919, 1446, 863, 4386, 130, 2194, 5229, 5054, 59, 3434, 2016, 2939, 4728, 3462, 1105, 4809, 3312, 4881, 5230, 17, 1963, 604, 1635, 5677, 4261, 5472, 3780, 4115, 1935, 1301, 5428, 333, 2468, 5884, 3974, 3013, 1183, 3942, 1500, 4212, 2567, 2529, 4731, 4257, 2031, 4786, 1068, 1199, 5824, 5026, 3121, 4428, 2186, 2455, 5678, 886, 1260, 2805, 5892, 2595, 3851, 1962, 4718, 5390, 702, 2395, 3534, 3294, 28, 3336, 5777, 4480, 5030, 1684, 1109, 3837, 666, 3059, 1088, 1533, 1050, 3537, 1974, 1503, 5470, 543, 5000, 2378, 1542, 1980, 5161, 595, 749, 4329, 1134, 4187, 243, 3709, 5942, 4055, 1358, 692, 877, 2784, 1780, 587, 1053, 2767, 34, 3340, 4897, 4279, 5707, 2227, 547, 334, 4034, 3902, 1592, 3062, 1767, 3664, 1329, 5318, 5397, 1550, 5667, 5111, 351, 4932, 4101, 5607, 5989, 4619, 446, 1764, 1596, 1034, 3187, 3697, 4374, 3694, 3260, 1641, 3072, 3610, 5578, 5683, 4093, 2620, 2863, 934, 3656, 5844, 1445, 193, 3748, 603, 770, 2896, 202, 3058, 2315, 4285, 5449, 2012, 5647, 4946, 620, 2538, 4760, 1035, 291, 4653, 5046, 2873, 5112, 5782, 2927, 4562, 5341, 3669, 2956, 2481, 4265, 1617, 4282, 4486, 1491, 1608, 4552, 5322, 5163, 2950, 5431, 744, 5504, 174, 1745, 5746, 4250, 5787, 1306, 4313, 956, 4380, 5187, 5182, 5306, 1077, 4456, 3625, 4062, 2217, 785, 5191, 1122, 1777, 756, 746, 3305, 1953, 2610, 1873, 3823, 975, 2624, 476, 3517, 256, 2820, 2362, 5326, 2276, 1417, 699, 4927, 2030, 2235, 4512, 1760, 2453, 2264, 4788, 593, 4236, 3030, 3400, 3860, 4796, 1022, 306, 1448, 107, 3285, 664, 5590, 5156, 5220, 4470, 3569, 1673, 5317, 5917, 973, 872, 3792, 3047, 2259, 5203, 3095, 2737, 4633, 3061, 656, 1084, 4161, 2608, 2192, 1546, 1704, 3868, 1486, 385, 3251, 5327, 3885, 4107, 2855, 6010, 4356, 5788, 2562, 3233, 1298, 6032, 2566, 463, 15, 4705, 3943, 1525, 3804, 139, 3226, 3576, 2777, 1194, 150, 4678, 2092, 4681, 697, 2976, 1220, 457, 3833, 445, 1778, 2810, 4005, 955, 1177, 4054, 2011, 4104, 4754, 281, 4407, 5238, 605, 208, 5621, 1921, 4579, 4977, 520, 5945, 1748, 1941, 218, 2916, 5926, 1836, 3331, 3169, 6017, 3098, 3, 4801, 4251, 2576, 4906, 1753, 3543, 4295, 3394, 5465, 5368, 4271, 3377, 5420, 2648, 1131, 1690, 2924, 348, 4229, 13, 3539, 1522, 1228, 3439, 5087, 1897, 5517, 2069, 5387, 101, 4153, 1461, 4821, 1532, 3611, 4113, 3606, 308, 5675, 1978, 4921, 3671, 2993, 1297, 737, 3248, 133, 3297, 3014, 4837, 3540, 3757, 2027, 1279, 2047, 5625, 4666, 5256, 1624, 1859, 1884, 4662, 2752, 1570, 496, 2052, 937, 2263, 1637, 374, 146, 1885, 2442, 1449, 5328, 1946, 4607, 1137, 4126, 5011, 3363, 3880, 5961, 2402, 3705, 3811, 1362, 4132, 264, 4122, 1418, 5037, 1096, 764, 4488, 3299, 2023, 5794, 2307, 724, 1381, 2682, 4323, 1805, 3011, 855, 4430, 3677, 165, 948, 5083, 4715, 3685, 3909, 4072, 1837, 4272, 454, 5676, 3470, 4908, 2617, 873, 4274, 389, 5924, 5195, 2861, 4498, 5871, 2088, 798, 4814, 3560, 4865, 2748, 5057, 743, 5963, 1320, 3647, 5720, 335, 2116, 5329, 5399, 5429, 2642, 6003, 879, 4844, 2796, 3512, 658, 3025, 2419, 4043, 406, 3399, 943, 1879, 1097, 108, 5779, 1452, 2041, 865, 2794, 3211, 3724, 4489, 1425, 837, 123, 3080, 1943, 5466, 2793, 2781, 5516, 1265, 1855, 1549, 3308, 242, 1074, 1710, 3513, 295, 3583, 5124, 4559, 1033, 1296, 477, 3118, 2696, 606, 2433, 4289, 3237, 3992, 135, 5980, 3599, 3510, 3067, 5065, 148, 820, 5789, 4361, 2683, 4195, 2609, 5771, 1369, 2868, 3106, 5780, 4948, 3265, 5733, 2970, 1906, 4116, 5938, 5966, 4381, 386, 376, 1409, 670, 5325, 3196, 5273, 2244, 3587, 2990, 1044, 3222, 5443, 5152, 1014, 4909, 2901, 100, 3887, 3268, 3393, 3449, 3698, 5553, 4174, 5002, 398, 649, 5740, 1066, 4902, 5353, 945, 4137, 802, 4095, 420, 3565, 1388, 4394, 663, 2211, 2934, 3821, 3892, 2988, 5289, 538, 3110, 2923, 470, 3114, 1817, 3452, 3445, 4484, 2639, 977, 4933, 4510, 4286, 4598, 1230, 2772, 5225, 5173, 1727, 2172, 2181, 4197, 337, 3243, 985, 2740, 1451, 4466, 480, 5834, 4395, 2334, 5482, 462, 2466, 296, 2054, 1139, 5887, 2898, 2231, 5450, 4364, 6011, 767, 4018, 4581, 1416, 1396, 2166, 1741, 2887, 372, 4346, 330, 1246, 2719, 4824, 1368, 1514, 194, 4149, 1639, 249, 3437, 4589, 2600, 987, 1343, 4835, 3588, 3370, 1207, 655, 2656, 1848, 5906, 888, 2832, 1321, 891, 5600, 3249, 4478, 3329, 4141, 1354, 1667, 268, 3898, 571, 685, 5299, 3715, 293, 1323, 5342, 5058, 993, 464, 495, 1093, 3652, 384, 309, 2826, 3416, 4490, 3615, 205, 954, 3844, 2621, 2915, 4038, 2776, 558, 4241, 1357, 3364, 5535, 235, 2129, 2818, 3676, 1013, 5532, 964, 1694, 4832, 4342, 5018, 612, 1200, 4704, 3796, 5222, 4530, 624, 2262, 4674, 988, 5663, 3217, 3024, 5767, 5724, 4173, 1645, 2284, 4624, 5418, 4768, 3557, 1415, 3572, 5456, 4531, 3423, 4860, 3197, 933, 4953, 5596, 676, 4804, 5518, 5722, 3486, 3135, 5282, 3151, 1484, 3679, 4779, 4156, 1960, 1899, 1847, 5452, 5749, 3882, 2938, 3209, 2178, 4892, 2199, 2700, 4984, 1577, 299, 1331, 1939, 4348, 3913, 1421, 5574, 1865, 4854, 706, 3487, 2761, 3778, 2265, 4520, 1219, 2598, 45, 1729, 3937, 4784, 3301, 5907, 3007, 914, 1954, 3314, 1968, 4685, 2101, 4309, 4284, 1361, 4965, 939, 1548, 3607, 4798, 3101, 3003, 5455, 4930, 2961, 4637, 3843, 4540, 1717, 2775, 4090, 2271, 1115, 5658, 3126, 5413, 3365, 517, 2164, 2439, 2815, 5827, 5033, 3546, 2746, 5775, 4724, 3474, 882, 403, 5915, 3005, 1430, 2008, 2870, 2409, 4889, 5940, 4831, 2877, 5376, 3320, 1102, 910, 573, 3355, 5048, 5630, 2742, 4053, 2765, 2659, 2242, 2350, 336, 1735, 4979, 244, 192, 4967, 5344, 1001, 3896, 4172, 915, 3341, 5268, 5744, 1153, 2223, 5313, 3356, 3066, 5530, 1087, 4461, 5543, 3261, 6037, 3410, 4368, 3783, 3501, 3184, 5565, 1505, 1833, 621, 1434, 5085, 1495, 875, 1687, 22, 674, 203, 2125, 651, 5060, 3099, 1128, 4382, 6021, 5588, 6035, 3113, 4962, 1803, 2332, 4590, 967, 4436, 2997, 2636, 3585, 1367, 2578, 2036, 3692, 3478, 2063, 2093, 2849, 4465, 556, 1863, 5977, 2415, 3140, 5529, 3721, 4576, 4453, 5946, 5142, 426, 3699, 4458, 4049, 4379, 5766, 3924, 70, 5140, 673, 33, 541, 5205, 5699, 5597, 5244, 736, 3653, 2969, 2104, 3717, 2198, 3020, 5791, 833, 2966, 2822, 1508, 2018, 5622, 4233, 1325, 1916, 1072, 5745, 1785, 822, 151, 4337, 3682, 5585, 2458, 5910, 272, 2272, 2749, 622, 1291, 103, 4127, 1937, 5502, 3773, 876, 4652, 3601, 5350, 1147, 553, 2085, 2342, 3831, 1755, 5386, 1348, 5542, 1530, 3754, 5096, 5267, 2258, 4578, 3982, 452, 3762, 3504, 792, 2134, 1697, 4330, 4708, 2783, 5624, 5286, 5943, 2943, 1995, 2077, 4077, 5875, 1463, 1579, 155, 186, 5757, 3515, 3654, 2195, 580, 2964, 5178, 4518, 4085, 4487, 5903, 137, 5836, 1392, 2581, 3855, 5389, 1314, 5583, 48, 1626, 4017, 5345, 4468, 1119, 4352, 5927, 4051, 3684, 2253, 1059, 4900, 422, 5197, 3566, 2368, 346, 4096, 2003, 4294, 5432, 5401, 2095, 2779, 219, 4774, 5949, 486, 2987, 1467, 1636, 5038, 2483, 3930, 4249, 2518, 3128, 618, 2522, 5361, 2327, 2068, 4437, 4766, 3279, 433, 4418, 890, 1261, 2668, 720, 748, 4960, 4834, 4981, 3683, 3488, 2680, 3829, 5141, 1831, 2247, 3651, 636, 2554, 2701, 2312, 4542, 3245, 2457, 392, 3547, 2148, 5422, 1190, 4604, 3655, 1894, 751, 4999, 6029, 3157, 438, 2144, 814, 861, 4671, 3990, 3509, 4467, 498, 1299, 3818, 4894, 5813, 3223, 4958, 3295, 4661, 1983, 4194, 5868, 1672, 4605, 4121, 4162, 922, 5434, 5867, 2587, 3084, 4996, 2392, 1949, 4541, 3432, 1149, 112, 739, 1965, 2149, 4828, 659, 4759, 3733, 4349, 2558, 794, 3376, 5778, 3201, 3993, 3154, 3575, 1196, 1193, 5580, 4800, 2503, 5378, 2246, 5826, 73, 3150, 3304, 5995, 4827, 4547, 3075, 2580, 2573, 2651, 3574, 4210, 4879, 1360, 5005, 279, 4255, 5050, 2949, 597, 270, 2165, 3755, 1689, 3728, 114, 788, 2622, 4117, 2431, 2846, 3131, 5547, 5741, 131, 4322, 3240, 1221, 1719, 5076, 116, 5969, 5698, 4473, 4125, 5545, 1821, 3056, 3473, 3704, 3147, 4360, 4599, 1751, 5581, 2745, 3051, 4907, 1582, 6018, 3799, 1450, 4780, 2769, 3700, 5885, 3907, 93, 5355, 1287, 1387, 5049, 3112, 3989, 3441, 5269, 5236, 3732, 637, 825, 4050, 2541, 3784, 3521, 754, 3997, 5022, 5362, 3627, 5275, 5150, 3010, 261, 4496, 2044, 4452, 4151, 4593, 1838, 1930, 3425, 2162, 583, 5480, 4148, 1712, 2153, 5260, 2133, 35, 1621, 5226, 282, 4369, 6023, 3920, 2889, 1952, 3408, 716, 5198, 2185, 5293, 2917, 5644, 4450, 690, 5194, 3210, 3981, 3381, 3888, 3033, 2619, 5265, 4128, 5393, 1516, 3781, 2130, 1498, 5084, 5347, 3390, 3662, 4076, 4855, 377, 1583, 1841, 1399, 4852, 3735, 3460, 1826, 5747, 695, 3274, 134, 1266, 5653, 3734, 74, 2432, 1374, 2952, 5209, 2266, 3191, 1612, 439, 4841, 5786, 3960, 2382, 3235, 429, 3143, 5292, 4687, 2393, 870, 1326, 1497, 2414, 981, 181, 3746, 2383, 4411, 5531, 918, 2475, 2551, 5930, 4164, 5604, 2071, 274, 2585, 3891, 5137, 4783, 5981, 2500, 1625, 4680, 2838, 3378, 759, 223, 3074, 1294, 4985, 5188, 1233, 3206, 1129, 5759, 2995, 5121, 189, 1682, 3686, 5948, 3749, 1746, 4701, 6006, 5143, 4721, 201, 3810, 2127, 5914, 5723, 4432, 2151, 925, 4500, 81, 319, 5520, 3603, 5366, 3479, 2847, 570, 5253, 4632, 2675, 2491, 390, 5257, 1871, 608, 763, 575, 4911, 1501, 4654, 1640, 1065, 3917, 3726, 1440, 3019, 3525, 1393, 5589, 3309, 2035, 3477, 4919, 848, 4087, 1397, 4711, 3123, 2404, 5441, 5162, 2026, 5682, 2498, 40, 5738, 30, 20, 3590, 1347, 1464, 6034, 5610, 5869, 4363, 3736, 2860, 5566, 3988, 3522, 228, 4134, 2254, 5815, 2346, 132, 2774, 590, 1140, 1322, 1981, 51, 926, 4204, 4160, 2533, 5601, 3519, 5611, 3444, 23, 2744, 505, 1723, 5704, 1650, 4675, 2663, 2175, 2215, 5009, 4939, 1658, 5223, 5069, 2422, 161, 5593, 4405, 1489, 1925, 488, 5438, 3658, 1931, 1155, 1402, 3418, 3814, 6026, 3358, 3332, 77, 4258, 2232, 5310, 5024, 493, 1535, 5484, 828, 3619, 4070, 352, 2795, 5839, 2420, 199, 4609, 1403, 1915, 2472, 5962, 448, 5732, 5629, 1770, 1255, 562, 3914, 182, 4481, 1527, 1328, 1049, 3871, 4882, 4523, 1973, 4618, 1427, 4377, 501, 4112, 2792, 1544, 5668, 3149, 2494, 4131, 3857, 3406, 5928, 3017, 1424, 2751, 4606, 2190, 4644, 5554, 5459, 4826, 278, 4371, 3085, 5131, 781, 2789, 2712, 3900, 1982, 5671, 2972, 1957, 930, 327, 2676, 755, 1365, 1560, 125, 5900, 5114, 5712, 2670, 2929, 1998, 528, 3207, 1679, 5861, 4973, 4738, 2942, 2306, 1947, 4410, 1012, 4028, 5250, 4339, 2146, 5309, 1705, 1791, 5192, 5706, 4215, 5013, 1854, 5151, 5592, 3352, 1581, 3469, 3816, 5967, 714, 3578, 1539, 4170, 2136, 4235, 1543, 1655, 1864, 6019, 1599, 4707, 5291, 1472, 2188, 4044, 173, 141, 61, 5095, 741, 3813, 1209, 2738, 653, 1643, 516, 104, 3561, 4923, 5919, 71, 4650, 3745, 2255, 78, 2051, 3052, 2852, 4816, 5925, 2320, 3946, 2057, 4000, 610, 1811, 845, 809, 1239, 5823, 3863, 2424, 4758, 56, 5856, 5382, 2611, 567, 36, 5691, 5101, 69, 3609, 2968, 97, 3511, 6015, 5886, 5297, 1890, 2103, 1861, 5701, 3198, 2605, 3459, 2634, 1435, 5372, 5266, 5847, 3848, 2460, 1649, 5898, 3342, 2649, 5098, 4168, 1911, 1824, 4603, 2561, 1706, 3766, 3214, 3456, 1996, 4037, 4951, 1130, 5252, 5841, 819, 2316, 3531, 2579, 806, 3049, 1338, 5300, 9, 1057, 1111, 2156, 260, 2548, 468, 4118, 5595, 5729, 3921, 1423, 5061, 3836, 4315, 957, 4030, 4403, 1159, 344, 3167, 3002, 968, 3908, 1208, 862, 2222, 4144, 2736, 396, 4994, 4440, 1376, 4916, 1557, 5680, 4438, 4459, 2279, 2715, 6020, 904, 5894, 3752, 3159, 3926, 3538, 3345, 1473, 1215, 2931, 3604, 3435, 4253, 1494, 4961, 1327, 175, 3148, 5001, 4328, 5460, 2960, 3665, 1618, 5952, 2998, 5686, 75, 880, 1644, 5290, 3971, 5477, 4171, 859, 5659, 4444, 129, 2834, 1086, 4577, 5241, 3006, 3413, 4657, 5620, 5126, 2709, 4240, 3307, 266, 823, 3220, 4703, 5485, 893, 347, 2090, 2289, 1344, 92, 980, 5807, 3426, 1561, 3935, 3645, 1642, 1162, 4435, 3612, 3972, 230, 2623, 2575, 4983, 5762, 795, 864, 188, 5071, 4585, 3172, 508, 2547, 3760, 5047, 5276, 5765, 1616, 4990, 1216, 4103, 82, 2001, 3571, 3337, 5248, 3328, 5044, 3775, 3903, 3689, 2564, 4114, 1336, 4765, 2007, 5832, 3194, 4976, 5409, 1457, 2313, 4451, 912, 5424, 1275, 2714, 4963, 1928, 1038, 5278, 297, 4455, 3940, 4655, 3791, 4179, 5804, 5798, 5016, 5129, 2396, 1167, 2324, 4092, 1490, 2218, 380, 3663, 3035, 2710, 5890, 3723, 5514, 3277, 4727, 2310, 826, 2288, 3039, 4097, 431, 909, 4457, 1765, 4454, 178, 4311, 1784, 4693, 2684, 661, 3231, 3622, 1589, 6009, 1541, 803, 3239, 5652, 693, 3185, 5395, 2079, 735, 1094, 871, 4679, 1545, 3156, 3433, 3620, 2426, 4483, 4357, 5862, 2448, 555, 867, 626, 2974, 4884, 4651, 437, 3000, 5958, 5324, 3040, 3125, 76, 4980, 4874, 5130, 2179, 4524, 5582, 1877, 4225, 1281, 5770, 3319, 46, 991, 485, 5170, 4845, 2788, 1443, 3374, 3638, 519, 4146, 3481, 5931, 5346, 25, 2754, 5090, 2241, 4060, 356, 1657, 5, 5177, 5184, 5937, 1927, 3505, 2770, 3290, 3041, 1528, 2718, 2485, 5540, 1113, 2864, 4336, 2371, 3580, 4071, 2171, 3463, 267, 4296, 1898, 5571, 430, 534, 4499, 5217, 4614, 5445, 1170, 1674, 2248, 1669, 4937, 3761, 5040, 98, 1064, 3830, 342, 895, 1878, 2138, 2859, 1073, 275, 102, 2730, 3520, 3827, 3872, 127, 1143, 2114, 3591, 3216, 5232, 5091, 4878, 4974, 3288, 434, 5135, 4532, 4190, 3996, 5830, 4610, 3386, 1286, 3485, 4222, 4183, 1241, 4870, 3045, 5673, 5082, 1513, 1380, 1531, 2825, 602, 5705, 286, 1492, 5425, 3213, 2631, 6001, 5176, 2275, 3835, 5489, 3199, 5968, 2201, 3839, 2298, 3137, 2975, 1726, 5544, 3466, 2365, 4793, 2377, 3442, 4237, 5734, 49, 3161, 4493, 68, 4747, 1920, 2397, 4351, 2366, 1547, 4601, 415, 1030, 4303, 1804, 1271, 5783, 1519, 844, 5212, 3097, 1721, 5025, 4359, 5893, 5513, 1889, 4023, 4155, 118, 760, 4954, 2019, 4091, 2067, 2189, 4514, 120, 4737, 27, 3339, 2604, 1056, 4063, 1238, 1661, 1359, 3204, 4288, 2928, 3048, 858, 1569, 2941, 707, 3629, 2883, 3548, 5573, 417, 3443, 4163, 2540, 2545, 1370, 5021, 615, 2449, 903, 965, 1872, 4856, 2871, 1567, 4129, 2301, 2309, 475, 115, 4123, 2120, 4527, 1631, 5023, 391, 4620, 2097, 2318, 4556, 2386, 5035, 990, 2060, 2937, 3093, 2686, 3116, 3138, 691, 2612, 5285, 5507, 4326, 2920, 3155, 3102, 3015, 2062, 3368, 936, 2872, 1292, 239, 5499, 4226, 5490, 3978, 1395, 4497, 2535, 3556, 2856, 241, 229, 2406, 3042, 4175, 1779, 3725, 4189, 1775, 1352, 3994, 1870, 1108, 4299, 5692, 868, 3296, 2070, 5138, 2229, 1858, 963, 3257, 5688, 487, 200, 4773, 312, 1991, 831, 5874, 3817, 3055, 5453, 2989, 2932, 1187, 1588, 3493, 1078, 1478, 1585, 5750, 542, 5405, 5615, 3955, 2733, 4035, 2173, 4362, 4859, 5714, 4390, 1063, 491, 366, 3819, 271, 2559, 4615, 3034, 361, 124, 4872, 1739, 4004, 321, 1502, 4846, 5858, 2603, 1910, 2082, 1312, 2299, 2269, 2212, 5396, 3968, 257, 585, 4639, 3770, 5612, 5264, 1630, 339, 2204, 4689, 5922, 4931, 640, 522, 2699, 2043, 449, 2773, 958, 3064, 1186, 1832, 499, 1161, 4397, 4812, 67, 3306, 3458, 662, 4281, 2616, 811, 1185, 2132, 473, 1474, 3910, 4243, 1843, 1551, 2428, 3596, 5538, 698, 1366, 2666, 3164, 652, 2126, 4575, 5816, 5426, 212, 5120, 3801, 2056, 4649, 3253, 2688, 4847, 191, 4477, 3506, 5032, 2750, 4818, 1796, 5414, 5693, 1371, 5301, 210, 1156, 2763, 2557, 972, 5214, 2965, 4617, 1595, 1293, 207, 1205, 14, 5690, 5201, 3177, 5661, 916, 1349, 5626, 2187, 582, 4341, 4975, 675, 3038, 4276, 4848, 1734, 5240, 2848, 5407, 4082, 143, 2142, 29, 598, 5576, 3738, 3790, 3109, 4838, 5774, 359, 521, 5263, 4120, 5180, 5279, 3409, 4188, 4426, 5951, 1562, 5648, 5889, 4628, 1315, 6005, 5155, 1972, 586, 1578, 5985, 251, 1901, 2802, 177, 1116, 5118, 401, 5896, 6030, 1818, 5020, 5923, 4031, 2492, 1180, 5086, 2099, 4806, 4915, 2155, 5982, 704, 4686, 478, 4709, 3742, 3417, 5146, 5036, 2434, 1263, 2261, 1018, 3286, 1016, 1659, 2022, 4645, 1482, 1332, 1214, 407, 3490, 959, 2168, 4306, 5721, 2525, 3528, 2814, 1938, 1346, 2630, 3747, 1176, 4698, 1089, 5193, 857, 4772, 1223, 3670, 643, 1590, 324, 5598, 2803, 113, 830, 4810, 5756, 4739, 2725, 5932, 1627, 2086, 4634, 557, 3553, 3188, 625, 2233, 5404, 5234, 3238, 1511, 2513, 3586, 2112, 1940, 1744, 4231, 4945, 946, 5332, 3865, 2512, 5109, 2477, 1047, 3983, 2429, 971, 2571, 4391, 5272, 810, 5029, 1708, 3078, 4935, 1330, 5454, 4643, 878, 3073, 3348, 5810, 3428, 3632, 708, 60, 1606, 5423, 4791, 4869, 2463, 1278, 4987, 5825, 1979, 1171, 5239, 1506, 4949, 2372, 3467, 5469, 2865, 3702, 4464, 4922, 2078, 259, 3457, 905, 1138, 2159, 3584, 3387, 2152, 5444, 176, 1629, 4511, 3366, 2885, 3608, 4670, 812, 4720, 2273, 3852, 1524, 4914, 4797, 584, 840, 3952, 2040, 3215, 2163, 1437, 1023, 1686, 142, 1905, 2519, 4069, 2379, 1950, 2821, 5665, 2369, 6039, 3494, 2721, 4293, 2713, 1799, 2702, 4393, 360, 317, 5939, 4526, 5092, 185, 717, 4762, 94, 3267, 4013, 2197, 3090, 2698, 5274, 3948, 2081, 1869, 2293, 5820, 2486, 96, 1000, 1104, 5295, 3498, 4536, 2734, 2317, 2403, 1098, 1517, 4334, 4691, 1433, 3661, 4861, 2829, 3845, 5462, 4433, 976, 4968, 5319, 2959, 3028, 1942, 217, 5803, 3082, 1932, 3145, 4849, 4569, 4324, 91, 3379, 5986, 4180, 1828, 3925, 4825, 2002, 481, 5235, 3227, 2394, 3776, 5270, 1175, 4735, 4745, 3862, 4002, 1342, 5764, 4763, 1468, 1876, 4630, 3973, 2904, 122, 3938, 4938, 4109, 2708, 4460, 3173, 4995, 2999, 1324, 3524, 3175, 1558, 4218, 617, 1031, 5211, 3351, 2511, 786, 3398, 6028, 21, 1020, 4479, 3323, 1909, 3318, 1874, 4756, 2454, 3100, 1174, 4863, 3181, 2121, 3465, 4366, 2352, 5851, 5081, 594, 1887, 5908, 4683, 1, 147, 1718, 2331, 2760, 3142, 6038, 3096, 3046, 3923, 5080, 5316, 1353, 2681, 1834, 5200, 1067, 530, 4853, 3947, 3861, 5311, 4283, 3643, 2322, 5437, 3497, 2812, 849, 2495, 2778, 1400, 2577, 2110, 2025, 762, 3722, 4441, 2594, 1145, 5288, 50, 4631, 1444, 3886, 1563, 4389, 5638, 5334, 2228, 734, 4564, 4761, 3707, 3190, 5385, 1678, 2536, 3820, 2568, 2243, 1656, 5190, 2552, 2806, 3383, 63, 5383, 1822, 5017, 1575, 537, 4781, 3613, 3856, 1135, 1839, 5242, 88, 1475, 2118, 3846, 5435, 793, 761, 5374, 1308, 5617, 5594, 2831, 2286, 3696, 2944, 4492, 1442, 1868, 5358, 3438, 423, 4839, 807, 4308, 3577, 3421, 2084, 4616, 5127, 718, 2224, 3895, 1481, 2076, 4905, 2042, 31, 2214, 5199, 874, 5616, 2597, 995, 3192, 4989, 4185, 5506, 1227, 1807, 5245, 2270, 2757, 4998, 6013, 4813, 2347, 2574, 263, 4084, 4401, 2633, 728, 2053, 5348, 4133, 1166, 214, 2333, 4392, 90, 6033, 4583, 5776, 469, 5208, 2461, 1816, 5829, 4006, 1037, 2673, 2399, 3737, 4111, 3673, 3263, 1556, 2115, 3785, 79, 4840, 4378, 4347, 3225, 5508, 3564, 2343, 4259, 5818, 4596, 1232, 2391, 388, 5410, 1103, 5965, 2591, 369, 2799, 1961, 611, 2438, 4463, 5631, 3291, 1773, 3262, 4245, 2654, 1191, 3703, 3111, 4941, 2157, 397, 1840, 2501, 3901, 4769, 5261, 2692, 2122, 1917, 2240, 3858, 883, 3563, 4792, 3927, 5510, 3840, 3731, 4584, 3171, 4550, 5027, 4538, 3873, 5078, 2835, 3597, 1750, 986, 5846, 1411, 4992, 1914, 2801, 4597, 5642, 4934, 500, 379, 4697, 2851, 1123, 3602, 3708, 924, 4383, 3166, 3701, 5169, 2523, 5572, 1677, 2236, 2809, 1476, 2890, 1622, 671, 1662, 5064, 3139, 354, 4067, 3527, 2596, 190, 5672, 3628, 4833, 2515, 4864, 3316, 679, 1211, 2048, 2728, 506, 4940, 3008, 2985, 44, 5990, 576, 2780, 2370, 2161, 3255, 4778, 4757, 4706, 4885, 4300, 144, 1039, 2869, 1026, 5206, 363, 3070, 1114, 5019, 2032, 4866, 3353, 5883, 4504, 3094, 4557, 2311, 4424, 564, 2292, 1801, 111, 2230, 2319, 1431, 5284, 444, 3674, 1768, 1127, 2444, 5228, 4602, 5700, 1730, 2973, 1924, 3302, 913, 5464, 238, 3203, 2912, 5008, 1691, 3322, 1603, 1852, 3881, 969, 2716, 4752, 5997, 5973, 5377, 4019, 2505, 2732, 5670, 3179, 3774, 551, 443, 5258, 5164, 1707, 4795, 2107, 5059, 4903, 2565, 2117, 2844, 4549, 5715, 3541, 2294, 1660, 923, 2711, 2790, 3740, 2169, 2256, 5983, 3897, 5210, 2720, 3146, 932, 3079, 95, 4032, 2520, 3786, 4920, 3533, 4262, 1829, 1761, 2028, 3092, 289, 4036, 2632, 1985, 5793, 1480, 5487, 3091, 2850, 43, 2866, 1028, 3899, 483, 2903, 4061, 4376, 5123, 4350, 1738, 2000, 4011, 3890, 682, 5897, 2158, 1173, 5796, 2572, 5281, 472, 5063, 2628, 978, 514, 1095, 2487, 4207, 4319, 5446, 4203, 85, 3127, 5710, 2300, 3542, 5821, 3407, 701, 5751, 5509, 5196, 727, 5315, 1441, 772, 4755, 815, 1002, 885, 1977, 2553, 4176, 2695, 5007, 3666, 5003, 4561, 4777, 3932, 1453, 2979, 892, 4988, 5294, 400, 5481, 1703, 2337, 2425, 4910, 1743, 2066, 908, 5136, 167, 789, 2640, 3593, 5537, 3744, 211, 5549, 742, 1471, 1614, 2400, 2405, 2209, 110, 4280, 1006, 2349, 1222, 4242, 4565, 5051, 852, 3826, 4822, 2213, 3326, 2464, 109, 4656, 1945, 902, 4320, 3758, 723, 4714, 1008, 5758, 3573, 628, 1107, 3241, 4533, 5768, 838, 4338, 4664, 2678, 4558, 5879, 5987, 2729, 5075, 2033, 3555, 4029, 2766, 4665, 1499, 236, 4200, 4843, 3516, 2360, 3468, 4580, 4449, 4206, 2004, 362, 4012, 4321, 5415, 544, 2452, 4830, 2707, 4039, 5439, 4232, 4767, 4211, 80, 843, 3315, 5079, 2521, 418, 3119, 3678, 856, 373, 4239, 2326, 5737, 5933, 3631, 1024, 145, 2479, 233, 3866, 2703, 2517, 350, 6027, 3789, 4130, 5730, 5041, 2945, 1881, 3343, 404, 1742, 2388, 2661, 3876, 2193, 4485, 4214, 5171, 2407, 2249, 2208, 1970, 4749, 5186, 4201, 1888, 951, 3063, 160, 2005, 290, 2080, 4205, 4184, 5736, 184, 2061, 265, 5122, 2882, 3202, 648, 1725, 1042, 3986, 2811, 3730, 1253, 1902, 1379, 1414, 5165, 1633, 2290, 940, 2658, 1786, 2398, 2625, 747, 3357, 1944, 3250, 3549, 4501, 1802, 3270, 1252, 733, 1895, 1345, 3617, 6022, 2100, 4587, 5133, 2305, 3939, 3043, 2867, 3120, 2542, 3429, 220, 2978, 616, 4135, 680, 322, 222, 2694, 4268, 1133, 1375, 2914, 847, 829, 1538, 3849, 4862, 758, 1850, 1809, 1079, 1510, 790, 2417, 1971, 920, 3200, 4198, 5132, 1487, 4429, 2267, 4145, 769, 1747, 894, 3077, 4770, 4710, 1559, 4443, 1231, 4716, 2906, 5331, 3492, 5895, 1740, 1670, 5442, 3088, 1732, 1036, 1436, 2474, 2546, 3904, 4753, 5613, 4733, 2618, 526, 778, 5145, 842, 84, 1410, 2206, 2922, 4636, 280, 4307, 4355, 1061, 2390, 3050, 180, 4877, 3567, 1815, 2550, 3798, 3616, 5486, 5632, 4551, 413, 942, 2296, 3027, 378, 83, 2467, 2058, 3657, 1493, 1808, 2359, 126, 684, 1295, 5067, 779, 1373, 3956, 1781, 2893, 3230, 4713, 2563, 1428, 952, 3232, 4372, 3915, 1555, 5979, 4419, 2647, 5157, 2957, 4717, 2508, 2065, 962, 1206, 490, 2785, 3086, 4290, 4314, 4978, 3991, 2281, 5457, 2936, 1256, 2330, 121, 5479, 5503, 3767, 2782, 3772, 546, 3004, 2473, 2741, 2191, 821, 471, 5360, 3668, 2435, 1003, 1188, 1267, 4385, 3637, 3388, 2196, 4842, 729, 4256, 1090, 5093, 316, 3805, 2045, 1240, 5882, 4138, 4642, 3036, 4292, 5430, 3023, 2039, 1792, 3559, 1082, 4264, 4098, 440, 1118, 5662, 4722, 2530, 2437, 3168, 4266, 961, 3375, 2739, 4966, 5363, 5719, 4993, 72, 1288, 5674, 4396, 3570, 1956, 5697, 599, 627, 4982, 3480, 3136, 3759, 552, 2602, 3362, 57, 4629, 1798, 4196, 1081, 1992, 3124, 5014, 4794, 1702, 2839, 4803, 12, 4080, 432, 5992, 3530, 3244, 2948, 4494, 3711, 3523, 4570, 4515, 5773, 1235, 4358, 2894, 5708, 3384, 3502, 4297, 2827, 2586, 4782, 4046, 2816, 5125, 1405, 4741, 4119, 436, 4744, 2983, 3132, 1276, 3544, 5303, 1529, 3397, 5314, 5031, 4317, 3162, 2412, 3335, 3710, 5864, 766, 827, 5379, 5935, 1504, 2499, 209, 3854, 87, 2637, 994, 644, 1576, 2401, 5298, 5552, 4248, 5711, 2418, 3115, 1290, 5134, 5202, 4696, 2139, 3634, 1827, 248, 5534, 4625, 5094, 2836, 860, 3554, 106, 5388, 4059, 5357, 1883, 1148, 1076, 4003, 783, 2476, 568, 3022, 4836, 5781, 5639, 4676, 1319, 2111, 1355, 1364, 5669, 246, 5343, 1766, 5637, 1189, 619, 41, 3317, 3795, 4247, 668, 5224, 3809, 2113, 1652, 4273, 2897, 5988, 1251, 4100, 657, 5609, 3636, 1664, 5471, 253, 4209, 2423, 3293, 5563, 4316, 5743, 399, 1936, 1756, 1654, 3344, 3623, 467, 4263, 2762, 5953, 1565, 2881, 4491, 2283, 2471, 4402, 1536, 1933, 4641, 5999, 5587, 4776, 5062, 408, 2886, 4434, 3595, 3894, 4045, 2358, 3298, 1646, 1217, 5628, 231, 4694, 1045, 5262, 5994, 1163, 4191, 162, 944, 1311, 2250, 2828, 4677, 2210, 414, 989, 5398, 898, 5351, 3987, 2216, 206, 609, 3347, 2891, 2108, 3276, 3448, 3719, 5521, 4105, 2954, 2291, 4108, 1620, 332, 1715, 3975, 1386, 3869, 2588, 2524, 3289, 1554, 2671, 1310, 3803, 3980, 2797, 154, 5045, 3912, 2450, 561, 947, 3644, 4267, 2046, 2354, 2614, 5800, 4850, 4442, 2514, 1458, 3321, 2278, 2441, 298, 3170, 3984, 5562, 5375, 5183, 382, 681, 2226, 3256, 3369, 32, 3275, 2509, 581, 328, 2497, 2977, 1653, 5354, 3552, 455, 5207, 3870, 4574, 252, 5975, 2615, 5876, 1398, 5066, 1372, 3777, 694, 2723, 1269, 3944, 4462, 341, 8, 1886, 633, 632, 4528, 1619, 2083, 5527, 387, 5461, 254, 5533, 1987, 196, 5189, 5993, 700, 428, 5436, 304, 315, 2482, 276, 535, 5713, 4947, 896, 1488, 427, 4876, 1507, 2252, 5055, 782, 525, 381, 2570, 1572, 5921, 2160, 4157, 5308, 3236, 2137, 3962, 5237, 2813, 4986, 3395, 703, 5873, 1830, 4730, 1846, 55, 4817, 1337, 2009, 1313, 5028, 3071, 5307, 1857, 600, 2094, 1126, 4154, 5231, 2274, 3373, 4952, 2858, 4719, 5216, 2556, 5154, 1270, 1795, 4648, 4991, 172, 2601, 835, 3794, 4582, 152, 5006, 3660, 614, 1814, 2879, 5822, 1534, 5068, 3743, 3117, 5370, 6008, 5633, 1728, 5934, 3581, 4423, 3659, 2128, 2245, 5144, 2490, 3385, 2469, 2184, 4427, 665, 2055, 3212, 1226, 1210, 3083, 4612, 3535, 2843, 5546, 5586, 2842, 974, 5106, 460, 1212, 2447, 5218, 2933, 3405, 1989, 393, 4413, 3153, 3396, 5681, 1711, 3089, 4883, 1782, 4672, 1520, 5602, 5391, 1048, 1521, 4563, 5640, 2297, 1955, 3269, 37, 3788, 1638, 2413, 4047, 3431, 3649, 2314, 159, 1213, 4301, 4880, 1456, 5870, 4439, 804, 1350, 5936, 4702, 5119, 2759, 283, 1257, 4, 1236, 3287, 2034, 1862, 158, 4304, 5147, 1412, 1009, 784, 5417, 4073, 2364, 1610, 3496, 4555, 2075, 3893, 2527, 5855, 1566, 5860, 164, 5149, 1700, 503, 2182, 1280, 2285, 578, 4929, 1668, 458, 5739, 3508, 5904, 3218, 1772, 4997, 3021, 1810, 4246, 1351, 4943, 3037, 4057, 4955, 3122, 3838, 1305, 140, 1573, 1900, 2660, 4891, 5559, 3278, 2154, 4787, 6024, 5330, 1789, 1070, 2853, 2381, 1158, 4895, 1990, 3350, 5865, 4969, 5381, 4805, 138, 4142, 607, 5204, 1907, 3706, 1462, 105, 1382, 1771, 2361, 168, 5577, 3282, 4926, 3104, 3447, 3787, 572, 5004, 5877, 1192, 5819, 3883, 2339, 4553, 6, 5416, 2510, 1309, 4275, 5703, 2123, 1136, 2791, 1237, 2539, 1731, 3404, 3964, 5073, 1615, 1178, 2613, 3310, 1429, 4936, 2875, 834, 4244, 3330, 2328, 5984, 540, 459, 4740, 5338, 1787, 2653, 313, 1334, 2650, 4545, 3009, 4764, 4775, 5116, 3954, 1783, 4400, 2150, 395, 492, 3933, 3451, 5859, 2295, 3753, 574, 358, 2992, 4529, 1515, 5478, 5635, 866, 5814, 1929, 507, 1454, 511, 1713, 3800, 2560, 1485, 1813, 5833, 4623, 2911, 5842, 512, 2257, 3176, 997, 1918, 4228, 1154, 2260, 345, 4913, 4638, 901, 394, 465, 2971, 719, 4743, 4799, 2925, 5159, 3060, 4068, 3875, 979, 2341, 4684, 2755, 3918, 2363, 2697, 2141, 3372, 941, 2646, 2329, 2582, 2384, 5181, 2662, 4143, 1011, 5835, 5247, 3461, 5500, 197, 4594, 367, 2356, 4723, 3646, 3633, 1406, 5970, 1665, 1823, 5606, 1201, 2220, 2430, 5110, 3446, 3440, 5373, 1553, 4178, 1046, 353, 745, 1277, 4159, 3667, 364, 5944, 4216, 3545, 775, 4420, 5104, 3016, 3802, 5802, 4519, 1385, 1986, 1913, 311, 1195, 523, 2657, 4075, 1459, 2516, 1754, 2884, 4537, 5541, 318, 771, 2984, 1923, 447, 5160, 4544, 917, 4971, 4208, 4254, 4056, 54, 992, 5696, 39, 900, 773, 1438, 4548, 5790, 1574, 5918, 4106, 5899, 5427, 1283, 4669, 2488, 2758, 3382, 2207, 5474, 128, 153, 2958, 5168, 2502, 1384, 4516, 3911, 4692, 171, 1469, 497, 3392, 592, 3765, 441, 2135, 1651, 1537, 2345, 4158, 5072, 2532, 5656, 841, 1092, 2443, 4166, 3950, 5476, 4221, 2706, 2074, 292, 5467, 2534, 3234, 4340, 4474, 2833, 2014, 1075, 1432, 4712, 5304, 589, 4873, 1512, 1258, 5088, 4421, 383, 1043, 1892, 7, 5175, 2268, 4074, 2183, 3165, 1967, 4660, 650, 1994, 2991, 4970, 3221, 3969, 4331, 4202, 5866, 5280, 2336, 1249, 907, 221, 5660, 484, 2902, 1964, 2375, 5115, 4081, 1080, 2845, 5731, 2531, 3264, 5320, 4667, 1568, 5400, 5259, 5941, 294, 3928, 2373, 3133, 5725, 5515, 320, 1250, 1157, 4431, 527, 4278, 64, 3764, 2087, 1526, 2549, 5221, 1007, 1604, 5174, 2234, 2981, 2677, 4912, 5564, 686, 1774, 5799, 5243, 3076, 5772, 2667, 2704, 4811, 2735, 3500, 4025, 1144, 2470, 3160, 6031, 4896, 4751, 5666, 3642, 5817, 4010, 3354, 4495, 5760, 5579, 4230, 1282, 4586, 2385, 1763, 740, 365, 4695, 5608, 1318, 3254, 3455, 226, 2325, 2930, 3797, 5384, 1363, 2690, 3324, 559, 5901, 4871, 2705, 3152, 250, 3977, 3247, 1720, 3273, 3959, 4503, 1307, 1993, 1394, 3068, 1025, 5828, 5863, 1234, 1867, 5685, 4646, 2357, 5695, 4008, 4525, 3867, 3325, 3877, 4192, 227, 4365, 3495, 3186, 421, 4325, 2687, 234, 2819, 5336, 938, 1197, 213, 2908, 2717, 4622, 5012, 5052, 4398, 89, 683, 2644, 1849, 502, 2543, 642, 2982, 4332, 66, 4065]\n"
     ]
    }
   ],
   "source": [
    "user_ids = test['UserID'].unique().tolist()\n",
    "\n",
    "print(\"Danh sách UserID độc nhất:\")\n",
    "print(user_ids)\n"
   ]
  },
  {
   "cell_type": "code",
   "execution_count": null,
   "metadata": {},
   "outputs": [
    {
     "name": "stdout",
     "output_type": "stream",
     "text": [
      "Danh sách 1000 UserID ngẫu nhiên:\n",
      "[2531, 1959, 4930, 280, 1462, 3323, 678, 3215, 3644, 4411, 4299, 3994, 2606, 2006, 1407, 5240, 839, 4394, 2341, 1499, 5866, 2240, 4948, 5231, 429, 2561, 2793, 2057, 4003, 249, 405, 1020, 2929, 944, 3691, 3156, 4461, 2610, 1380, 3540, 1123, 5545, 4206, 2833, 2377, 2732, 3049, 6026, 820, 4170, 5990, 2626, 19, 4251, 3475, 772, 4711, 4161, 4475, 1598, 4348, 587, 5014, 3468, 3375, 4259, 840, 2665, 579, 2243, 2192, 817, 4911, 4116, 1296, 1213, 5633, 724, 3113, 3699, 1330, 1964, 269, 4019, 1455, 5653, 3954, 4778, 2139, 4154, 4150, 651, 4083, 2084, 3470, 1172, 3760, 397, 1357, 1452, 4756, 3355, 1190, 2753, 2404, 2532, 1470, 3452, 3066, 4607, 106, 4776, 4291, 1546, 2079, 1430, 3070, 357, 2569, 2711, 1711, 442, 1035, 4770, 4803, 44, 3245, 4639, 1042, 1265, 3706, 5911, 1645, 425, 1191, 4156, 1822, 5456, 2120, 5008, 960, 3564, 3650, 3948, 5160, 2296, 5297, 736, 696, 3345, 40, 1460, 1229, 3446, 4425, 2743, 1166, 3874, 2565, 3692, 1617, 3297, 1878, 1388, 4781, 2399, 4813, 3483, 5720, 565, 2185, 195, 4162, 1720, 1728, 2694, 1467, 2289, 3786, 5980, 3031, 3293, 1292, 5677, 4293, 5643, 2988, 4943, 2887, 311, 3591, 1473, 463, 1732, 855, 5207, 4563, 3982, 2280, 3969, 3240, 2849, 38, 4972, 1345, 2654, 4624, 3939, 1170, 5815, 4969, 5967, 643, 644, 5210, 1764, 4147, 489, 2330, 4953, 4255, 2033, 4323, 1057, 2701, 1972, 2618, 3204, 1144, 4662, 1400, 2190, 1893, 1604, 4716, 5803, 5921, 2165, 3181, 5153, 1883, 1289, 1476, 5157, 2736, 3952, 639, 656, 1097, 2119, 1805, 4882, 3831, 1372, 719, 1552, 4947, 552, 1036, 2111, 1259, 5817, 2001, 3410, 5093, 1788, 1416, 1028, 616, 4728, 4733, 4817, 5028, 1060, 1202, 4366, 5282, 2187, 4107, 1024, 1119, 3451, 5150, 845, 2485, 2965, 2406, 5116, 70, 162, 3959, 3583, 4410, 5850, 4936, 4053, 1386, 388, 599, 3301, 5154, 2194, 302, 5926, 3166, 3479, 950, 5630, 3331, 5757, 740, 5560, 2056, 1046, 3727, 2521, 1216, 5388, 3140, 844, 2980, 341, 3407, 2104, 5988, 570, 5527, 890, 1879, 2848, 85, 5808, 2292, 715, 5557, 5289, 5180, 4617, 1864, 3389, 3053, 4100, 4, 4610, 4713, 4527, 1923, 145, 5225, 1688, 51, 3828, 5953, 949, 1465, 3298, 3117, 5462, 5890, 257, 3489, 3910, 1689, 1533, 2426, 1958, 5887, 1274, 2078, 3906, 2854, 3284, 2334, 1300, 2880, 4393, 1182, 4302, 2345, 5893, 2923, 3912, 5847, 1559, 3927, 1754, 5870, 4409, 4276, 770, 1589, 5135, 5520, 2207, 3684, 4359, 1521, 5739, 4504, 2638, 4730, 4555, 5923, 5284, 2746, 2666, 161, 1952, 5090, 1955, 4471, 1054, 4650, 2390, 2821, 2263, 158, 5042, 5982, 3826, 825, 3709, 4054, 702, 5853, 3599, 5671, 1079, 193, 4735, 3098, 4465, 5271, 4804, 5477, 4266, 3025, 5421, 5492, 94, 5541, 4846, 716, 4879, 3471, 2644, 4121, 5122, 1736, 4592, 1601, 4658, 3759, 4277, 3335, 5363, 4881, 2267, 2787, 4674, 5471, 462, 4518, 2838, 1921, 3024, 528, 182, 4245, 163, 2440, 272, 596, 3739, 3061, 3656, 1747, 4160, 2421, 1517, 2144, 3530, 1390, 5184, 6031, 2397, 2728, 3011, 1174, 4146, 5359, 1576, 3386, 691, 4227, 3039, 5942, 2820, 4633, 1136]\n"
     ]
    }
   ],
   "source": [
    "import random\n",
    "\n",
    "user_ids_sample = random.sample(user_ids, 500)\n",
    "user_ids = user_ids_sample\n",
    "print(\"Danh sách 1000 UserID ngẫu nhiên:\")\n",
    "print(user_ids)\n"
   ]
  },
  {
   "cell_type": "code",
   "execution_count": null,
   "metadata": {},
   "outputs": [
    {
     "name": "stdout",
     "output_type": "stream",
     "text": [
      "Overall Precision: 0.0182\n",
      "Overall Recall: 0.005435107208982859\n",
      "Overall F1-score: 0.00837051004921124\n",
      "Overall MSE: 0.877522480008134\n",
      "Overall RMSE: 0.9367616986235795\n",
      "Overall MAE: 0.741880926062186\n"
     ]
    }
   ],
   "source": [
    "import numpy as np\n",
    "\n",
    "total_tp = 0  # Tổng số True Positives\n",
    "total_fp = 0  # Tổng số False Positives\n",
    "total_fn = 0  # Tổng số False Negatives\n",
    "total_squared_error = 0  # Tổng bình phương sai số\n",
    "total_absolute_error = 0  # Tổng sai số tuyệt đối\n",
    "total_predictions = 0  # Tổng số dự đoán được sử dụng cho MSE, RMSE, MAE\n",
    "\n",
    "\n",
    "for user_id in user_ids:\n",
    "\n",
    "    actual_books = test[test['UserID'] == user_id][['MovieID', 'Rating']].values.tolist()\n",
    "    \n",
    "    suggested_books = recommend_books(user_id, top_k=10) \n",
    "    \n",
    "    actual_dict = dict(actual_books)\n",
    "    \n",
    "    suggested_book_ids = set([book_id for book_id, _ in suggested_books])\n",
    "    actual_book_ids = set([book_id for book_id, _ in actual_books])\n",
    "\n",
    "    # TP (True Positives), FP (False Positives) và FN (False Negatives) cho use hiện tại\n",
    "    tp = len(suggested_book_ids.intersection(actual_book_ids))\n",
    "    fp = len(suggested_book_ids - actual_book_ids)\n",
    "    fn = len(actual_book_ids - suggested_book_ids)\n",
    "    \n",
    "    total_tp += tp\n",
    "    total_fp += fp\n",
    "    total_fn += fn\n",
    "\n",
    "    # MSE, RMSE, MAE\n",
    "    for book_id, predicted_score in suggested_books:\n",
    "        if book_id in actual_dict:\n",
    "            actual_score = actual_dict[book_id]\n",
    "            total_squared_error += (actual_score - predicted_score) ** 2\n",
    "            total_absolute_error += abs(actual_score - predicted_score)\n",
    "            total_predictions += 1\n",
    "\n",
    "precision = total_tp / (total_tp + total_fp) if (total_tp + total_fp) > 0 else 0\n",
    "recall = total_tp / (total_tp + total_fn) if (total_tp + total_fn) > 0 else 0\n",
    "f1_score = (2 * precision * recall) / (precision + recall) if (precision + recall) > 0 else 0\n",
    "\n",
    "mse = total_squared_error / total_predictions if total_predictions > 0 else 0\n",
    "rmse = np.sqrt(mse)\n",
    "mae = total_absolute_error / total_predictions if total_predictions > 0 else 0\n",
    "\n",
    "print(\"Overall Precision:\", precision)\n",
    "print(\"Overall Recall:\", recall)\n",
    "print(\"Overall F1-score:\", f1_score)\n",
    "print(\"Overall MSE:\", mse) \n",
    "print(\"Overall RMSE:\", rmse)\n",
    "print(\"Overall MAE:\", mae)\n"
   ]
  }
 ],
 "metadata": {
  "kernelspec": {
   "display_name": "Python 3",
   "language": "python",
   "name": "python3"
  },
  "language_info": {
   "codemirror_mode": {
    "name": "ipython",
    "version": 3
   },
   "file_extension": ".py",
   "mimetype": "text/x-python",
   "name": "python",
   "nbconvert_exporter": "python",
   "pygments_lexer": "ipython3",
   "version": "3.11.4"
  }
 },
 "nbformat": 4,
 "nbformat_minor": 2
}
